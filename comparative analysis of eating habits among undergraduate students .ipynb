{
 "cells": [
  {
   "cell_type": "code",
   "execution_count": 1,
   "id": "c2e81da4",
   "metadata": {},
   "outputs": [],
   "source": [
    "import pandas as pd\n",
    "import matplotlib.pyplot as plt\n",
    "import seaborn as sns "
   ]
  },
  {
   "cell_type": "code",
   "execution_count": 2,
   "id": "fb7c1940",
   "metadata": {},
   "outputs": [],
   "source": [
    "df=pd.read_excel('eating habit.xlsx')"
   ]
  },
  {
   "cell_type": "code",
   "execution_count": 3,
   "id": "c1512312",
   "metadata": {},
   "outputs": [
    {
     "data": {
      "text/html": [
       "<div>\n",
       "<style scoped>\n",
       "    .dataframe tbody tr th:only-of-type {\n",
       "        vertical-align: middle;\n",
       "    }\n",
       "\n",
       "    .dataframe tbody tr th {\n",
       "        vertical-align: top;\n",
       "    }\n",
       "\n",
       "    .dataframe thead th {\n",
       "        text-align: right;\n",
       "    }\n",
       "</style>\n",
       "<table border=\"1\" class=\"dataframe\">\n",
       "  <thead>\n",
       "    <tr style=\"text-align: right;\">\n",
       "      <th></th>\n",
       "      <th>Class</th>\n",
       "      <th>Age</th>\n",
       "      <th>I avoid eating when am hungry</th>\n",
       "      <th>I cut my food into small pieces</th>\n",
       "      <th>I particularly avoid food with high carbonhydrate(bread,rice,potatoes etc)</th>\n",
       "      <th>I take longer time than others to eat my meals</th>\n",
       "      <th>I avoid food and drink with sugar content</th>\n",
       "      <th>I like my stomach empty</th>\n",
       "      <th>I fast to avoid eating</th>\n",
       "    </tr>\n",
       "  </thead>\n",
       "  <tbody>\n",
       "    <tr>\n",
       "      <th>0</th>\n",
       "      <td>1</td>\n",
       "      <td>14</td>\n",
       "      <td>Always</td>\n",
       "      <td>Always</td>\n",
       "      <td>Always</td>\n",
       "      <td>Always</td>\n",
       "      <td>Always</td>\n",
       "      <td>Always</td>\n",
       "      <td>Always</td>\n",
       "    </tr>\n",
       "    <tr>\n",
       "      <th>1</th>\n",
       "      <td>1</td>\n",
       "      <td>14</td>\n",
       "      <td>Always</td>\n",
       "      <td>Always</td>\n",
       "      <td>Always</td>\n",
       "      <td>Always</td>\n",
       "      <td>Always</td>\n",
       "      <td>Always</td>\n",
       "      <td>Always</td>\n",
       "    </tr>\n",
       "    <tr>\n",
       "      <th>2</th>\n",
       "      <td>1</td>\n",
       "      <td>14</td>\n",
       "      <td>Always</td>\n",
       "      <td>Always</td>\n",
       "      <td>Always</td>\n",
       "      <td>Always</td>\n",
       "      <td>Always</td>\n",
       "      <td>Always</td>\n",
       "      <td>Always</td>\n",
       "    </tr>\n",
       "    <tr>\n",
       "      <th>3</th>\n",
       "      <td>1</td>\n",
       "      <td>14</td>\n",
       "      <td>Always</td>\n",
       "      <td>Always</td>\n",
       "      <td>Always</td>\n",
       "      <td>Always</td>\n",
       "      <td>Always</td>\n",
       "      <td>Always</td>\n",
       "      <td>Always</td>\n",
       "    </tr>\n",
       "    <tr>\n",
       "      <th>4</th>\n",
       "      <td>1</td>\n",
       "      <td>14</td>\n",
       "      <td>Always</td>\n",
       "      <td>Always</td>\n",
       "      <td>Always</td>\n",
       "      <td>Always</td>\n",
       "      <td>Always</td>\n",
       "      <td>Often</td>\n",
       "      <td>Always</td>\n",
       "    </tr>\n",
       "    <tr>\n",
       "      <th>...</th>\n",
       "      <td>...</td>\n",
       "      <td>...</td>\n",
       "      <td>...</td>\n",
       "      <td>...</td>\n",
       "      <td>...</td>\n",
       "      <td>...</td>\n",
       "      <td>...</td>\n",
       "      <td>...</td>\n",
       "      <td>...</td>\n",
       "    </tr>\n",
       "    <tr>\n",
       "      <th>402</th>\n",
       "      <td>0</td>\n",
       "      <td>23</td>\n",
       "      <td>Never</td>\n",
       "      <td>Never</td>\n",
       "      <td>Never</td>\n",
       "      <td>Never</td>\n",
       "      <td>Never</td>\n",
       "      <td>Never</td>\n",
       "      <td>Never</td>\n",
       "    </tr>\n",
       "    <tr>\n",
       "      <th>403</th>\n",
       "      <td>0</td>\n",
       "      <td>23</td>\n",
       "      <td>Never</td>\n",
       "      <td>Never</td>\n",
       "      <td>Never</td>\n",
       "      <td>Never</td>\n",
       "      <td>Never</td>\n",
       "      <td>Never</td>\n",
       "      <td>Never</td>\n",
       "    </tr>\n",
       "    <tr>\n",
       "      <th>404</th>\n",
       "      <td>0</td>\n",
       "      <td>23</td>\n",
       "      <td>Never</td>\n",
       "      <td>Never</td>\n",
       "      <td>Never</td>\n",
       "      <td>Never</td>\n",
       "      <td>Never</td>\n",
       "      <td>Never</td>\n",
       "      <td>Never</td>\n",
       "    </tr>\n",
       "    <tr>\n",
       "      <th>405</th>\n",
       "      <td>0</td>\n",
       "      <td>23</td>\n",
       "      <td>Never</td>\n",
       "      <td>Never</td>\n",
       "      <td>Never</td>\n",
       "      <td>Never</td>\n",
       "      <td>Never</td>\n",
       "      <td>Never</td>\n",
       "      <td>Never</td>\n",
       "    </tr>\n",
       "    <tr>\n",
       "      <th>406</th>\n",
       "      <td>0</td>\n",
       "      <td>23</td>\n",
       "      <td>Never</td>\n",
       "      <td>Never</td>\n",
       "      <td>Never</td>\n",
       "      <td>Never</td>\n",
       "      <td>Never</td>\n",
       "      <td>Never</td>\n",
       "      <td>Never</td>\n",
       "    </tr>\n",
       "  </tbody>\n",
       "</table>\n",
       "<p>407 rows × 9 columns</p>\n",
       "</div>"
      ],
      "text/plain": [
       "     Class  Age I avoid eating when am hungry I cut my food into small pieces  \\\n",
       "0        1   14                        Always                          Always   \n",
       "1        1   14                        Always                          Always   \n",
       "2        1   14                        Always                          Always   \n",
       "3        1   14                        Always                          Always   \n",
       "4        1   14                        Always                          Always   \n",
       "..     ...  ...                           ...                             ...   \n",
       "402      0   23                        Never                            Never   \n",
       "403      0   23                        Never                            Never   \n",
       "404      0   23                        Never                            Never   \n",
       "405      0   23                        Never                            Never   \n",
       "406      0   23                        Never                            Never   \n",
       "\n",
       "    I particularly avoid food with high carbonhydrate(bread,rice,potatoes etc)  \\\n",
       "0                                               Always                           \n",
       "1                                               Always                           \n",
       "2                                               Always                           \n",
       "3                                               Always                           \n",
       "4                                               Always                           \n",
       "..                                                 ...                           \n",
       "402                                             Never                            \n",
       "403                                             Never                            \n",
       "404                                             Never                            \n",
       "405                                             Never                            \n",
       "406                                             Never                            \n",
       "\n",
       "    I take longer time than others to eat my meals  \\\n",
       "0                                          Always    \n",
       "1                                          Always    \n",
       "2                                          Always    \n",
       "3                                          Always    \n",
       "4                                          Always    \n",
       "..                                             ...   \n",
       "402                                          Never   \n",
       "403                                          Never   \n",
       "404                                          Never   \n",
       "405                                          Never   \n",
       "406                                          Never   \n",
       "\n",
       "    I avoid food and drink with sugar content I like my stomach empty   \\\n",
       "0                                      Always                  Always    \n",
       "1                                      Always                  Always    \n",
       "2                                      Always                  Always    \n",
       "3                                      Always                  Always    \n",
       "4                                      Always                   Often    \n",
       "..                                        ...                      ...   \n",
       "402                                     Never                   Never    \n",
       "403                                     Never                   Never    \n",
       "404                                     Never                   Never    \n",
       "405                                     Never                   Never    \n",
       "406                                     Never                   Never    \n",
       "\n",
       "    I fast to avoid eating  \n",
       "0                   Always  \n",
       "1                   Always  \n",
       "2                   Always  \n",
       "3                   Always  \n",
       "4                   Always  \n",
       "..                     ...  \n",
       "402                  Never  \n",
       "403                  Never  \n",
       "404                  Never  \n",
       "405                  Never  \n",
       "406                  Never  \n",
       "\n",
       "[407 rows x 9 columns]"
      ]
     },
     "execution_count": 3,
     "metadata": {},
     "output_type": "execute_result"
    }
   ],
   "source": [
    "df"
   ]
  },
  {
   "cell_type": "code",
   "execution_count": 4,
   "id": "3fc8fa5b",
   "metadata": {},
   "outputs": [],
   "source": [
    "male=len(df[df['Class']==1])"
   ]
  },
  {
   "cell_type": "code",
   "execution_count": 5,
   "id": "6c78115b",
   "metadata": {},
   "outputs": [
    {
     "data": {
      "text/plain": [
       "187"
      ]
     },
     "execution_count": 5,
     "metadata": {},
     "output_type": "execute_result"
    }
   ],
   "source": [
    "male"
   ]
  },
  {
   "cell_type": "code",
   "execution_count": 6,
   "id": "52218390",
   "metadata": {},
   "outputs": [],
   "source": [
    "female=len(df[df['Class']==0])"
   ]
  },
  {
   "cell_type": "code",
   "execution_count": 7,
   "id": "0ffcbbca",
   "metadata": {},
   "outputs": [
    {
     "data": {
      "text/plain": [
       "220"
      ]
     },
     "execution_count": 7,
     "metadata": {},
     "output_type": "execute_result"
    }
   ],
   "source": [
    "female"
   ]
  },
  {
   "cell_type": "code",
   "execution_count": 8,
   "id": "23488904",
   "metadata": {},
   "outputs": [],
   "source": [
    "gender=[male,female]\n",
    "range=['male','female']"
   ]
  },
  {
   "cell_type": "code",
   "execution_count": 9,
   "id": "e93db796",
   "metadata": {},
   "outputs": [
    {
     "name": "stderr",
     "output_type": "stream",
     "text": [
      "C:\\Users\\SBMCODED\\AppData\\Local\\Programs\\Python\\Python310\\lib\\site-packages\\seaborn\\_decorators.py:36: FutureWarning: Pass the following variables as keyword args: x, y. From version 0.12, the only valid positional argument will be `data`, and passing other arguments without an explicit keyword will result in an error or misinterpretation.\n",
      "  warnings.warn(\n"
     ]
    },
    {
     "data": {
      "text/plain": [
       "Text(0.5, 1.0, ' the graphical representation of male and female undergraduate ')"
      ]
     },
     "execution_count": 9,
     "metadata": {},
     "output_type": "execute_result"
    },
    {
     "data": {
      "image/png": "[encoded data removed]",
      "text/plain": [
       "<Figure size 432x288 with 1 Axes>"
      ]
     },
     "metadata": {
      "needs_background": "light"
     },
     "output_type": "display_data"
    }
   ],
   "source": [
    "sns.barplot(range,gender)\n",
    "plt.title(\" the graphical representation of male and female undergraduate \")"
   ]
  },
  {
   "cell_type": "markdown",
   "id": "257b25ed",
   "metadata": {},
   "source": [
    "from the dataset, we want to print how many time one word or letter appear in each row of the columns and showing how applies to male and female undegraduate in the dataset starting from age\n",
    "\n",
    "## Age (14)"
   ]
  },
  {
   "cell_type": "code",
   "execution_count": 10,
   "id": "f48bec47",
   "metadata": {},
   "outputs": [],
   "source": [
    "## print how many times age 14 appear in the dataset \n",
    "count_14 =df[df['Age']==14].shape[0]"
   ]
  },
  {
   "cell_type": "code",
   "execution_count": 11,
   "id": "95b76b61",
   "metadata": {},
   "outputs": [
    {
     "name": "stdout",
     "output_type": "stream",
     "text": [
      "number of times 14yrs appear in the dataset 37\n"
     ]
    }
   ],
   "source": [
    "## print total number of undergraduate with the age of 14\n",
    "\n",
    "print(\"number of times 14yrs appear in the dataset\",count_14)"
   ]
  },
  {
   "cell_type": "code",
   "execution_count": 12,
   "id": "b8b5af42",
   "metadata": {},
   "outputs": [],
   "source": [
    "\n",
    "## so from the dataset will have 37 undergraduate that are 14 years old, let see how many applies to male and to female\n",
    "count_male_14=df[(df['Class']==1)&(df['Age']==14)].shape[0]\n",
    "count_female_14=df[(df['Class']==0)&(df['Age']==14)].shape[0]\n",
    "\n"
   ]
  },
  {
   "cell_type": "code",
   "execution_count": 13,
   "id": "47ed0cf2",
   "metadata": {},
   "outputs": [
    {
     "name": "stdout",
     "output_type": "stream",
     "text": [
      "the number of male with the age of 14 is: 19\n",
      "the number of female with the age of 14 is: 18\n"
     ]
    }
   ],
   "source": [
    "print('the number of male with the age of 14 is:',count_male_14)\n",
    "print('the number of female with the age of 14 is:',count_female_14)"
   ]
  },
  {
   "cell_type": "code",
   "execution_count": 14,
   "id": "2774ea5c",
   "metadata": {},
   "outputs": [],
   "source": [
    "gender=[count_male_14,count_female_14]\n",
    "Class=['male','female']"
   ]
  },
  {
   "cell_type": "code",
   "execution_count": 15,
   "id": "07958666",
   "metadata": {},
   "outputs": [
    {
     "name": "stderr",
     "output_type": "stream",
     "text": [
      "C:\\Users\\SBMCODED\\AppData\\Local\\Programs\\Python\\Python310\\lib\\site-packages\\seaborn\\_decorators.py:36: FutureWarning: Pass the following variables as keyword args: x, y. From version 0.12, the only valid positional argument will be `data`, and passing other arguments without an explicit keyword will result in an error or misinterpretation.\n",
      "  warnings.warn(\n"
     ]
    },
    {
     "data": {
      "text/plain": [
       "Text(0.5, 1.0, ' the graphical representation of male and female undergraduate that is 14 years old ')"
      ]
     },
     "execution_count": 15,
     "metadata": {},
     "output_type": "execute_result"
    },
    {
     "data": {
      "image/png": "[encoded data removed]",
      "text/plain": [
       "<Figure size 432x288 with 1 Axes>"
      ]
     },
     "metadata": {
      "needs_background": "light"
     },
     "output_type": "display_data"
    }
   ],
   "source": [
    "sns.barplot(Class,gender)\n",
    "plt.title(\" the graphical representation of male and female undergraduate that is 14 years old \")"
   ]
  },
  {
   "cell_type": "markdown",
   "id": "22cce049",
   "metadata": {},
   "source": [
    "so after working with the age of 14 now moving to age 15 among male and female undegraduate\n",
    "## Age (15)"
   ]
  },
  {
   "cell_type": "code",
   "execution_count": 16,
   "id": "db4d29d7",
   "metadata": {},
   "outputs": [],
   "source": [
    "## print how many times age 15 appear in the dataset \n",
    "count_15 =df[df['Age']==15].shape[0]"
   ]
  },
  {
   "cell_type": "code",
   "execution_count": 17,
   "id": "f907b6e3",
   "metadata": {},
   "outputs": [
    {
     "name": "stdout",
     "output_type": "stream",
     "text": [
      "number of times 15yrs appear in the dataset 40\n"
     ]
    }
   ],
   "source": [
    "## print total number of undergraduate with the age of 15\n",
    "print(\"number of times 15yrs appear in the dataset\",count_15)"
   ]
  },
  {
   "cell_type": "code",
   "execution_count": 18,
   "id": "d788d73a",
   "metadata": {},
   "outputs": [],
   "source": [
    "## so from the dataset will have 40 undergraduate that are 15 years old, let see how many applies to male and to female\n",
    "count_male_15=df[(df['Class']==1)&(df['Age']==15)].shape[0]\n",
    "count_female_15=df[(df['Class']==0)&(df['Age']==15)].shape[0]"
   ]
  },
  {
   "cell_type": "code",
   "execution_count": 19,
   "id": "9867b5dd",
   "metadata": {},
   "outputs": [
    {
     "name": "stdout",
     "output_type": "stream",
     "text": [
      "the number of male with the age of 15 is: 20\n",
      "the number of female with the age of 15 is: 20\n"
     ]
    }
   ],
   "source": [
    "print('the number of male with the age of 15 is:',count_male_15)\n",
    "print('the number of female with the age of 15 is:',count_female_15)"
   ]
  },
  {
   "cell_type": "code",
   "execution_count": 20,
   "id": "62b1e563",
   "metadata": {},
   "outputs": [],
   "source": [
    "gender2=[count_male_15,count_female_15]\n",
    "Class2=['male','female']"
   ]
  },
  {
   "cell_type": "code",
   "execution_count": 21,
   "id": "5b28d149",
   "metadata": {},
   "outputs": [
    {
     "name": "stderr",
     "output_type": "stream",
     "text": [
      "C:\\Users\\SBMCODED\\AppData\\Local\\Programs\\Python\\Python310\\lib\\site-packages\\seaborn\\_decorators.py:36: FutureWarning: Pass the following variables as keyword args: x, y. From version 0.12, the only valid positional argument will be `data`, and passing other arguments without an explicit keyword will result in an error or misinterpretation.\n",
      "  warnings.warn(\n"
     ]
    },
    {
     "data": {
      "text/plain": [
       "Text(0.5, 1.0, ' the graphical representation of male and female undergraduate that is 15 yrs old  ')"
      ]
     },
     "execution_count": 21,
     "metadata": {},
     "output_type": "execute_result"
    },
    {
     "data": {
      "image/png": "[encoded data removed]",
      "text/plain": [
       "<Figure size 432x288 with 1 Axes>"
      ]
     },
     "metadata": {
      "needs_background": "light"
     },
     "output_type": "display_data"
    }
   ],
   "source": [
    "sns.barplot(Class2,gender2)\n",
    "plt.title(\" the graphical representation of male and female undergraduate that is 15 yrs old  \")"
   ]
  },
  {
   "cell_type": "markdown",
   "id": "8974a7ac",
   "metadata": {},
   "source": [
    "\n",
    "## Age(16)"
   ]
  },
  {
   "cell_type": "code",
   "execution_count": 22,
   "id": "380f440c",
   "metadata": {},
   "outputs": [],
   "source": [
    "## print how many times age 16 appear in the dataset \n",
    "count_16 =df[df['Age']==16].shape[0]"
   ]
  },
  {
   "cell_type": "code",
   "execution_count": 23,
   "id": "ce9b7380",
   "metadata": {},
   "outputs": [
    {
     "name": "stdout",
     "output_type": "stream",
     "text": [
      "number of times 16yrs appear in the dataset 33\n"
     ]
    }
   ],
   "source": [
    "## print total number of undergaduate with the age of 16\n",
    "print(\"number of times 16yrs appear in the dataset\",count_16)"
   ]
  },
  {
   "cell_type": "code",
   "execution_count": 24,
   "id": "635a8042",
   "metadata": {},
   "outputs": [],
   "source": [
    "## so from the dataset will have 40 undergraduate that are 16 years old, let see how many applies to male and to female\n",
    "count_male_16=df[(df['Class']==1)&(df['Age']==16)].shape[0]\n",
    "count_female_16=df[(df['Class']==0)&(df['Age']==16)].shape[0]"
   ]
  },
  {
   "cell_type": "code",
   "execution_count": 25,
   "id": "a268bca2",
   "metadata": {},
   "outputs": [
    {
     "name": "stdout",
     "output_type": "stream",
     "text": [
      "the number of male with the age of 16 is: 17\n",
      "the number of female with the age of 16 is: 16\n"
     ]
    }
   ],
   "source": [
    "print('the number of male with the age of 16 is:',count_male_16)\n",
    "print('the number of female with the age of 16 is:',count_female_16)"
   ]
  },
  {
   "cell_type": "code",
   "execution_count": 26,
   "id": "a31f587d",
   "metadata": {},
   "outputs": [],
   "source": [
    "gender3=[count_male_16,count_female_16]\n",
    "Class3=['male','female']"
   ]
  },
  {
   "cell_type": "code",
   "execution_count": 27,
   "id": "343e9166",
   "metadata": {},
   "outputs": [
    {
     "name": "stderr",
     "output_type": "stream",
     "text": [
      "C:\\Users\\SBMCODED\\AppData\\Local\\Programs\\Python\\Python310\\lib\\site-packages\\seaborn\\_decorators.py:36: FutureWarning: Pass the following variables as keyword args: x, y. From version 0.12, the only valid positional argument will be `data`, and passing other arguments without an explicit keyword will result in an error or misinterpretation.\n",
      "  warnings.warn(\n"
     ]
    },
    {
     "data": {
      "text/plain": [
       "Text(0.5, 1.0, ' the graphical representation of male and female undergraduate that is 16 yrs old')"
      ]
     },
     "execution_count": 27,
     "metadata": {},
     "output_type": "execute_result"
    },
    {
     "data": {
      "image/png": "[encoded data removed]",
      "text/plain": [
       "<Figure size 432x288 with 1 Axes>"
      ]
     },
     "metadata": {
      "needs_background": "light"
     },
     "output_type": "display_data"
    }
   ],
   "source": [
    "sns.barplot(Class3,gender3)\n",
    "plt.title(\" the graphical representation of male and female undergraduate that is 16 yrs old\")"
   ]
  },
  {
   "cell_type": "markdown",
   "id": "6cca7200",
   "metadata": {},
   "source": [
    "working on the age of undergraduate of 17 years old \n",
    "## Age(17)"
   ]
  },
  {
   "cell_type": "code",
   "execution_count": 28,
   "id": "7606d1e8",
   "metadata": {},
   "outputs": [],
   "source": [
    "## print how many times age 17 appear in the dataset \n",
    "count_17 =df[df['Age']==17].shape[0]"
   ]
  },
  {
   "cell_type": "code",
   "execution_count": 29,
   "id": "da82d216",
   "metadata": {},
   "outputs": [
    {
     "name": "stdout",
     "output_type": "stream",
     "text": [
      "number of times 17yrs appear in the dataset 56\n"
     ]
    }
   ],
   "source": [
    "## print total number of undergraduate with age of 17\n",
    "print(\"number of times 17yrs appear in the dataset\",count_17)"
   ]
  },
  {
   "cell_type": "code",
   "execution_count": 30,
   "id": "d661aeb5",
   "metadata": {},
   "outputs": [],
   "source": [
    "## so from the dataset will have 40 undergraduate that are 17 years old, let see how many applies to male and to female\n",
    "count_male_17=df[(df['Class']==1)&(df['Age']==17)].shape[0]\n",
    "count_female_17=df[(df['Class']==0)&(df['Age']==17)].shape[0]"
   ]
  },
  {
   "cell_type": "code",
   "execution_count": 31,
   "id": "8398ad73",
   "metadata": {},
   "outputs": [
    {
     "name": "stdout",
     "output_type": "stream",
     "text": [
      "the number of male with the age of 17 is: 28\n",
      "the number of female with the age of 17 is: 28\n"
     ]
    }
   ],
   "source": [
    "print('the number of male with the age of 17 is:',count_male_17)\n",
    "print('the number of female with the age of 17 is:',count_female_17)"
   ]
  },
  {
   "cell_type": "code",
   "execution_count": 32,
   "id": "6dca0c7e",
   "metadata": {},
   "outputs": [
    {
     "name": "stderr",
     "output_type": "stream",
     "text": [
      "C:\\Users\\SBMCODED\\AppData\\Local\\Programs\\Python\\Python310\\lib\\site-packages\\seaborn\\_decorators.py:36: FutureWarning: Pass the following variables as keyword args: x, y. From version 0.12, the only valid positional argument will be `data`, and passing other arguments without an explicit keyword will result in an error or misinterpretation.\n",
      "  warnings.warn(\n"
     ]
    },
    {
     "data": {
      "text/plain": [
       "Text(0.5, 1.0, ' the graphical representation of male and female undergraduate that is 17 yrs old')"
      ]
     },
     "execution_count": 32,
     "metadata": {},
     "output_type": "execute_result"
    },
    {
     "data": {
      "image/png": "[encoded data removed]",
      "text/plain": [
       "<Figure size 432x288 with 1 Axes>"
      ]
     },
     "metadata": {
      "needs_background": "light"
     },
     "output_type": "display_data"
    }
   ],
   "source": [
    "gender4=[count_male_17,count_female_17]\n",
    "Class4=['male','female']\n",
    "sns.barplot(Class4,gender4)\n",
    "plt.title(\" the graphical representation of male and female undergraduate that is 17 yrs old\")"
   ]
  },
  {
   "cell_type": "markdown",
   "id": "0b2ec462",
   "metadata": {},
   "source": [
    "working with undergraduate of 18yrs old \n",
    "  ## Age(18)"
   ]
  },
  {
   "cell_type": "code",
   "execution_count": 33,
   "id": "247daa1d",
   "metadata": {},
   "outputs": [],
   "source": [
    "## print how many times age 18 appear in the dataset \n",
    "count_18 =df[df['Age']==18].shape[0]"
   ]
  },
  {
   "cell_type": "code",
   "execution_count": 34,
   "id": "72077c53",
   "metadata": {},
   "outputs": [
    {
     "name": "stdout",
     "output_type": "stream",
     "text": [
      "number of times 18yrs appear in the dataset 56\n"
     ]
    }
   ],
   "source": [
    "## print total number of undergraduate with age of 18\n",
    "print(\"number of times 18yrs appear in the dataset\",count_18)"
   ]
  },
  {
   "cell_type": "code",
   "execution_count": 35,
   "id": "8bba592d",
   "metadata": {},
   "outputs": [],
   "source": [
    "## so from the dataset will have 40 undergraduate that are 17 years old, let see how many applies to male and to female\n",
    "count_male_18=df[(df['Class']==1)&(df['Age']==18)].shape[0]\n",
    "count_female_18=df[(df['Class']==0)&(df['Age']==18)].shape[0]"
   ]
  },
  {
   "cell_type": "code",
   "execution_count": 36,
   "id": "36123a6b",
   "metadata": {},
   "outputs": [
    {
     "name": "stdout",
     "output_type": "stream",
     "text": [
      "the number of male with the age of 18 is: 28\n",
      "the number of female with the age of 18 is: 28\n"
     ]
    }
   ],
   "source": [
    "print('the number of male with the age of 18 is:',count_male_18)\n",
    "print('the number of female with the age of 18 is:',count_female_18)"
   ]
  },
  {
   "cell_type": "code",
   "execution_count": 37,
   "id": "37390730",
   "metadata": {},
   "outputs": [
    {
     "name": "stderr",
     "output_type": "stream",
     "text": [
      "C:\\Users\\SBMCODED\\AppData\\Local\\Programs\\Python\\Python310\\lib\\site-packages\\seaborn\\_decorators.py:36: FutureWarning: Pass the following variables as keyword args: x, y. From version 0.12, the only valid positional argument will be `data`, and passing other arguments without an explicit keyword will result in an error or misinterpretation.\n",
      "  warnings.warn(\n"
     ]
    },
    {
     "data": {
      "text/plain": [
       "Text(0.5, 1.0, ' the graphical representation of male and female undergraduate that is 18 yrs old')"
      ]
     },
     "execution_count": 37,
     "metadata": {},
     "output_type": "execute_result"
    },
    {
     "data": {
      "image/png": "[encoded data removed]",
      "text/plain": [
       "<Figure size 432x288 with 1 Axes>"
      ]
     },
     "metadata": {
      "needs_background": "light"
     },
     "output_type": "display_data"
    }
   ],
   "source": [
    "gender5=[count_male_18,count_female_18]\n",
    "Class5=['male','female']\n",
    "sns.barplot(Class5,gender5)\n",
    "plt.title(\" the graphical representation of male and female undergraduate that is 18 yrs old\")"
   ]
  },
  {
   "cell_type": "markdown",
   "id": "02a5c64d",
   "metadata": {},
   "source": [
    "working on the undergraduate of 19yrs\n",
    "## Age(19)"
   ]
  },
  {
   "cell_type": "code",
   "execution_count": 38,
   "id": "83900144",
   "metadata": {},
   "outputs": [],
   "source": [
    "## print how many times age 19 appear in the dataset \n",
    "count_19 =df[df['Age']==19].shape[0]"
   ]
  },
  {
   "cell_type": "code",
   "execution_count": 39,
   "id": "80d3c8f2",
   "metadata": {},
   "outputs": [
    {
     "name": "stdout",
     "output_type": "stream",
     "text": [
      "number of times 19yrs appear in the dataset 58\n"
     ]
    }
   ],
   "source": [
    "## print total number of undergraduate with age of 19\n",
    "print(\"number of times 19yrs appear in the dataset\",count_19)"
   ]
  },
  {
   "cell_type": "code",
   "execution_count": 40,
   "id": "92482caa",
   "metadata": {},
   "outputs": [],
   "source": [
    "## so from the dataset will have 40 undergraduate that are 17 years old, let see how many applies to male and to female\n",
    "count_male_19=df[(df['Class']==1)&(df['Age']==19)].shape[0]\n",
    "count_female_19=df[(df['Class']==0)&(df['Age']==19)].shape[0]"
   ]
  },
  {
   "cell_type": "code",
   "execution_count": 41,
   "id": "f8ecbb9b",
   "metadata": {},
   "outputs": [
    {
     "name": "stdout",
     "output_type": "stream",
     "text": [
      "the number of male with the age of 19 is: 29\n",
      "the number of female with the age of 19 is: 29\n"
     ]
    }
   ],
   "source": [
    "print('the number of male with the age of 19 is:',count_male_19)\n",
    "print('the number of female with the age of 19 is:',count_female_19)"
   ]
  },
  {
   "cell_type": "code",
   "execution_count": 42,
   "id": "8a74d04c",
   "metadata": {},
   "outputs": [
    {
     "name": "stderr",
     "output_type": "stream",
     "text": [
      "C:\\Users\\SBMCODED\\AppData\\Local\\Programs\\Python\\Python310\\lib\\site-packages\\seaborn\\_decorators.py:36: FutureWarning: Pass the following variables as keyword args: x, y. From version 0.12, the only valid positional argument will be `data`, and passing other arguments without an explicit keyword will result in an error or misinterpretation.\n",
      "  warnings.warn(\n"
     ]
    },
    {
     "data": {
      "text/plain": [
       "Text(0.5, 1.0, ' the graphical representation of male and female undergraduate that is 19 yrs old')"
      ]
     },
     "execution_count": 42,
     "metadata": {},
     "output_type": "execute_result"
    },
    {
     "data": {
      "image/png": "[encoded data removed]",
      "text/plain": [
       "<Figure size 432x288 with 1 Axes>"
      ]
     },
     "metadata": {
      "needs_background": "light"
     },
     "output_type": "display_data"
    }
   ],
   "source": [
    "gender6=[count_male_19,count_female_19]\n",
    "Class6=['male','female']\n",
    "sns.barplot(Class6,gender6)\n",
    "plt.title(\" the graphical representation of male and female undergraduate that is 19 yrs old\")"
   ]
  },
  {
   "cell_type": "markdown",
   "id": "b6476488",
   "metadata": {},
   "source": [
    "working on the undergraduate of 20 yrs old \n",
    "## Age(20)"
   ]
  },
  {
   "cell_type": "code",
   "execution_count": 43,
   "id": "0498508b",
   "metadata": {},
   "outputs": [],
   "source": [
    "## print how many times age 20 appear in the dataset \n",
    "count_20 =df[df['Age']==20].shape[0]"
   ]
  },
  {
   "cell_type": "code",
   "execution_count": 44,
   "id": "161eeeda",
   "metadata": {},
   "outputs": [
    {
     "name": "stdout",
     "output_type": "stream",
     "text": [
      "number of times 20yrs appear in the dataset 38\n"
     ]
    }
   ],
   "source": [
    "## print total number of undergraduate with age of 20\n",
    "print(\"number of times 20yrs appear in the dataset\",count_20)"
   ]
  },
  {
   "cell_type": "code",
   "execution_count": 45,
   "id": "84fb9492",
   "metadata": {},
   "outputs": [],
   "source": [
    "## so from the dataset will have 40 undergraduate that are 20 years old, let see how many applies to male and to female\n",
    "count_male_20=df[(df['Class']==1)&(df['Age']==20)].shape[0]\n",
    "count_female_20=df[(df['Class']==0)&(df['Age']==20)].shape[0]"
   ]
  },
  {
   "cell_type": "code",
   "execution_count": 46,
   "id": "c3db443c",
   "metadata": {},
   "outputs": [
    {
     "name": "stdout",
     "output_type": "stream",
     "text": [
      "the number of male with the age of 20 is: 18\n",
      "the number of female with the age of 20 is: 20\n"
     ]
    }
   ],
   "source": [
    "print('the number of male with the age of 20 is:',count_male_20)\n",
    "print('the number of female with the age of 20 is:',count_female_20)"
   ]
  },
  {
   "cell_type": "code",
   "execution_count": 47,
   "id": "413a1d79",
   "metadata": {},
   "outputs": [
    {
     "name": "stderr",
     "output_type": "stream",
     "text": [
      "C:\\Users\\SBMCODED\\AppData\\Local\\Programs\\Python\\Python310\\lib\\site-packages\\seaborn\\_decorators.py:36: FutureWarning: Pass the following variables as keyword args: x, y. From version 0.12, the only valid positional argument will be `data`, and passing other arguments without an explicit keyword will result in an error or misinterpretation.\n",
      "  warnings.warn(\n"
     ]
    },
    {
     "data": {
      "text/plain": [
       "Text(0.5, 1.0, ' the graphical representation of male and female undergraduate that is 20 yrs old')"
      ]
     },
     "execution_count": 47,
     "metadata": {},
     "output_type": "execute_result"
    },
    {
     "data": {
      "image/png": "[encoded data removed]",
      "text/plain": [
       "<Figure size 432x288 with 1 Axes>"
      ]
     },
     "metadata": {
      "needs_background": "light"
     },
     "output_type": "display_data"
    }
   ],
   "source": [
    "gender7=[count_male_20,count_female_20]\n",
    "Class7=['male','female']\n",
    "sns.barplot(Class7,gender7)\n",
    "plt.title(\" the graphical representation of male and female undergraduate that is 20 yrs old\")"
   ]
  },
  {
   "cell_type": "markdown",
   "id": "8818c41c",
   "metadata": {},
   "source": [
    "working on the undergraduate of 21yrs old \n",
    "## Age(21)"
   ]
  },
  {
   "cell_type": "code",
   "execution_count": 48,
   "id": "ca2d4f23",
   "metadata": {},
   "outputs": [],
   "source": [
    "## print how many times age 21 appear in the dataset \n",
    "count_21 =df[df['Age']==21].shape[0]"
   ]
  },
  {
   "cell_type": "code",
   "execution_count": 49,
   "id": "d797141e",
   "metadata": {},
   "outputs": [
    {
     "name": "stdout",
     "output_type": "stream",
     "text": [
      "number of times 21yrs appear in the dataset 38\n"
     ]
    }
   ],
   "source": [
    "## print total number of undergraduate with age of 21\n",
    "print(\"number of times 21yrs appear in the dataset\",count_21)"
   ]
  },
  {
   "cell_type": "code",
   "execution_count": 50,
   "id": "753127ba",
   "metadata": {},
   "outputs": [],
   "source": [
    "## so from the dataset will have 40 undergraduate that are 21 years old, let see how many applies to male and to female\n",
    "count_male_21=df[(df['Class']==1)&(df['Age']==21)].shape[0]\n",
    "count_female_21=df[(df['Class']==0)&(df['Age']==21)].shape[0]"
   ]
  },
  {
   "cell_type": "code",
   "execution_count": 51,
   "id": "dbcd5f11",
   "metadata": {},
   "outputs": [
    {
     "name": "stdout",
     "output_type": "stream",
     "text": [
      "the number of male with the age of 21 is: 18\n",
      "the number of female with the age of 21 is: 20\n"
     ]
    }
   ],
   "source": [
    "print('the number of male with the age of 21 is:',count_male_21)\n",
    "print('the number of female with the age of 21 is:',count_female_21)"
   ]
  },
  {
   "cell_type": "code",
   "execution_count": 52,
   "id": "d30f681c",
   "metadata": {},
   "outputs": [
    {
     "name": "stderr",
     "output_type": "stream",
     "text": [
      "C:\\Users\\SBMCODED\\AppData\\Local\\Programs\\Python\\Python310\\lib\\site-packages\\seaborn\\_decorators.py:36: FutureWarning: Pass the following variables as keyword args: x, y. From version 0.12, the only valid positional argument will be `data`, and passing other arguments without an explicit keyword will result in an error or misinterpretation.\n",
      "  warnings.warn(\n"
     ]
    },
    {
     "data": {
      "text/plain": [
       "Text(0.5, 1.0, ' the graphical representation of male and female undergraduate that is 21 yrs old')"
      ]
     },
     "execution_count": 52,
     "metadata": {},
     "output_type": "execute_result"
    },
    {
     "data": {
      "image/png": "[encoded data removed]",
      "text/plain": [
       "<Figure size 432x288 with 1 Axes>"
      ]
     },
     "metadata": {
      "needs_background": "light"
     },
     "output_type": "display_data"
    }
   ],
   "source": [
    "gender8=[count_male_21,count_female_21]\n",
    "Class8=['male','female']\n",
    "sns.barplot(Class8,gender8)\n",
    "plt.title(\" the graphical representation of male and female undergraduate that is 21 yrs old\")"
   ]
  },
  {
   "cell_type": "markdown",
   "id": "66a35c49",
   "metadata": {},
   "source": [
    "working on the undergraduate of 22 yrs\n",
    "\n",
    "## Age(22yrs)"
   ]
  },
  {
   "cell_type": "code",
   "execution_count": 53,
   "id": "295b78ce",
   "metadata": {},
   "outputs": [],
   "source": [
    "## print how many times age 22 appear in the dataset \n",
    "count_22 =df[df['Age']==22].shape[0]"
   ]
  },
  {
   "cell_type": "code",
   "execution_count": 54,
   "id": "79ce1edc",
   "metadata": {},
   "outputs": [
    {
     "name": "stdout",
     "output_type": "stream",
     "text": [
      "number of times 22yrs appear in the dataset 38\n"
     ]
    }
   ],
   "source": [
    "## print total number of undergraduate with age of 22\n",
    "print(\"number of times 22yrs appear in the dataset\",count_22)"
   ]
  },
  {
   "cell_type": "code",
   "execution_count": 55,
   "id": "6cb37cc7",
   "metadata": {},
   "outputs": [],
   "source": [
    "## so from the dataset will have 40 undergraduate that are 21 years old, let see how many applies to male and to female\n",
    "count_male_22=df[(df['Class']==1)&(df['Age']==22)].shape[0]\n",
    "count_female_22=df[(df['Class']==0)&(df['Age']==22)].shape[0]"
   ]
  },
  {
   "cell_type": "code",
   "execution_count": 56,
   "id": "1587472d",
   "metadata": {},
   "outputs": [
    {
     "name": "stdout",
     "output_type": "stream",
     "text": [
      "the number of male with the age of 22 is: 5\n",
      "the number of female with the age of 22 is: 33\n"
     ]
    }
   ],
   "source": [
    "print('the number of male with the age of 22 is:',count_male_22)\n",
    "print('the number of female with the age of 22 is:',count_female_22)"
   ]
  },
  {
   "cell_type": "code",
   "execution_count": 57,
   "id": "b8ab2a4f",
   "metadata": {},
   "outputs": [
    {
     "name": "stderr",
     "output_type": "stream",
     "text": [
      "C:\\Users\\SBMCODED\\AppData\\Local\\Programs\\Python\\Python310\\lib\\site-packages\\seaborn\\_decorators.py:36: FutureWarning: Pass the following variables as keyword args: x, y. From version 0.12, the only valid positional argument will be `data`, and passing other arguments without an explicit keyword will result in an error or misinterpretation.\n",
      "  warnings.warn(\n"
     ]
    },
    {
     "data": {
      "text/plain": [
       "Text(0.5, 1.0, ' the graphical representation of male and female undergraduate that is 22 yrs old')"
      ]
     },
     "execution_count": 57,
     "metadata": {},
     "output_type": "execute_result"
    },
    {
     "data": {
      "image/png": "[encoded data removed]",
      "text/plain": [
       "<Figure size 432x288 with 1 Axes>"
      ]
     },
     "metadata": {
      "needs_background": "light"
     },
     "output_type": "display_data"
    }
   ],
   "source": [
    "gender9=[count_male_22,count_female_22]\n",
    "Class9=['male','female']\n",
    "sns.barplot(Class9,gender9)\n",
    "plt.title(\" the graphical representation of male and female undergraduate that is 22 yrs old\")"
   ]
  },
  {
   "cell_type": "markdown",
   "id": "934695f1",
   "metadata": {},
   "source": [
    "working on undergraduate of 23 yrs \n",
    "## Age(23yrs)"
   ]
  },
  {
   "cell_type": "code",
   "execution_count": 58,
   "id": "af39b9df",
   "metadata": {},
   "outputs": [],
   "source": [
    "## print how many times age 22 appear in the dataset \n",
    "count_23 =df[df['Age']==23].shape[0]"
   ]
  },
  {
   "cell_type": "code",
   "execution_count": 59,
   "id": "f23fe50b",
   "metadata": {},
   "outputs": [
    {
     "name": "stdout",
     "output_type": "stream",
     "text": [
      "number of times 23yrs appear in the dataset 13\n"
     ]
    }
   ],
   "source": [
    "## print total number of undergraduate with age of 23\n",
    "print(\"number of times 23yrs appear in the dataset\",count_23)"
   ]
  },
  {
   "cell_type": "code",
   "execution_count": 60,
   "id": "ad1ac050",
   "metadata": {},
   "outputs": [],
   "source": [
    "## so from the dataset will have 40 undergraduate that are 21 years old, let see how many applies to male and to female\n",
    "count_male_23=df[(df['Class']==1)&(df['Age']==23)].shape[0]\n",
    "count_female_23=df[(df['Class']==0)&(df['Age']==23)].shape[0]"
   ]
  },
  {
   "cell_type": "code",
   "execution_count": 61,
   "id": "6d57605e",
   "metadata": {},
   "outputs": [
    {
     "name": "stdout",
     "output_type": "stream",
     "text": [
      "the number of male with the age of 22 is: 5\n",
      "the number of female with the age of 22 is: 8\n"
     ]
    }
   ],
   "source": [
    "print('the number of male with the age of 22 is:',count_male_23)\n",
    "print('the number of female with the age of 22 is:',count_female_23)"
   ]
  },
  {
   "cell_type": "code",
   "execution_count": 62,
   "id": "a42823a0",
   "metadata": {},
   "outputs": [
    {
     "name": "stderr",
     "output_type": "stream",
     "text": [
      "C:\\Users\\SBMCODED\\AppData\\Local\\Programs\\Python\\Python310\\lib\\site-packages\\seaborn\\_decorators.py:36: FutureWarning: Pass the following variables as keyword args: x, y. From version 0.12, the only valid positional argument will be `data`, and passing other arguments without an explicit keyword will result in an error or misinterpretation.\n",
      "  warnings.warn(\n"
     ]
    },
    {
     "data": {
      "text/plain": [
       "Text(0.5, 1.0, ' the graphical representation of male and female undergraduate that is 23 yrs old')"
      ]
     },
     "execution_count": 62,
     "metadata": {},
     "output_type": "execute_result"
    },
    {
     "data": {
      "image/png": "[encoded data removed]",
      "text/plain": [
       "<Figure size 432x288 with 1 Axes>"
      ]
     },
     "metadata": {
      "needs_background": "light"
     },
     "output_type": "display_data"
    }
   ],
   "source": [
    "gender10=[count_male_23,count_female_23]\n",
    "Class10=['male','female']\n",
    "sns.barplot(Class10,gender10)\n",
    "plt.title(\" the graphical representation of male and female undergraduate that is 23 yrs old\")"
   ]
  },
  {
   "cell_type": "markdown",
   "id": "4e23d997",
   "metadata": {},
   "source": [
    "working on undergraduate with age of 24\n",
    "## Age(24)"
   ]
  },
  {
   "cell_type": "code",
   "execution_count": 63,
   "id": "383859cf",
   "metadata": {},
   "outputs": [],
   "source": [
    "## print how many times age 24 appear in the dataset\n",
    "count_24=df[df['Age']==24].shape[0]"
   ]
  },
  {
   "cell_type": "code",
   "execution_count": 64,
   "id": "736a43f1",
   "metadata": {},
   "outputs": [
    {
     "name": "stdout",
     "output_type": "stream",
     "text": [
      "number of times 24yrs appear in the dataset 0\n"
     ]
    }
   ],
   "source": [
    "## print total number of undergraduate with age of 24\n",
    "print(\"number of times 24yrs appear in the dataset\",count_24)"
   ]
  },
  {
   "cell_type": "markdown",
   "id": "30bc747f",
   "metadata": {},
   "source": [
    "## There is no undergraduate with age 24"
   ]
  },
  {
   "cell_type": "code",
   "execution_count": 65,
   "id": "113c1725",
   "metadata": {},
   "outputs": [],
   "source": [
    "import numpy as np"
   ]
  },
  {
   "cell_type": "code",
   "execution_count": 66,
   "id": "d1f9806b",
   "metadata": {},
   "outputs": [
    {
     "data": {
      "text/html": [
       "<div>\n",
       "<style scoped>\n",
       "    .dataframe tbody tr th:only-of-type {\n",
       "        vertical-align: middle;\n",
       "    }\n",
       "\n",
       "    .dataframe tbody tr th {\n",
       "        vertical-align: top;\n",
       "    }\n",
       "\n",
       "    .dataframe thead th {\n",
       "        text-align: right;\n",
       "    }\n",
       "</style>\n",
       "<table border=\"1\" class=\"dataframe\">\n",
       "  <thead>\n",
       "    <tr style=\"text-align: right;\">\n",
       "      <th></th>\n",
       "      <th>Class</th>\n",
       "      <th>Age</th>\n",
       "    </tr>\n",
       "  </thead>\n",
       "  <tbody>\n",
       "    <tr>\n",
       "      <th>0</th>\n",
       "      <td>1</td>\n",
       "      <td>14</td>\n",
       "    </tr>\n",
       "    <tr>\n",
       "      <th>1</th>\n",
       "      <td>1</td>\n",
       "      <td>14</td>\n",
       "    </tr>\n",
       "    <tr>\n",
       "      <th>2</th>\n",
       "      <td>1</td>\n",
       "      <td>14</td>\n",
       "    </tr>\n",
       "    <tr>\n",
       "      <th>3</th>\n",
       "      <td>1</td>\n",
       "      <td>14</td>\n",
       "    </tr>\n",
       "    <tr>\n",
       "      <th>4</th>\n",
       "      <td>1</td>\n",
       "      <td>14</td>\n",
       "    </tr>\n",
       "    <tr>\n",
       "      <th>...</th>\n",
       "      <td>...</td>\n",
       "      <td>...</td>\n",
       "    </tr>\n",
       "    <tr>\n",
       "      <th>402</th>\n",
       "      <td>0</td>\n",
       "      <td>23</td>\n",
       "    </tr>\n",
       "    <tr>\n",
       "      <th>403</th>\n",
       "      <td>0</td>\n",
       "      <td>23</td>\n",
       "    </tr>\n",
       "    <tr>\n",
       "      <th>404</th>\n",
       "      <td>0</td>\n",
       "      <td>23</td>\n",
       "    </tr>\n",
       "    <tr>\n",
       "      <th>405</th>\n",
       "      <td>0</td>\n",
       "      <td>23</td>\n",
       "    </tr>\n",
       "    <tr>\n",
       "      <th>406</th>\n",
       "      <td>0</td>\n",
       "      <td>23</td>\n",
       "    </tr>\n",
       "  </tbody>\n",
       "</table>\n",
       "<p>407 rows × 2 columns</p>\n",
       "</div>"
      ],
      "text/plain": [
       "     Class  Age\n",
       "0        1   14\n",
       "1        1   14\n",
       "2        1   14\n",
       "3        1   14\n",
       "4        1   14\n",
       "..     ...  ...\n",
       "402      0   23\n",
       "403      0   23\n",
       "404      0   23\n",
       "405      0   23\n",
       "406      0   23\n",
       "\n",
       "[407 rows x 2 columns]"
      ]
     },
     "execution_count": 66,
     "metadata": {},
     "output_type": "execute_result"
    }
   ],
   "source": [
    "numeric=df.select_dtypes(np.number)\n",
    "numeric"
   ]
  },
  {
   "cell_type": "code",
   "execution_count": 67,
   "id": "d558e696",
   "metadata": {},
   "outputs": [
    {
     "data": {
      "text/html": [
       "<div>\n",
       "<style scoped>\n",
       "    .dataframe tbody tr th:only-of-type {\n",
       "        vertical-align: middle;\n",
       "    }\n",
       "\n",
       "    .dataframe tbody tr th {\n",
       "        vertical-align: top;\n",
       "    }\n",
       "\n",
       "    .dataframe thead th {\n",
       "        text-align: right;\n",
       "    }\n",
       "</style>\n",
       "<table border=\"1\" class=\"dataframe\">\n",
       "  <thead>\n",
       "    <tr style=\"text-align: right;\">\n",
       "      <th></th>\n",
       "      <th>I avoid eating when am hungry</th>\n",
       "      <th>I cut my food into small pieces</th>\n",
       "      <th>I particularly avoid food with high carbonhydrate(bread,rice,potatoes etc)</th>\n",
       "      <th>I take longer time than others to eat my meals</th>\n",
       "      <th>I avoid food and drink with sugar content</th>\n",
       "      <th>I like my stomach empty</th>\n",
       "      <th>I fast to avoid eating</th>\n",
       "    </tr>\n",
       "  </thead>\n",
       "  <tbody>\n",
       "    <tr>\n",
       "      <th>0</th>\n",
       "      <td>Always</td>\n",
       "      <td>Always</td>\n",
       "      <td>Always</td>\n",
       "      <td>Always</td>\n",
       "      <td>Always</td>\n",
       "      <td>Always</td>\n",
       "      <td>Always</td>\n",
       "    </tr>\n",
       "    <tr>\n",
       "      <th>1</th>\n",
       "      <td>Always</td>\n",
       "      <td>Always</td>\n",
       "      <td>Always</td>\n",
       "      <td>Always</td>\n",
       "      <td>Always</td>\n",
       "      <td>Always</td>\n",
       "      <td>Always</td>\n",
       "    </tr>\n",
       "    <tr>\n",
       "      <th>2</th>\n",
       "      <td>Always</td>\n",
       "      <td>Always</td>\n",
       "      <td>Always</td>\n",
       "      <td>Always</td>\n",
       "      <td>Always</td>\n",
       "      <td>Always</td>\n",
       "      <td>Always</td>\n",
       "    </tr>\n",
       "    <tr>\n",
       "      <th>3</th>\n",
       "      <td>Always</td>\n",
       "      <td>Always</td>\n",
       "      <td>Always</td>\n",
       "      <td>Always</td>\n",
       "      <td>Always</td>\n",
       "      <td>Always</td>\n",
       "      <td>Always</td>\n",
       "    </tr>\n",
       "    <tr>\n",
       "      <th>4</th>\n",
       "      <td>Always</td>\n",
       "      <td>Always</td>\n",
       "      <td>Always</td>\n",
       "      <td>Always</td>\n",
       "      <td>Always</td>\n",
       "      <td>Often</td>\n",
       "      <td>Always</td>\n",
       "    </tr>\n",
       "    <tr>\n",
       "      <th>...</th>\n",
       "      <td>...</td>\n",
       "      <td>...</td>\n",
       "      <td>...</td>\n",
       "      <td>...</td>\n",
       "      <td>...</td>\n",
       "      <td>...</td>\n",
       "      <td>...</td>\n",
       "    </tr>\n",
       "    <tr>\n",
       "      <th>402</th>\n",
       "      <td>Never</td>\n",
       "      <td>Never</td>\n",
       "      <td>Never</td>\n",
       "      <td>Never</td>\n",
       "      <td>Never</td>\n",
       "      <td>Never</td>\n",
       "      <td>Never</td>\n",
       "    </tr>\n",
       "    <tr>\n",
       "      <th>403</th>\n",
       "      <td>Never</td>\n",
       "      <td>Never</td>\n",
       "      <td>Never</td>\n",
       "      <td>Never</td>\n",
       "      <td>Never</td>\n",
       "      <td>Never</td>\n",
       "      <td>Never</td>\n",
       "    </tr>\n",
       "    <tr>\n",
       "      <th>404</th>\n",
       "      <td>Never</td>\n",
       "      <td>Never</td>\n",
       "      <td>Never</td>\n",
       "      <td>Never</td>\n",
       "      <td>Never</td>\n",
       "      <td>Never</td>\n",
       "      <td>Never</td>\n",
       "    </tr>\n",
       "    <tr>\n",
       "      <th>405</th>\n",
       "      <td>Never</td>\n",
       "      <td>Never</td>\n",
       "      <td>Never</td>\n",
       "      <td>Never</td>\n",
       "      <td>Never</td>\n",
       "      <td>Never</td>\n",
       "      <td>Never</td>\n",
       "    </tr>\n",
       "    <tr>\n",
       "      <th>406</th>\n",
       "      <td>Never</td>\n",
       "      <td>Never</td>\n",
       "      <td>Never</td>\n",
       "      <td>Never</td>\n",
       "      <td>Never</td>\n",
       "      <td>Never</td>\n",
       "      <td>Never</td>\n",
       "    </tr>\n",
       "  </tbody>\n",
       "</table>\n",
       "<p>407 rows × 7 columns</p>\n",
       "</div>"
      ],
      "text/plain": [
       "    I avoid eating when am hungry I cut my food into small pieces  \\\n",
       "0                          Always                          Always   \n",
       "1                          Always                          Always   \n",
       "2                          Always                          Always   \n",
       "3                          Always                          Always   \n",
       "4                          Always                          Always   \n",
       "..                            ...                             ...   \n",
       "402                        Never                            Never   \n",
       "403                        Never                            Never   \n",
       "404                        Never                            Never   \n",
       "405                        Never                            Never   \n",
       "406                        Never                            Never   \n",
       "\n",
       "    I particularly avoid food with high carbonhydrate(bread,rice,potatoes etc)  \\\n",
       "0                                               Always                           \n",
       "1                                               Always                           \n",
       "2                                               Always                           \n",
       "3                                               Always                           \n",
       "4                                               Always                           \n",
       "..                                                 ...                           \n",
       "402                                             Never                            \n",
       "403                                             Never                            \n",
       "404                                             Never                            \n",
       "405                                             Never                            \n",
       "406                                             Never                            \n",
       "\n",
       "    I take longer time than others to eat my meals  \\\n",
       "0                                          Always    \n",
       "1                                          Always    \n",
       "2                                          Always    \n",
       "3                                          Always    \n",
       "4                                          Always    \n",
       "..                                             ...   \n",
       "402                                          Never   \n",
       "403                                          Never   \n",
       "404                                          Never   \n",
       "405                                          Never   \n",
       "406                                          Never   \n",
       "\n",
       "    I avoid food and drink with sugar content I like my stomach empty   \\\n",
       "0                                      Always                  Always    \n",
       "1                                      Always                  Always    \n",
       "2                                      Always                  Always    \n",
       "3                                      Always                  Always    \n",
       "4                                      Always                   Often    \n",
       "..                                        ...                      ...   \n",
       "402                                     Never                   Never    \n",
       "403                                     Never                   Never    \n",
       "404                                     Never                   Never    \n",
       "405                                     Never                   Never    \n",
       "406                                     Never                   Never    \n",
       "\n",
       "    I fast to avoid eating  \n",
       "0                   Always  \n",
       "1                   Always  \n",
       "2                   Always  \n",
       "3                   Always  \n",
       "4                   Always  \n",
       "..                     ...  \n",
       "402                  Never  \n",
       "403                  Never  \n",
       "404                  Never  \n",
       "405                  Never  \n",
       "406                  Never  \n",
       "\n",
       "[407 rows x 7 columns]"
      ]
     },
     "execution_count": 67,
     "metadata": {},
     "output_type": "execute_result"
    }
   ],
   "source": [
    "Objects=df.select_dtypes('object')\n",
    "Objects"
   ]
  },
  {
   "cell_type": "code",
   "execution_count": 68,
   "id": "7d30f7be",
   "metadata": {},
   "outputs": [],
   "source": [
    "\n",
    "## the object datatypes will be converted to numerical category in order to pass it to our algorithm\n",
    "from sklearn import preprocessing as pp"
   ]
  },
  {
   "cell_type": "code",
   "execution_count": 69,
   "id": "c289e9de",
   "metadata": {},
   "outputs": [
    {
     "data": {
      "text/plain": [
       "LabelEncoder()"
      ]
     },
     "execution_count": 69,
     "metadata": {},
     "output_type": "execute_result"
    }
   ],
   "source": [
    "\n",
    "## instanciation\n",
    "label_encoder=pp.LabelEncoder()\n",
    "label_encoder"
   ]
  },
  {
   "cell_type": "code",
   "execution_count": 70,
   "id": "76cf1208",
   "metadata": {},
   "outputs": [
    {
     "data": {
      "text/plain": [
       "['I avoid eating when am hungry',\n",
       " 'I cut my food into small pieces',\n",
       " 'I particularly avoid food with high carbonhydrate(bread,rice,potatoes etc)',\n",
       " 'I take longer time than others to eat my meals',\n",
       " 'I avoid food and drink with sugar content',\n",
       " 'I like my stomach empty ',\n",
       " 'I fast to avoid eating']"
      ]
     },
     "execution_count": 70,
     "metadata": {},
     "output_type": "execute_result"
    }
   ],
   "source": [
    "## get the columns of the object datatypes as a list because i want to use for the loop iteration \n",
    "obj=Objects.columns.to_list()\n",
    "obj"
   ]
  },
  {
   "cell_type": "code",
   "execution_count": 71,
   "id": "44620f28",
   "metadata": {},
   "outputs": [],
   "source": [
    "for column in obj:\n",
    "    Objects[column]=label_encoder.fit_transform(Objects[column])"
   ]
  },
  {
   "cell_type": "code",
   "execution_count": 72,
   "id": "00cebc0b",
   "metadata": {},
   "outputs": [
    {
     "data": {
      "text/html": [
       "<div>\n",
       "<style scoped>\n",
       "    .dataframe tbody tr th:only-of-type {\n",
       "        vertical-align: middle;\n",
       "    }\n",
       "\n",
       "    .dataframe tbody tr th {\n",
       "        vertical-align: top;\n",
       "    }\n",
       "\n",
       "    .dataframe thead th {\n",
       "        text-align: right;\n",
       "    }\n",
       "</style>\n",
       "<table border=\"1\" class=\"dataframe\">\n",
       "  <thead>\n",
       "    <tr style=\"text-align: right;\">\n",
       "      <th></th>\n",
       "      <th>I avoid eating when am hungry</th>\n",
       "      <th>I cut my food into small pieces</th>\n",
       "      <th>I particularly avoid food with high carbonhydrate(bread,rice,potatoes etc)</th>\n",
       "      <th>I take longer time than others to eat my meals</th>\n",
       "      <th>I avoid food and drink with sugar content</th>\n",
       "      <th>I like my stomach empty</th>\n",
       "      <th>I fast to avoid eating</th>\n",
       "    </tr>\n",
       "  </thead>\n",
       "  <tbody>\n",
       "    <tr>\n",
       "      <th>0</th>\n",
       "      <td>0</td>\n",
       "      <td>0</td>\n",
       "      <td>0</td>\n",
       "      <td>0</td>\n",
       "      <td>0</td>\n",
       "      <td>0</td>\n",
       "      <td>0</td>\n",
       "    </tr>\n",
       "    <tr>\n",
       "      <th>1</th>\n",
       "      <td>0</td>\n",
       "      <td>0</td>\n",
       "      <td>0</td>\n",
       "      <td>0</td>\n",
       "      <td>0</td>\n",
       "      <td>0</td>\n",
       "      <td>0</td>\n",
       "    </tr>\n",
       "    <tr>\n",
       "      <th>2</th>\n",
       "      <td>0</td>\n",
       "      <td>0</td>\n",
       "      <td>0</td>\n",
       "      <td>0</td>\n",
       "      <td>0</td>\n",
       "      <td>0</td>\n",
       "      <td>0</td>\n",
       "    </tr>\n",
       "    <tr>\n",
       "      <th>3</th>\n",
       "      <td>0</td>\n",
       "      <td>0</td>\n",
       "      <td>0</td>\n",
       "      <td>0</td>\n",
       "      <td>0</td>\n",
       "      <td>0</td>\n",
       "      <td>0</td>\n",
       "    </tr>\n",
       "    <tr>\n",
       "      <th>4</th>\n",
       "      <td>0</td>\n",
       "      <td>0</td>\n",
       "      <td>0</td>\n",
       "      <td>0</td>\n",
       "      <td>0</td>\n",
       "      <td>4</td>\n",
       "      <td>0</td>\n",
       "    </tr>\n",
       "    <tr>\n",
       "      <th>...</th>\n",
       "      <td>...</td>\n",
       "      <td>...</td>\n",
       "      <td>...</td>\n",
       "      <td>...</td>\n",
       "      <td>...</td>\n",
       "      <td>...</td>\n",
       "      <td>...</td>\n",
       "    </tr>\n",
       "    <tr>\n",
       "      <th>402</th>\n",
       "      <td>1</td>\n",
       "      <td>2</td>\n",
       "      <td>1</td>\n",
       "      <td>1</td>\n",
       "      <td>1</td>\n",
       "      <td>2</td>\n",
       "      <td>2</td>\n",
       "    </tr>\n",
       "    <tr>\n",
       "      <th>403</th>\n",
       "      <td>1</td>\n",
       "      <td>2</td>\n",
       "      <td>1</td>\n",
       "      <td>1</td>\n",
       "      <td>1</td>\n",
       "      <td>2</td>\n",
       "      <td>2</td>\n",
       "    </tr>\n",
       "    <tr>\n",
       "      <th>404</th>\n",
       "      <td>1</td>\n",
       "      <td>2</td>\n",
       "      <td>1</td>\n",
       "      <td>1</td>\n",
       "      <td>1</td>\n",
       "      <td>2</td>\n",
       "      <td>2</td>\n",
       "    </tr>\n",
       "    <tr>\n",
       "      <th>405</th>\n",
       "      <td>1</td>\n",
       "      <td>2</td>\n",
       "      <td>1</td>\n",
       "      <td>1</td>\n",
       "      <td>1</td>\n",
       "      <td>2</td>\n",
       "      <td>2</td>\n",
       "    </tr>\n",
       "    <tr>\n",
       "      <th>406</th>\n",
       "      <td>1</td>\n",
       "      <td>2</td>\n",
       "      <td>1</td>\n",
       "      <td>1</td>\n",
       "      <td>1</td>\n",
       "      <td>2</td>\n",
       "      <td>2</td>\n",
       "    </tr>\n",
       "  </tbody>\n",
       "</table>\n",
       "<p>407 rows × 7 columns</p>\n",
       "</div>"
      ],
      "text/plain": [
       "     I avoid eating when am hungry  I cut my food into small pieces  \\\n",
       "0                                0                                0   \n",
       "1                                0                                0   \n",
       "2                                0                                0   \n",
       "3                                0                                0   \n",
       "4                                0                                0   \n",
       "..                             ...                              ...   \n",
       "402                              1                                2   \n",
       "403                              1                                2   \n",
       "404                              1                                2   \n",
       "405                              1                                2   \n",
       "406                              1                                2   \n",
       "\n",
       "     I particularly avoid food with high carbonhydrate(bread,rice,potatoes etc)  \\\n",
       "0                                                    0                            \n",
       "1                                                    0                            \n",
       "2                                                    0                            \n",
       "3                                                    0                            \n",
       "4                                                    0                            \n",
       "..                                                 ...                            \n",
       "402                                                  1                            \n",
       "403                                                  1                            \n",
       "404                                                  1                            \n",
       "405                                                  1                            \n",
       "406                                                  1                            \n",
       "\n",
       "     I take longer time than others to eat my meals  \\\n",
       "0                                                 0   \n",
       "1                                                 0   \n",
       "2                                                 0   \n",
       "3                                                 0   \n",
       "4                                                 0   \n",
       "..                                              ...   \n",
       "402                                               1   \n",
       "403                                               1   \n",
       "404                                               1   \n",
       "405                                               1   \n",
       "406                                               1   \n",
       "\n",
       "     I avoid food and drink with sugar content  I like my stomach empty   \\\n",
       "0                                            0                         0   \n",
       "1                                            0                         0   \n",
       "2                                            0                         0   \n",
       "3                                            0                         0   \n",
       "4                                            0                         4   \n",
       "..                                         ...                       ...   \n",
       "402                                          1                         2   \n",
       "403                                          1                         2   \n",
       "404                                          1                         2   \n",
       "405                                          1                         2   \n",
       "406                                          1                         2   \n",
       "\n",
       "     I fast to avoid eating  \n",
       "0                         0  \n",
       "1                         0  \n",
       "2                         0  \n",
       "3                         0  \n",
       "4                         0  \n",
       "..                      ...  \n",
       "402                       2  \n",
       "403                       2  \n",
       "404                       2  \n",
       "405                       2  \n",
       "406                       2  \n",
       "\n",
       "[407 rows x 7 columns]"
      ]
     },
     "execution_count": 72,
     "metadata": {},
     "output_type": "execute_result"
    }
   ],
   "source": [
    "Objects"
   ]
  },
  {
   "cell_type": "code",
   "execution_count": 73,
   "id": "36b51792",
   "metadata": {},
   "outputs": [],
   "source": [
    "Objects.head(60)\n",
    "from pathlib import Path  \n",
    "filepath = Path('book.csv') \n",
    "filepath.parent.mkdir(parents=True, exist_ok=True)  \n",
    "Objects.to_csv(\"/Users/SBMCODED/Desktop/book.csv\", index=False)  "
   ]
  },
  {
   "cell_type": "code",
   "execution_count": 74,
   "id": "50bf5934",
   "metadata": {},
   "outputs": [
    {
     "data": {
      "text/html": [
       "<div>\n",
       "<style scoped>\n",
       "    .dataframe tbody tr th:only-of-type {\n",
       "        vertical-align: middle;\n",
       "    }\n",
       "\n",
       "    .dataframe tbody tr th {\n",
       "        vertical-align: top;\n",
       "    }\n",
       "\n",
       "    .dataframe thead th {\n",
       "        text-align: right;\n",
       "    }\n",
       "</style>\n",
       "<table border=\"1\" class=\"dataframe\">\n",
       "  <thead>\n",
       "    <tr style=\"text-align: right;\">\n",
       "      <th></th>\n",
       "      <th>I avoid eating when am hungry</th>\n",
       "      <th>I cut my food into small pieces</th>\n",
       "      <th>I particularly avoid food with high carbonhydrate(bread,rice,potatoes etc)</th>\n",
       "      <th>I take longer time than others to eat my meals</th>\n",
       "      <th>I avoid food and drink with sugar content</th>\n",
       "      <th>I like my stomach empty</th>\n",
       "      <th>I fast to avoid eating</th>\n",
       "    </tr>\n",
       "  </thead>\n",
       "  <tbody>\n",
       "    <tr>\n",
       "      <th>0</th>\n",
       "      <td>0</td>\n",
       "      <td>0</td>\n",
       "      <td>0</td>\n",
       "      <td>0</td>\n",
       "      <td>0</td>\n",
       "      <td>0</td>\n",
       "      <td>0</td>\n",
       "    </tr>\n",
       "    <tr>\n",
       "      <th>1</th>\n",
       "      <td>0</td>\n",
       "      <td>0</td>\n",
       "      <td>0</td>\n",
       "      <td>0</td>\n",
       "      <td>0</td>\n",
       "      <td>0</td>\n",
       "      <td>0</td>\n",
       "    </tr>\n",
       "    <tr>\n",
       "      <th>2</th>\n",
       "      <td>0</td>\n",
       "      <td>0</td>\n",
       "      <td>0</td>\n",
       "      <td>0</td>\n",
       "      <td>0</td>\n",
       "      <td>0</td>\n",
       "      <td>0</td>\n",
       "    </tr>\n",
       "    <tr>\n",
       "      <th>3</th>\n",
       "      <td>0</td>\n",
       "      <td>0</td>\n",
       "      <td>0</td>\n",
       "      <td>0</td>\n",
       "      <td>0</td>\n",
       "      <td>0</td>\n",
       "      <td>0</td>\n",
       "    </tr>\n",
       "    <tr>\n",
       "      <th>4</th>\n",
       "      <td>0</td>\n",
       "      <td>0</td>\n",
       "      <td>0</td>\n",
       "      <td>0</td>\n",
       "      <td>0</td>\n",
       "      <td>4</td>\n",
       "      <td>0</td>\n",
       "    </tr>\n",
       "    <tr>\n",
       "      <th>...</th>\n",
       "      <td>...</td>\n",
       "      <td>...</td>\n",
       "      <td>...</td>\n",
       "      <td>...</td>\n",
       "      <td>...</td>\n",
       "      <td>...</td>\n",
       "      <td>...</td>\n",
       "    </tr>\n",
       "    <tr>\n",
       "      <th>195</th>\n",
       "      <td>0</td>\n",
       "      <td>1</td>\n",
       "      <td>0</td>\n",
       "      <td>0</td>\n",
       "      <td>0</td>\n",
       "      <td>3</td>\n",
       "      <td>1</td>\n",
       "    </tr>\n",
       "    <tr>\n",
       "      <th>196</th>\n",
       "      <td>0</td>\n",
       "      <td>1</td>\n",
       "      <td>0</td>\n",
       "      <td>0</td>\n",
       "      <td>0</td>\n",
       "      <td>3</td>\n",
       "      <td>1</td>\n",
       "    </tr>\n",
       "    <tr>\n",
       "      <th>197</th>\n",
       "      <td>0</td>\n",
       "      <td>6</td>\n",
       "      <td>0</td>\n",
       "      <td>0</td>\n",
       "      <td>0</td>\n",
       "      <td>3</td>\n",
       "      <td>1</td>\n",
       "    </tr>\n",
       "    <tr>\n",
       "      <th>198</th>\n",
       "      <td>0</td>\n",
       "      <td>6</td>\n",
       "      <td>0</td>\n",
       "      <td>0</td>\n",
       "      <td>0</td>\n",
       "      <td>3</td>\n",
       "      <td>1</td>\n",
       "    </tr>\n",
       "    <tr>\n",
       "      <th>199</th>\n",
       "      <td>0</td>\n",
       "      <td>6</td>\n",
       "      <td>0</td>\n",
       "      <td>0</td>\n",
       "      <td>0</td>\n",
       "      <td>3</td>\n",
       "      <td>1</td>\n",
       "    </tr>\n",
       "  </tbody>\n",
       "</table>\n",
       "<p>200 rows × 7 columns</p>\n",
       "</div>"
      ],
      "text/plain": [
       "     I avoid eating when am hungry  I cut my food into small pieces  \\\n",
       "0                                0                                0   \n",
       "1                                0                                0   \n",
       "2                                0                                0   \n",
       "3                                0                                0   \n",
       "4                                0                                0   \n",
       "..                             ...                              ...   \n",
       "195                              0                                1   \n",
       "196                              0                                1   \n",
       "197                              0                                6   \n",
       "198                              0                                6   \n",
       "199                              0                                6   \n",
       "\n",
       "     I particularly avoid food with high carbonhydrate(bread,rice,potatoes etc)  \\\n",
       "0                                                    0                            \n",
       "1                                                    0                            \n",
       "2                                                    0                            \n",
       "3                                                    0                            \n",
       "4                                                    0                            \n",
       "..                                                 ...                            \n",
       "195                                                  0                            \n",
       "196                                                  0                            \n",
       "197                                                  0                            \n",
       "198                                                  0                            \n",
       "199                                                  0                            \n",
       "\n",
       "     I take longer time than others to eat my meals  \\\n",
       "0                                                 0   \n",
       "1                                                 0   \n",
       "2                                                 0   \n",
       "3                                                 0   \n",
       "4                                                 0   \n",
       "..                                              ...   \n",
       "195                                               0   \n",
       "196                                               0   \n",
       "197                                               0   \n",
       "198                                               0   \n",
       "199                                               0   \n",
       "\n",
       "     I avoid food and drink with sugar content  I like my stomach empty   \\\n",
       "0                                            0                         0   \n",
       "1                                            0                         0   \n",
       "2                                            0                         0   \n",
       "3                                            0                         0   \n",
       "4                                            0                         4   \n",
       "..                                         ...                       ...   \n",
       "195                                          0                         3   \n",
       "196                                          0                         3   \n",
       "197                                          0                         3   \n",
       "198                                          0                         3   \n",
       "199                                          0                         3   \n",
       "\n",
       "     I fast to avoid eating  \n",
       "0                         0  \n",
       "1                         0  \n",
       "2                         0  \n",
       "3                         0  \n",
       "4                         0  \n",
       "..                      ...  \n",
       "195                       1  \n",
       "196                       1  \n",
       "197                       1  \n",
       "198                       1  \n",
       "199                       1  \n",
       "\n",
       "[200 rows x 7 columns]"
      ]
     },
     "execution_count": 74,
     "metadata": {},
     "output_type": "execute_result"
    }
   ],
   "source": [
    "Objects.head(200)"
   ]
  },
  {
   "cell_type": "markdown",
   "id": "c2fb0e5f",
   "metadata": {},
   "source": [
    "## working on dataset with column \"i avoid food when am hungry\""
   ]
  },
  {
   "cell_type": "code",
   "execution_count": 75,
   "id": "1690ff25",
   "metadata": {},
   "outputs": [],
   "source": [
    "## print how many times Always appear in the dataset. the dataset has undergo labelendcoder() so all the value has been converted to numeric form\n",
    "count_always =Objects[Objects['I avoid eating when am hungry']==0].shape[0]"
   ]
  },
  {
   "cell_type": "code",
   "execution_count": 76,
   "id": "71fed009",
   "metadata": {},
   "outputs": [
    {
     "name": "stdout",
     "output_type": "stream",
     "text": [
      "number of times always appear in the dataset 56\n"
     ]
    }
   ],
   "source": [
    "## print total number of times always appear in the dataset\n",
    "print(\"number of times always appear in the dataset\",count_always)"
   ]
  },
  {
   "cell_type": "code",
   "execution_count": 77,
   "id": "160ca7e2",
   "metadata": {},
   "outputs": [],
   "source": [
    "## so from the dataset will have to know how many times a male and female undergraduate always avoid eating when they are hungry\n",
    "count_male_always=df[(df['Class']==1)&(Objects['I avoid eating when am hungry']==0)].shape[0]\n",
    "count_female_always=df[(df['Class']==0)&(Objects['I avoid eating when am hungry']==0)].shape[0]"
   ]
  },
  {
   "cell_type": "code",
   "execution_count": 78,
   "id": "066756b6",
   "metadata": {},
   "outputs": [
    {
     "name": "stdout",
     "output_type": "stream",
     "text": [
      "the total number of male always avoid food when they are hungry 28\n",
      "the total number of female always avoid food when they are hungry 28\n"
     ]
    }
   ],
   "source": [
    "print(\"the total number of male always avoid food when they are hungry\",count_male_always)\n",
    "print(\"the total number of female always avoid food when they are hungry\",count_female_always)"
   ]
  },
  {
   "cell_type": "code",
   "execution_count": 79,
   "id": "d465d239",
   "metadata": {},
   "outputs": [
    {
     "name": "stdout",
     "output_type": "stream",
     "text": [
      "the total number of percentage of male that always avoid food when they are hungry is: 50.0 %\n",
      "the total number of percentage of female that always avoid food when they are hungry is: 50.0 %\n"
     ]
    }
   ],
   "source": [
    "## calculating the percentage of male and female undergraduate \n",
    "male_always_percentage=(28/56)*100\n",
    "print('the total number of percentage of male that always avoid food when they are hungry is:',male_always_percentage,'%')\n",
    "female_always_percentage=(28/56)*100\n",
    "print('the total number of percentage of female that always avoid food when they are hungry is:',female_always_percentage,'%')"
   ]
  },
  {
   "cell_type": "code",
   "execution_count": 80,
   "id": "48785aa8",
   "metadata": {},
   "outputs": [],
   "source": [
    "Classes1=[count_male_always,count_female_always]\n",
    "percentage1=[male_always_percentage,female_always_percentage]"
   ]
  },
  {
   "cell_type": "code",
   "execution_count": 81,
   "id": "128e9068",
   "metadata": {},
   "outputs": [],
   "source": [
    "import seaborn as sns"
   ]
  },
  {
   "cell_type": "code",
   "execution_count": 82,
   "id": "3bf82882",
   "metadata": {},
   "outputs": [
    {
     "name": "stderr",
     "output_type": "stream",
     "text": [
      "C:\\Users\\SBMCODED\\AppData\\Local\\Programs\\Python\\Python310\\lib\\site-packages\\seaborn\\_decorators.py:36: FutureWarning: Pass the following variables as keyword args: x, y. From version 0.12, the only valid positional argument will be `data`, and passing other arguments without an explicit keyword will result in an error or misinterpretation.\n",
      "  warnings.warn(\n"
     ]
    },
    {
     "data": {
      "text/plain": [
       "Text(0.5, 1.0, 'the total number of male and female undergraduate perecentage that always avoid food when they are hungry')"
      ]
     },
     "execution_count": 82,
     "metadata": {},
     "output_type": "execute_result"
    },
    {
     "data": {
      "image/png": "[encoded data removed]",
      "text/plain": [
       "<Figure size 432x288 with 1 Axes>"
      ]
     },
     "metadata": {
      "needs_background": "light"
     },
     "output_type": "display_data"
    }
   ],
   "source": [
    "sns.barplot(Classes1,percentage1)\n",
    "plt.title(\"the total number of male and female undergraduate perecentage that always avoid food when they are hungry\")\n"
   ]
  },
  {
   "cell_type": "markdown",
   "id": "0b549b25",
   "metadata": {},
   "source": [
    "## when it comes to always avoid food when am hungry \n",
    "The graphical representation shows that both male and female undergraduate always avoid food equally "
   ]
  },
  {
   "cell_type": "markdown",
   "id": "7fe89692",
   "metadata": {},
   "source": [
    "## working on i never avoid food when am hungry among male and female undergraduate"
   ]
  },
  {
   "cell_type": "code",
   "execution_count": 83,
   "id": "e3590285",
   "metadata": {},
   "outputs": [],
   "source": [
    "## print how many times never appear in the dataset. the dataset has undergo labelendcoder() so all the value has been converted to numeric form\n",
    "count_never =Objects[Objects['I avoid eating when am hungry']==1].shape[0]"
   ]
  },
  {
   "cell_type": "code",
   "execution_count": 84,
   "id": "76eb1e72",
   "metadata": {},
   "outputs": [
    {
     "name": "stdout",
     "output_type": "stream",
     "text": [
      "number of times never appear in the dataset 50\n"
     ]
    }
   ],
   "source": [
    "## print total number of times never appear in the dataset\n",
    "print(\"number of times never appear in the dataset\",count_never)"
   ]
  },
  {
   "cell_type": "code",
   "execution_count": 85,
   "id": "62e45148",
   "metadata": {},
   "outputs": [],
   "source": [
    "## so from the dataset will have to know how many times a male and female undergraduate never avoid eating when they are hungry\n",
    "count_male_never=df[(df['Class']==1)&(Objects['I avoid eating when am hungry']==1)].shape[0]\n",
    "count_female_never=df[(df['Class']==0)&(Objects['I avoid eating when am hungry']==1)].shape[0]"
   ]
  },
  {
   "cell_type": "code",
   "execution_count": 86,
   "id": "79c1d8dd",
   "metadata": {},
   "outputs": [
    {
     "name": "stdout",
     "output_type": "stream",
     "text": [
      "the total number of male that never  avoid food when they are hungry 36\n",
      "the total number of female that never avoid food when they are hungry 14\n"
     ]
    }
   ],
   "source": [
    "print(\"the total number of male that never  avoid food when they are hungry\",count_male_never)\n",
    "print(\"the total number of female that never avoid food when they are hungry\",count_female_never)"
   ]
  },
  {
   "cell_type": "code",
   "execution_count": 87,
   "id": "ec12a590",
   "metadata": {},
   "outputs": [
    {
     "name": "stdout",
     "output_type": "stream",
     "text": [
      "the total number of percentage of male that never avoid food when they are hungry is: 72.0 %\n",
      "the total number of percentage of female that never avoid food when they are hungry is: 28.000000000000004 %\n"
     ]
    }
   ],
   "source": [
    "male_never_percentage=(36/50)*100\n",
    "print(\"the total number of percentage of male that never avoid food when they are hungry is:\",male_never_percentage,'%')\n",
    "female_never_percentage=(14/50)*100\n",
    "print(\"the total number of percentage of female that never avoid food when they are hungry is:\",female_never_percentage,'%')\n",
    "\n"
   ]
  },
  {
   "cell_type": "code",
   "execution_count": 88,
   "id": "fc8e6cb1",
   "metadata": {},
   "outputs": [],
   "source": [
    "Classes=[count_male_never,count_female_never]\n",
    "percentage=[male_never_percentage,female_never_percentage]"
   ]
  },
  {
   "cell_type": "code",
   "execution_count": 89,
   "id": "19203ea7",
   "metadata": {},
   "outputs": [
    {
     "name": "stderr",
     "output_type": "stream",
     "text": [
      "C:\\Users\\SBMCODED\\AppData\\Local\\Programs\\Python\\Python310\\lib\\site-packages\\seaborn\\_decorators.py:36: FutureWarning: Pass the following variables as keyword args: x, y. From version 0.12, the only valid positional argument will be `data`, and passing other arguments without an explicit keyword will result in an error or misinterpretation.\n",
      "  warnings.warn(\n"
     ]
    },
    {
     "data": {
      "text/plain": [
       "Text(0.5, 1.0, 'the graphical representation of male and female undergraduate that never avoid food when they are hungry')"
      ]
     },
     "execution_count": 89,
     "metadata": {},
     "output_type": "execute_result"
    },
    {
     "data": {
      "image/png": "[encoded data removed]",
      "text/plain": [
       "<Figure size 432x288 with 1 Axes>"
      ]
     },
     "metadata": {
      "needs_background": "light"
     },
     "output_type": "display_data"
    }
   ],
   "source": [
    "sns.barplot(Classes,percentage)\n",
    "plt.title(\"the graphical representation of male and female undergraduate that never avoid food when they are hungry\")"
   ]
  },
  {
   "cell_type": "markdown",
   "id": "c86d1549",
   "metadata": {},
   "source": [
    "## After some work on male and female that never avoid food when they are hungry \n",
    "The grahical representation shows that female never avoids food when they are hungry"
   ]
  },
  {
   "cell_type": "markdown",
   "id": "a30b472f",
   "metadata": {},
   "source": [
    "## working on i Often avoid food when am hungry"
   ]
  },
  {
   "cell_type": "code",
   "execution_count": 90,
   "id": "f6dbf779",
   "metadata": {},
   "outputs": [],
   "source": [
    "## print how many times often appear in the dataset. the dataset has undergo labelendcoder() so all the value has been converted to numeric form\n",
    "count_Often =Objects[Objects['I avoid eating when am hungry']==2].shape[0]"
   ]
  },
  {
   "cell_type": "code",
   "execution_count": 91,
   "id": "a0b7a56f",
   "metadata": {},
   "outputs": [
    {
     "name": "stdout",
     "output_type": "stream",
     "text": [
      "number of times often appear in the dataset 41\n"
     ]
    }
   ],
   "source": [
    "## print total number of times often appear in the dataset\n",
    "print(\"number of times often appear in the dataset\",count_Often)"
   ]
  },
  {
   "cell_type": "code",
   "execution_count": 92,
   "id": "366a9aa5",
   "metadata": {},
   "outputs": [],
   "source": [
    "## so from the dataset will have to know how many times a male and female undergraduate often avoid eating when they are hungry\n",
    "count_male_often=df[(df['Class']==1)&(Objects['I avoid eating when am hungry']==2)].shape[0]\n",
    "count_female_often=df[(df['Class']==0)&(Objects['I avoid eating when am hungry']==2)].shape[0]"
   ]
  },
  {
   "cell_type": "code",
   "execution_count": 93,
   "id": "9e828f1b",
   "metadata": {},
   "outputs": [
    {
     "name": "stdout",
     "output_type": "stream",
     "text": [
      "the total number of male often avoid food when they are hungry 20\n",
      "the total number of female often avoid food when they are hungry 21\n"
     ]
    }
   ],
   "source": [
    "print(\"the total number of male often avoid food when they are hungry\",count_male_often)\n",
    "print(\"the total number of female often avoid food when they are hungry\",count_female_often)"
   ]
  },
  {
   "cell_type": "code",
   "execution_count": 94,
   "id": "1b425dfd",
   "metadata": {},
   "outputs": [
    {
     "name": "stdout",
     "output_type": "stream",
     "text": [
      "the total number of percentage of male that often avoid food when they are hungry is: 48.78048780487805 %\n",
      "the total number of percentage of female that ofteh avoid food when they are hungry is: 51.21951219512195 %\n"
     ]
    }
   ],
   "source": [
    "male_often_percentage=(20/41)*100\n",
    "print(\"the total number of percentage of male that often avoid food when they are hungry is:\",male_often_percentage,'%')\n",
    "female_often_percentage=(21/41)*100\n",
    "print(\"the total number of percentage of female that ofteh avoid food when they are hungry is:\",female_often_percentage,'%')\n",
    "\n"
   ]
  },
  {
   "cell_type": "code",
   "execution_count": 95,
   "id": "f9938cae",
   "metadata": {},
   "outputs": [],
   "source": [
    "Classes2=[count_male_often,count_female_often]\n",
    "percentage2=[male_often_percentage,female_often_percentage]"
   ]
  },
  {
   "cell_type": "code",
   "execution_count": 96,
   "id": "5f966da0",
   "metadata": {},
   "outputs": [
    {
     "name": "stderr",
     "output_type": "stream",
     "text": [
      "C:\\Users\\SBMCODED\\AppData\\Local\\Programs\\Python\\Python310\\lib\\site-packages\\seaborn\\_decorators.py:36: FutureWarning: Pass the following variables as keyword args: x, y. From version 0.12, the only valid positional argument will be `data`, and passing other arguments without an explicit keyword will result in an error or misinterpretation.\n",
      "  warnings.warn(\n"
     ]
    },
    {
     "data": {
      "text/plain": [
       "Text(0.5, 1.0, 'the graphical representation of male and female undergraduate that often avoid food when they are hungry')"
      ]
     },
     "execution_count": 96,
     "metadata": {},
     "output_type": "execute_result"
    },
    {
     "data": {
      "image/png": "[encoded data removed]",
      "text/plain": [
       "<Figure size 432x288 with 1 Axes>"
      ]
     },
     "metadata": {
      "needs_background": "light"
     },
     "output_type": "display_data"
    }
   ],
   "source": [
    "sns.barplot(Classes2,percentage2)\n",
    "plt.title(\"the graphical representation of male and female undergraduate that often avoid food when they are hungry\")"
   ]
  },
  {
   "cell_type": "markdown",
   "id": "913f61ce",
   "metadata": {},
   "source": [
    "## working on i rarely avoid food when am hungry"
   ]
  },
  {
   "cell_type": "code",
   "execution_count": 97,
   "id": "b4a0ada2",
   "metadata": {},
   "outputs": [],
   "source": [
    "## print how many times rarely appear in the dataset. the dataset has undergo labelendcoder() so all the value has been converted to numeric form\n",
    "count_rarely =Objects[Objects['I avoid eating when am hungry']==3].shape[0]\n",
    "## print how many times rarely appear in the dataset. the dataset has undergo labelendcoder() so all the value has been converted to numeric form\n",
    "count_rarely1=Objects[Objects['I avoid eating when am hungry']==4].shape[0]"
   ]
  },
  {
   "cell_type": "code",
   "execution_count": 98,
   "id": "4be78fc8",
   "metadata": {},
   "outputs": [],
   "source": [
    "## since rarely appear to times in the labelencoder we need to mergr them together\n",
    "counts_rarely=count_rarely+count_rarely1"
   ]
  },
  {
   "cell_type": "code",
   "execution_count": 99,
   "id": "f4efbeb8",
   "metadata": {},
   "outputs": [
    {
     "name": "stdout",
     "output_type": "stream",
     "text": [
      "number of times rarely appear in the dataset 147\n"
     ]
    }
   ],
   "source": [
    "## print total number of times rarely appear in the dataset\n",
    "print(\"number of times rarely appear in the dataset\",counts_rarely)"
   ]
  },
  {
   "cell_type": "code",
   "execution_count": 100,
   "id": "4b48981c",
   "metadata": {},
   "outputs": [
    {
     "name": "stdout",
     "output_type": "stream",
     "text": [
      "the male percentage is 45.94594594594595\n",
      "the female percentage is 54.054054054054056\n"
     ]
    }
   ],
   "source": [
    "## for us to know how many male or female undergrduate rarely avoid food when they are hungry we need to know the percentage of male and female undergraduate\n",
    "## since the whole dataset is 407 \n",
    "## and we have 220 female and 187 male \n",
    "male_percentage=(187/407)*100\n",
    "female_percentage=(220/407)*100\n",
    "print('the male percentage is',male_percentage)\n",
    "print('the female percentage is',female_percentage)"
   ]
  },
  {
   "cell_type": "code",
   "execution_count": 101,
   "id": "21ac4367",
   "metadata": {},
   "outputs": [],
   "source": [
    "#### so from the dataset will have to know how many times a male and female undergraduate rarely avoid eating when they are hungry\n",
    "counts_male_rarely= 147*0.46\n",
    "count_female_rarely=147*0.54"
   ]
  },
  {
   "cell_type": "code",
   "execution_count": 102,
   "id": "256c1a55",
   "metadata": {},
   "outputs": [],
   "source": [
    "##roundng the decimal to nearest whole number to have accurate number of male and female undergraduate that rarely avoid eating when they are hungry\n",
    "\n",
    "counts_male_rarely1=round(counts_male_rarely)\n",
    "counts_female_rarely1=round(count_female_rarely)"
   ]
  },
  {
   "cell_type": "code",
   "execution_count": 103,
   "id": "cb2664f5",
   "metadata": {},
   "outputs": [
    {
     "name": "stdout",
     "output_type": "stream",
     "text": [
      "the total number of male rarely avoid food when they are hungry 68\n",
      "the total number of female rarely avoid food when they are hungry 79\n"
     ]
    }
   ],
   "source": [
    "print(\"the total number of male rarely avoid food when they are hungry\",counts_male_rarely1)\n",
    "print(\"the total number of female rarely avoid food when they are hungry\",counts_female_rarely1)"
   ]
  },
  {
   "cell_type": "code",
   "execution_count": 104,
   "id": "314927b7",
   "metadata": {},
   "outputs": [
    {
     "name": "stdout",
     "output_type": "stream",
     "text": [
      "the total number of percentage of male that rarely avoid food when they are hungry is: 46.25850340136054 %\n",
      "the total number of percentage of female that rarely avoid food when they are hungry is: 53.74149659863946 %\n"
     ]
    }
   ],
   "source": [
    "male_rarely_percentage=(68/147)*100\n",
    "print(\"the total number of percentage of male that rarely avoid food when they are hungry is:\",male_rarely_percentage,'%')\n",
    "female_rarely_percentage=(79/147)*100\n",
    "print(\"the total number of percentage of female that rarely avoid food when they are hungry is:\",female_rarely_percentage,'%')\n",
    "\n"
   ]
  },
  {
   "cell_type": "code",
   "execution_count": 105,
   "id": "4ad1d418",
   "metadata": {},
   "outputs": [],
   "source": [
    "Classes3=[counts_male_rarely1,counts_female_rarely1]\n",
    "percentage3=[male_rarely_percentage,female_rarely_percentage]"
   ]
  },
  {
   "cell_type": "code",
   "execution_count": 106,
   "id": "4c8fd9af",
   "metadata": {},
   "outputs": [
    {
     "name": "stderr",
     "output_type": "stream",
     "text": [
      "C:\\Users\\SBMCODED\\AppData\\Local\\Programs\\Python\\Python310\\lib\\site-packages\\seaborn\\_decorators.py:36: FutureWarning: Pass the following variables as keyword args: x, y. From version 0.12, the only valid positional argument will be `data`, and passing other arguments without an explicit keyword will result in an error or misinterpretation.\n",
      "  warnings.warn(\n"
     ]
    },
    {
     "data": {
      "text/plain": [
       "Text(0.5, 1.0, 'the graphical representation of male and female undergraduate that rarely avoid foo when they are hungry')"
      ]
     },
     "execution_count": 106,
     "metadata": {},
     "output_type": "execute_result"
    },
    {
     "data": {
      "image/png": "[encoded data removed]",
      "text/plain": [
       "<Figure size 432x288 with 1 Axes>"
      ]
     },
     "metadata": {
      "needs_background": "light"
     },
     "output_type": "display_data"
    }
   ],
   "source": [
    "sns.barplot(Classes3,percentage3)\n",
    "plt.title(\"the graphical representation of male and female undergraduate that rarely avoid foo when they are hungry\")"
   ]
  },
  {
   "cell_type": "markdown",
   "id": "2c63fe43",
   "metadata": {},
   "source": [
    "## working on i sometimes avoid food when am hungry"
   ]
  },
  {
   "cell_type": "code",
   "execution_count": 107,
   "id": "abbffb13",
   "metadata": {},
   "outputs": [],
   "source": [
    "## print how many times sometimes appear in the dataset. the dataset has undergo labelendcoder() so all the value has been converted to numeric form\n",
    "count_sometimes =Objects[Objects['I avoid eating when am hungry']==5].shape[0]"
   ]
  },
  {
   "cell_type": "code",
   "execution_count": 108,
   "id": "c61cff47",
   "metadata": {},
   "outputs": [
    {
     "name": "stdout",
     "output_type": "stream",
     "text": [
      "number of times sometimes appear in the dataset 73\n"
     ]
    }
   ],
   "source": [
    "## print total number of times sometimes appear in the dataset\n",
    "print(\"number of times sometimes appear in the dataset\",count_sometimes)"
   ]
  },
  {
   "cell_type": "code",
   "execution_count": 109,
   "id": "b2939273",
   "metadata": {},
   "outputs": [],
   "source": [
    "## so from the dataset will have to know how many times a male and female undergraduate sometimes avoid eating when they are hungry\n",
    "count_male_sometimes=df[(df['Class']==1)&(Objects['I avoid eating when am hungry']==5)].shape[0]\n",
    "count_female_sometimes=df[(df['Class']==0)&(Objects['I avoid eating when am hungry']==5)].shape[0]"
   ]
  },
  {
   "cell_type": "code",
   "execution_count": 110,
   "id": "71a00c19",
   "metadata": {},
   "outputs": [
    {
     "name": "stdout",
     "output_type": "stream",
     "text": [
      "the total number of male that sometimes avoid food when they are hungry 36\n",
      "the total number of female that sometimes avoid food when they are hungry 37\n"
     ]
    }
   ],
   "source": [
    "print(\"the total number of male that sometimes avoid food when they are hungry\",count_male_sometimes)\n",
    "print(\"the total number of female that sometimes avoid food when they are hungry\",count_female_sometimes)"
   ]
  },
  {
   "cell_type": "code",
   "execution_count": 111,
   "id": "996852cf",
   "metadata": {},
   "outputs": [
    {
     "name": "stdout",
     "output_type": "stream",
     "text": [
      "the total number of percentage of male that sometimes avoid food when they are hungry is: 49.31506849315068 %\n",
      "the total number of percentage of female that sometimes avoid food when they are hungry is: 50.68493150684932 %\n"
     ]
    }
   ],
   "source": [
    "male_sometimes_percentage=(36/73)*100\n",
    "print(\"the total number of percentage of male that sometimes avoid food when they are hungry is:\",male_sometimes_percentage,'%')\n",
    "female_sometimes_percentage=(37/73)*100\n",
    "print(\"the total number of percentage of female that sometimes avoid food when they are hungry is:\",female_sometimes_percentage,'%')\n",
    "\n"
   ]
  },
  {
   "cell_type": "code",
   "execution_count": 112,
   "id": "4fb8700d",
   "metadata": {},
   "outputs": [],
   "source": [
    "Classes4=[count_male_sometimes,count_female_sometimes]\n",
    "percentage4=[male_sometimes_percentage,female_sometimes_percentage]"
   ]
  },
  {
   "cell_type": "code",
   "execution_count": 113,
   "id": "8d7cc37c",
   "metadata": {},
   "outputs": [
    {
     "name": "stderr",
     "output_type": "stream",
     "text": [
      "C:\\Users\\SBMCODED\\AppData\\Local\\Programs\\Python\\Python310\\lib\\site-packages\\seaborn\\_decorators.py:36: FutureWarning: Pass the following variables as keyword args: x, y. From version 0.12, the only valid positional argument will be `data`, and passing other arguments without an explicit keyword will result in an error or misinterpretation.\n",
      "  warnings.warn(\n"
     ]
    },
    {
     "data": {
      "text/plain": [
       "Text(0.5, 1.0, 'the graphical representation of male and female undergraduate that sometimes avoid foo when they are hungry')"
      ]
     },
     "execution_count": 113,
     "metadata": {},
     "output_type": "execute_result"
    },
    {
     "data": {
      "image/png": "[encoded data removed]",
      "text/plain": [
       "<Figure size 432x288 with 1 Axes>"
      ]
     },
     "metadata": {
      "needs_background": "light"
     },
     "output_type": "display_data"
    }
   ],
   "source": [
    "sns.barplot(Classes4,percentage4)\n",
    "plt.title(\"the graphical representation of male and female undergraduate that sometimes avoid foo when they are hungry\")"
   ]
  },
  {
   "cell_type": "markdown",
   "id": "e5881864",
   "metadata": {},
   "source": [
    "## working on undergraduate that usually avoid food when they are hungry"
   ]
  },
  {
   "cell_type": "code",
   "execution_count": 114,
   "id": "625114b4",
   "metadata": {},
   "outputs": [],
   "source": [
    "## print how many times sometimes appear in the dataset. the dataset has undergo labelendcoder() so all the value has been converted to numeric form\n",
    "count_usually =Objects[Objects['I avoid eating when am hungry']==6].shape[0]"
   ]
  },
  {
   "cell_type": "code",
   "execution_count": 115,
   "id": "fc59596c",
   "metadata": {},
   "outputs": [
    {
     "name": "stdout",
     "output_type": "stream",
     "text": [
      "number of times usually appear in the dataset 40\n"
     ]
    }
   ],
   "source": [
    "## print total number of times usually appear in the dataset\n",
    "print(\"number of times usually appear in the dataset\",count_usually)"
   ]
  },
  {
   "cell_type": "code",
   "execution_count": 116,
   "id": "6f148fa5",
   "metadata": {},
   "outputs": [],
   "source": [
    "## so from the dataset will have to know how many times a male and female undergraduate sometimes avoid eating when they are hungry\n",
    "count_male_usually=df[(df['Class']==1)&(Objects['I avoid eating when am hungry']==6)].shape[0]\n",
    "count_female_usually=df[(df['Class']==0)&(Objects['I avoid eating when am hungry']==6)].shape[0]"
   ]
  },
  {
   "cell_type": "code",
   "execution_count": 117,
   "id": "fb1ff2b8",
   "metadata": {},
   "outputs": [
    {
     "name": "stdout",
     "output_type": "stream",
     "text": [
      "the total number of male that usually avoid food when they are hungry 20\n",
      "the total number of female that usually avoid food when they are hungry 20\n"
     ]
    }
   ],
   "source": [
    "print(\"the total number of male that usually avoid food when they are hungry\",count_male_usually)\n",
    "print(\"the total number of female that usually avoid food when they are hungry\",count_female_usually)"
   ]
  },
  {
   "cell_type": "code",
   "execution_count": 118,
   "id": "26007ee8",
   "metadata": {},
   "outputs": [
    {
     "name": "stdout",
     "output_type": "stream",
     "text": [
      "the total number of percentage of male that usually avoid food when they are hungry is: 50.0 %\n",
      "the total number of percentage of female that usually avoid food when they are hungry is: 50.0 %\n"
     ]
    }
   ],
   "source": [
    "male_usually_percentage=(20/40)*100\n",
    "print(\"the total number of percentage of male that usually avoid food when they are hungry is:\",male_usually_percentage,'%')\n",
    "female_usually_percentage=(20/40)*100\n",
    "print(\"the total number of percentage of female that usually avoid food when they are hungry is:\",female_usually_percentage,'%')\n",
    "\n"
   ]
  },
  {
   "cell_type": "code",
   "execution_count": 119,
   "id": "3b684760",
   "metadata": {},
   "outputs": [],
   "source": [
    "Classes5=[count_male_usually,count_female_usually]\n",
    "percentage5=[male_usually_percentage,female_usually_percentage]"
   ]
  },
  {
   "cell_type": "code",
   "execution_count": 120,
   "id": "7b7f5dc9",
   "metadata": {},
   "outputs": [
    {
     "name": "stderr",
     "output_type": "stream",
     "text": [
      "C:\\Users\\SBMCODED\\AppData\\Local\\Programs\\Python\\Python310\\lib\\site-packages\\seaborn\\_decorators.py:36: FutureWarning: Pass the following variables as keyword args: x, y. From version 0.12, the only valid positional argument will be `data`, and passing other arguments without an explicit keyword will result in an error or misinterpretation.\n",
      "  warnings.warn(\n"
     ]
    },
    {
     "data": {
      "text/plain": [
       "Text(0.5, 1.0, 'the graphical representation of male and female undergraduate that usually avoid foo when they are hungry')"
      ]
     },
     "execution_count": 120,
     "metadata": {},
     "output_type": "execute_result"
    },
    {
     "data": {
      "image/png": "[encoded data removed]",
      "text/plain": [
       "<Figure size 432x288 with 1 Axes>"
      ]
     },
     "metadata": {
      "needs_background": "light"
     },
     "output_type": "display_data"
    }
   ],
   "source": [
    "sns.barplot(Classes5,percentage5)\n",
    "plt.title(\"the graphical representation of male and female undergraduate that usually avoid foo when they are hungry\")"
   ]
  },
  {
   "cell_type": "markdown",
   "id": "0c5d12af",
   "metadata": {},
   "source": [
    "## after working on the column \"i avoid food when i am hungry\" , somethings are noticable\n",
    "\n",
    "\n",
    "1. we can see that out 407 male and female undergraduate (28 male and 28 female) are categorize  to always avoiding food when they are hungry ( which can lead to ulcer)\n",
    "\n",
    "2. we can also see that 36 male never avoid food when they are hungry which shows or state that most boys never avoid food when they are hungry. while 14 female never avoid food when they are hungry which we can say less female never avoid food when they are hungry (from the dataset we have we can say due to less number of female that avoid eating that's why most of them have ulcer)\n",
    "\n",
    "3. from the result of undergraduate that avoid eating when they are hungry we can see that female still often avoid food when they are hungry \n",
    "\n",
    "4. also we can say because of laziness that's why they have sometimes avoid food also \n",
    "\n",
    "5. when it comes to the case of usually, we can see that male and female undergraduate usually avoid food when they are hungry \n"
   ]
  },
  {
   "cell_type": "markdown",
   "id": "3caf996d",
   "metadata": {},
   "source": [
    "## working on the column of \"I cut my food into small pieces\" and lets see who does that the most when it comes to \"always,usually,rearly,often,never\""
   ]
  },
  {
   "cell_type": "markdown",
   "id": "cd12bc15",
   "metadata": {},
   "source": [
    " ## working always in the column of \"i cut my food into smaller peices\""
   ]
  },
  {
   "cell_type": "code",
   "execution_count": 121,
   "id": "337d32d0",
   "metadata": {},
   "outputs": [],
   "source": [
    "## print how many times always appear in the dataset. the dataset has undergo labelendcoder() so all the value has been converted to numeric form\n",
    "count_always1=Objects[Objects['I cut my food into small pieces']==0].shape[0]\n",
    "## print how many times always appear in the dataset. the dataset has undergo labelendcoder() so all the value has been converted to numeric form\n",
    "count_always2=Objects[Objects['I cut my food into small pieces']==1].shape[0]"
   ]
  },
  {
   "cell_type": "code",
   "execution_count": 122,
   "id": "06db524c",
   "metadata": {},
   "outputs": [],
   "source": [
    "## merging the two data toegther to have one value \n",
    "counts_always1=count_always1+count_always2"
   ]
  },
  {
   "cell_type": "code",
   "execution_count": 123,
   "id": "9c5f4a0d",
   "metadata": {},
   "outputs": [
    {
     "name": "stdout",
     "output_type": "stream",
     "text": [
      "number of times always appear in the dataset is 17\n"
     ]
    }
   ],
   "source": [
    "## print total number of times always appear in the dataset\n",
    "print(\"number of times always appear in the dataset is\" ,counts_always1)"
   ]
  },
  {
   "cell_type": "code",
   "execution_count": 124,
   "id": "623e491f",
   "metadata": {},
   "outputs": [],
   "source": [
    "## since the percentage of male is 0.46 and female is 0.56\n",
    "## we can say \n",
    "male_always=17*0.46\n",
    "female_always=17*0.54"
   ]
  },
  {
   "cell_type": "code",
   "execution_count": 125,
   "id": "5e58acac",
   "metadata": {},
   "outputs": [],
   "source": [
    "##roundng the decimal to nearest whole number to have accurate number of male and female undergraduate that rarely avoid eating when they are hungry\n",
    "\n",
    "counts_male_always1=round(male_always)\n",
    "counts_female_always1=round(female_always)"
   ]
  },
  {
   "cell_type": "code",
   "execution_count": 126,
   "id": "4d19ceba",
   "metadata": {},
   "outputs": [
    {
     "name": "stdout",
     "output_type": "stream",
     "text": [
      "the total number of male that always cut their food into smaller pieces is 8\n",
      "the total number of female that always cut their food into smaller pieces is 9\n"
     ]
    }
   ],
   "source": [
    "print(\"the total number of male that always cut their food into smaller pieces is\",counts_male_always1)\n",
    "print(\"the total number of female that always cut their food into smaller pieces is\",counts_female_always1)"
   ]
  },
  {
   "cell_type": "code",
   "execution_count": 127,
   "id": "f214c118",
   "metadata": {},
   "outputs": [
    {
     "name": "stdout",
     "output_type": "stream",
     "text": [
      "the total number of percentage of male that always cut their food into smaller pieces 47.05882352941176 %\n",
      "the total number of percentage of female that always cut their food into smaller pieces 52.94117647058824 %\n"
     ]
    }
   ],
   "source": [
    "male_always1_percentage=(8/17)*100\n",
    "print(\"the total number of percentage of male that always cut their food into smaller pieces\",male_always1_percentage,'%')\n",
    "female_always1_percentage=(9/17)*100\n",
    "print(\"the total number of percentage of female that always cut their food into smaller pieces\",female_always1_percentage,'%')"
   ]
  },
  {
   "cell_type": "code",
   "execution_count": 128,
   "id": "3b04933a",
   "metadata": {},
   "outputs": [],
   "source": [
    "Classes6=[counts_male_always1,counts_female_always1]\n",
    "percentage6=[male_always1_percentage,female_always1_percentage]"
   ]
  },
  {
   "cell_type": "code",
   "execution_count": 129,
   "id": "02f4b2c3",
   "metadata": {},
   "outputs": [
    {
     "name": "stderr",
     "output_type": "stream",
     "text": [
      "C:\\Users\\SBMCODED\\AppData\\Local\\Programs\\Python\\Python310\\lib\\site-packages\\seaborn\\_decorators.py:36: FutureWarning: Pass the following variables as keyword args: x, y. From version 0.12, the only valid positional argument will be `data`, and passing other arguments without an explicit keyword will result in an error or misinterpretation.\n",
      "  warnings.warn(\n"
     ]
    },
    {
     "data": {
      "text/plain": [
       "Text(0.5, 1.0, 'the graphical representation of male and female undergraduate that always cut my food into smaller peices')"
      ]
     },
     "execution_count": 129,
     "metadata": {},
     "output_type": "execute_result"
    },
    {
     "data": {
      "image/png": "[encoded data removed]",
      "text/plain": [
       "<Figure size 432x288 with 1 Axes>"
      ]
     },
     "metadata": {
      "needs_background": "light"
     },
     "output_type": "display_data"
    }
   ],
   "source": [
    "sns.barplot(Classes6,percentage6)\n",
    "plt.title(\"the graphical representation of male and female undergraduate that always cut my food into smaller peices\")"
   ]
  },
  {
   "cell_type": "markdown",
   "id": "ab78fdae",
   "metadata": {},
   "source": [
    "##  working on never cut their food into smaller peices "
   ]
  },
  {
   "cell_type": "code",
   "execution_count": 130,
   "id": "e7fe7953",
   "metadata": {},
   "outputs": [],
   "source": [
    "## print how many times never appear in the dataset. the dataset has undergo labelendcoder() so all the value has been converted to numeric form\n",
    "count_never1=Objects[Objects['I cut my food into small pieces']==2].shape[0]"
   ]
  },
  {
   "cell_type": "code",
   "execution_count": 131,
   "id": "65e8d693",
   "metadata": {},
   "outputs": [
    {
     "name": "stdout",
     "output_type": "stream",
     "text": [
      "number of times never appear in the dataset 113\n"
     ]
    }
   ],
   "source": [
    "## print total number of times never appear in the dataset\n",
    "print(\"number of times never appear in the dataset\",count_never1)"
   ]
  },
  {
   "cell_type": "code",
   "execution_count": 132,
   "id": "5f0eb5ac",
   "metadata": {},
   "outputs": [],
   "source": [
    "## so from the dataset will have to know how many times a male and female undergraduate never cut their food into smaller pieces \n",
    "count_male_never1=df[(df['Class']==1)&(Objects['I cut my food into small pieces']==2)].shape[0]\n",
    "count_female_never1=df[(df['Class']==0)&(Objects['I cut my food into small pieces']==2)].shape[0]"
   ]
  },
  {
   "cell_type": "code",
   "execution_count": 133,
   "id": "20b1119f",
   "metadata": {},
   "outputs": [
    {
     "name": "stdout",
     "output_type": "stream",
     "text": [
      "the total number of male that never cut their food into smaller pieces is 76\n",
      "the total number of female that never cut their food into smaller pieces is 37\n"
     ]
    }
   ],
   "source": [
    "print(\"the total number of male that never cut their food into smaller pieces is\",count_male_never1)\n",
    "print(\"the total number of female that never cut their food into smaller pieces is\",count_female_never1)"
   ]
  },
  {
   "cell_type": "code",
   "execution_count": 134,
   "id": "f27bdd09",
   "metadata": {},
   "outputs": [
    {
     "name": "stdout",
     "output_type": "stream",
     "text": [
      "the total number of percentage of male that never cut their food into smaller pieces 67.2566371681416 %\n",
      "the total number of percentage of female that never cut their food into smaller pieces 32.743362831858406 %\n"
     ]
    }
   ],
   "source": [
    "male_never1_percentage=(76/113)*100\n",
    "print(\"the total number of percentage of male that never cut their food into smaller pieces\",male_never1_percentage,'%')\n",
    "female_never1_percentage=(37/113)*100\n",
    "print(\"the total number of percentage of female that never cut their food into smaller pieces\",female_never1_percentage,'%')"
   ]
  },
  {
   "cell_type": "code",
   "execution_count": 135,
   "id": "94acdcdf",
   "metadata": {},
   "outputs": [],
   "source": [
    "Classes7=[count_male_never1,count_female_never1]\n",
    "percentage7=[male_never1_percentage,female_never1_percentage]"
   ]
  },
  {
   "cell_type": "code",
   "execution_count": 136,
   "id": "2dba44f1",
   "metadata": {},
   "outputs": [
    {
     "name": "stderr",
     "output_type": "stream",
     "text": [
      "C:\\Users\\SBMCODED\\AppData\\Local\\Programs\\Python\\Python310\\lib\\site-packages\\seaborn\\_decorators.py:36: FutureWarning: Pass the following variables as keyword args: x, y. From version 0.12, the only valid positional argument will be `data`, and passing other arguments without an explicit keyword will result in an error or misinterpretation.\n",
      "  warnings.warn(\n"
     ]
    },
    {
     "data": {
      "text/plain": [
       "Text(0.5, 1.0, 'the graphical representation of male and female undergraduate that never cut my food into smaller peices')"
      ]
     },
     "execution_count": 136,
     "metadata": {},
     "output_type": "execute_result"
    },
    {
     "data": {
      "image/png": "[encoded data removed]",
      "text/plain": [
       "<Figure size 432x288 with 1 Axes>"
      ]
     },
     "metadata": {
      "needs_background": "light"
     },
     "output_type": "display_data"
    }
   ],
   "source": [
    "sns.barplot(Classes7,percentage7)\n",
    "plt.title(\"the graphical representation of male and female undergraduate that never cut my food into smaller peices\")"
   ]
  },
  {
   "cell_type": "markdown",
   "id": "4ed1cc2e",
   "metadata": {},
   "source": [
    "## working on often cut their food into smaller pieces "
   ]
  },
  {
   "cell_type": "code",
   "execution_count": 137,
   "id": "680c6b98",
   "metadata": {},
   "outputs": [],
   "source": [
    "## print how many times often appear in the dataset. the dataset has undergo labelendcoder() so all the value has been converted to numeric form\n",
    "count_often1=Objects[Objects['I cut my food into small pieces']==3].shape[0]"
   ]
  },
  {
   "cell_type": "code",
   "execution_count": 138,
   "id": "e5ed7836",
   "metadata": {},
   "outputs": [
    {
     "name": "stdout",
     "output_type": "stream",
     "text": [
      "number of times often appear in the dataset 34\n"
     ]
    }
   ],
   "source": [
    "## print total number of times often appear in the dataset\n",
    "print(\"number of times often appear in the dataset\",count_often1)"
   ]
  },
  {
   "cell_type": "code",
   "execution_count": 139,
   "id": "731186ee",
   "metadata": {},
   "outputs": [],
   "source": [
    "## so from the dataset will have to know how many times a male and female undergraduate often cut their food into smaller pieces \n",
    "count_male_often1=df[(df['Class']==1)&(Objects['I cut my food into small pieces']==3)].shape[0]\n",
    "count_female_often1=df[(df['Class']==0)&(Objects['I cut my food into small pieces']==3)].shape[0]"
   ]
  },
  {
   "cell_type": "code",
   "execution_count": 140,
   "id": "5eb49f91",
   "metadata": {},
   "outputs": [
    {
     "name": "stdout",
     "output_type": "stream",
     "text": [
      "the total number of male that often cut their food into smaller pieces is 15\n",
      "the total number of female that often cut their food into smaller pieces is 19\n"
     ]
    }
   ],
   "source": [
    "print(\"the total number of male that often cut their food into smaller pieces is\",count_male_often1)\n",
    "print(\"the total number of female that often cut their food into smaller pieces is\",count_female_often1)"
   ]
  },
  {
   "cell_type": "code",
   "execution_count": 141,
   "id": "d8d34383",
   "metadata": {},
   "outputs": [
    {
     "name": "stdout",
     "output_type": "stream",
     "text": [
      "the total number of percentage of male that often cut their food into smaller pieces 44.11764705882353 %\n",
      "the total number of percentage of female that often cut their food into smaller pieces 55.88235294117647 %\n"
     ]
    }
   ],
   "source": [
    "male_often1_percentage=(15/34)*100\n",
    "print(\"the total number of percentage of male that often cut their food into smaller pieces\",male_often1_percentage,'%')\n",
    "female_often1_percentage=(19/34)*100\n",
    "print(\"the total number of percentage of female that often cut their food into smaller pieces\",female_often1_percentage,'%')"
   ]
  },
  {
   "cell_type": "code",
   "execution_count": 142,
   "id": "89a236ec",
   "metadata": {},
   "outputs": [],
   "source": [
    "Classes8=[count_male_often1,count_female_often1]\n",
    "percentage8=[male_often1_percentage,female_often1_percentage]"
   ]
  },
  {
   "cell_type": "code",
   "execution_count": 143,
   "id": "15a4bd23",
   "metadata": {},
   "outputs": [
    {
     "name": "stderr",
     "output_type": "stream",
     "text": [
      "C:\\Users\\SBMCODED\\AppData\\Local\\Programs\\Python\\Python310\\lib\\site-packages\\seaborn\\_decorators.py:36: FutureWarning: Pass the following variables as keyword args: x, y. From version 0.12, the only valid positional argument will be `data`, and passing other arguments without an explicit keyword will result in an error or misinterpretation.\n",
      "  warnings.warn(\n"
     ]
    },
    {
     "data": {
      "text/plain": [
       "Text(0.5, 1.0, 'the graphical representation of male and female undergraduate that often cut my food into smaller peices')"
      ]
     },
     "execution_count": 143,
     "metadata": {},
     "output_type": "execute_result"
    },
    {
     "data": {
      "image/png": "[encoded data removed]",
      "text/plain": [
       "<Figure size 432x288 with 1 Axes>"
      ]
     },
     "metadata": {
      "needs_background": "light"
     },
     "output_type": "display_data"
    }
   ],
   "source": [
    "sns.barplot(Classes8,percentage8)\n",
    "plt.title(\"the graphical representation of male and female undergraduate that often cut my food into smaller peices\")"
   ]
  },
  {
   "cell_type": "markdown",
   "id": "8b876bd2",
   "metadata": {},
   "source": [
    "## working on rarely cut their food into smaller pieces "
   ]
  },
  {
   "cell_type": "code",
   "execution_count": 144,
   "id": "442cf72d",
   "metadata": {},
   "outputs": [],
   "source": [
    "## print how many times rarely appear in the dataset. the dataset has undergo labelendcoder() so all the value has been converted to numeric form\n",
    "count_rarely1=Objects[Objects['I cut my food into small pieces']==4].shape[0]"
   ]
  },
  {
   "cell_type": "code",
   "execution_count": 145,
   "id": "cae7b3ca",
   "metadata": {},
   "outputs": [
    {
     "name": "stdout",
     "output_type": "stream",
     "text": [
      "number of times rarely appear in the dataset 137\n"
     ]
    }
   ],
   "source": [
    "## print total number of times often appear in the dataset\n",
    "print(\"number of times rarely appear in the dataset\",count_rarely1)"
   ]
  },
  {
   "cell_type": "code",
   "execution_count": 146,
   "id": "03ca2636",
   "metadata": {},
   "outputs": [],
   "source": [
    "## so from the dataset will have to know how many times a male and female undergraduate rarely cut their food into smaller pieces \n",
    "count_male_rarely1=df[(df['Class']==1)&(Objects['I cut my food into small pieces']==4)].shape[0]\n",
    "count_female_rarely1=df[(df['Class']==0)&(Objects['I cut my food into small pieces']==4)].shape[0]"
   ]
  },
  {
   "cell_type": "code",
   "execution_count": 147,
   "id": "36431605",
   "metadata": {},
   "outputs": [
    {
     "name": "stdout",
     "output_type": "stream",
     "text": [
      "the total number of male that rarely cut their food into smaller pieces is 37\n",
      "the total number of female that rarely cut their food into smaller pieces is 100\n"
     ]
    }
   ],
   "source": [
    "print(\"the total number of male that rarely cut their food into smaller pieces is\",count_male_rarely1)\n",
    "print(\"the total number of female that rarely cut their food into smaller pieces is\",count_female_rarely1)"
   ]
  },
  {
   "cell_type": "code",
   "execution_count": 148,
   "id": "359338d4",
   "metadata": {},
   "outputs": [
    {
     "name": "stdout",
     "output_type": "stream",
     "text": [
      "the total number of percentage of male that rarely cut their food into smaller pieces 27.00729927007299 %\n",
      "the total number of percentage of female that rarely cut their food into smaller pieces 72.99270072992701 %\n"
     ]
    }
   ],
   "source": [
    "male_rarely1_percentage=(37/137)*100\n",
    "print(\"the total number of percentage of male that rarely cut their food into smaller pieces\",male_rarely1_percentage,'%')\n",
    "female_rarely1_percentage=(100/137)*100\n",
    "print(\"the total number of percentage of female that rarely cut their food into smaller pieces\",female_rarely1_percentage,'%')"
   ]
  },
  {
   "cell_type": "code",
   "execution_count": 149,
   "id": "668c8cae",
   "metadata": {},
   "outputs": [],
   "source": [
    "Classes9=[count_male_rarely1,count_female_rarely1]\n",
    "percentage9=[male_rarely1_percentage,female_rarely1_percentage]"
   ]
  },
  {
   "cell_type": "code",
   "execution_count": 150,
   "id": "18f82cd9",
   "metadata": {},
   "outputs": [
    {
     "name": "stderr",
     "output_type": "stream",
     "text": [
      "C:\\Users\\SBMCODED\\AppData\\Local\\Programs\\Python\\Python310\\lib\\site-packages\\seaborn\\_decorators.py:36: FutureWarning: Pass the following variables as keyword args: x, y. From version 0.12, the only valid positional argument will be `data`, and passing other arguments without an explicit keyword will result in an error or misinterpretation.\n",
      "  warnings.warn(\n"
     ]
    },
    {
     "data": {
      "text/plain": [
       "Text(0.5, 1.0, 'the graphical representation of male and female undergraduate that rarely cut my food into smaller peices')"
      ]
     },
     "execution_count": 150,
     "metadata": {},
     "output_type": "execute_result"
    },
    {
     "data": {
      "image/png": "[encoded data removed]",
      "text/plain": [
       "<Figure size 432x288 with 1 Axes>"
      ]
     },
     "metadata": {
      "needs_background": "light"
     },
     "output_type": "display_data"
    }
   ],
   "source": [
    "sns.barplot(Classes9,percentage9)\n",
    "plt.title(\"the graphical representation of male and female undergraduate that rarely cut my food into smaller peices\")"
   ]
  },
  {
   "cell_type": "markdown",
   "id": "309f1e36",
   "metadata": {},
   "source": [
    "## working on sometimes cut their food into smaller pieces "
   ]
  },
  {
   "cell_type": "code",
   "execution_count": 151,
   "id": "6b5c025e",
   "metadata": {},
   "outputs": [],
   "source": [
    "## print how many times sometimes appear in the dataset. the dataset has undergo labelendcoder() so all the value has been converted to numeric form\n",
    "count_sometimes1=Objects[Objects['I cut my food into small pieces']==5].shape[0]"
   ]
  },
  {
   "cell_type": "code",
   "execution_count": 152,
   "id": "e6078236",
   "metadata": {},
   "outputs": [
    {
     "name": "stdout",
     "output_type": "stream",
     "text": [
      "number of times sometimes appear in the dataset 74\n"
     ]
    }
   ],
   "source": [
    "## print total number of times sometimes appear in the dataset\n",
    "print(\"number of times sometimes appear in the dataset\",count_sometimes1)"
   ]
  },
  {
   "cell_type": "code",
   "execution_count": 153,
   "id": "bd387cd9",
   "metadata": {},
   "outputs": [],
   "source": [
    "## so from the dataset will have to know how many times a male and female undergraduate rarely cut their food into smaller pieces \n",
    "count_male_sometimes1=df[(df['Class']==1)&(Objects['I cut my food into small pieces']==5)].shape[0]\n",
    "count_female_sometimes1=df[(df['Class']==0)&(Objects['I cut my food into small pieces']==5)].shape[0]"
   ]
  },
  {
   "cell_type": "code",
   "execution_count": 154,
   "id": "c2986d87",
   "metadata": {},
   "outputs": [
    {
     "name": "stdout",
     "output_type": "stream",
     "text": [
      "the total number of male that soemetimes cut their food into smaller pieces is 37\n",
      "the total number of female that sometimes cut their food into smaller pieces is 37\n"
     ]
    }
   ],
   "source": [
    "print(\"the total number of male that soemetimes cut their food into smaller pieces is\",count_male_sometimes1)\n",
    "print(\"the total number of female that sometimes cut their food into smaller pieces is\",count_female_sometimes1)"
   ]
  },
  {
   "cell_type": "code",
   "execution_count": 155,
   "id": "ab53eca1",
   "metadata": {},
   "outputs": [
    {
     "name": "stdout",
     "output_type": "stream",
     "text": [
      "the total number of percentage of male that sometimes cut their food into smaller pieces 50.0 %\n",
      "the total number of percentage of female that sometimes cut their food into smaller pieces 50.0 %\n"
     ]
    }
   ],
   "source": [
    "male_sometimes1_percentage=(37/74)*100\n",
    "print(\"the total number of percentage of male that sometimes cut their food into smaller pieces\",male_sometimes1_percentage,'%')\n",
    "female_sometimes1_percentage=(37/74)*100\n",
    "print(\"the total number of percentage of female that sometimes cut their food into smaller pieces\",female_sometimes1_percentage,'%')"
   ]
  },
  {
   "cell_type": "code",
   "execution_count": 156,
   "id": "afc593d4",
   "metadata": {},
   "outputs": [],
   "source": [
    "Classes10=[count_male_sometimes1,count_female_sometimes1]\n",
    "percentage10=[male_sometimes1_percentage,female_sometimes1_percentage]"
   ]
  },
  {
   "cell_type": "code",
   "execution_count": 157,
   "id": "078aea26",
   "metadata": {},
   "outputs": [
    {
     "name": "stderr",
     "output_type": "stream",
     "text": [
      "C:\\Users\\SBMCODED\\AppData\\Local\\Programs\\Python\\Python310\\lib\\site-packages\\seaborn\\_decorators.py:36: FutureWarning: Pass the following variables as keyword args: x, y. From version 0.12, the only valid positional argument will be `data`, and passing other arguments without an explicit keyword will result in an error or misinterpretation.\n",
      "  warnings.warn(\n"
     ]
    },
    {
     "data": {
      "text/plain": [
       "Text(0.5, 1.0, 'the graphical representation of male and female undergraduate that sometimes cut my food into smaller peices')"
      ]
     },
     "execution_count": 157,
     "metadata": {},
     "output_type": "execute_result"
    },
    {
     "data": {
      "image/png": "[encoded data removed]",
      "text/plain": [
       "<Figure size 432x288 with 1 Axes>"
      ]
     },
     "metadata": {
      "needs_background": "light"
     },
     "output_type": "display_data"
    }
   ],
   "source": [
    "sns.barplot(Classes10,percentage10)\n",
    "plt.title(\"the graphical representation of male and female undergraduate that sometimes cut my food into smaller peices\")"
   ]
  },
  {
   "cell_type": "markdown",
   "id": "475123b3",
   "metadata": {},
   "source": [
    "## working on usually cut their food into smaller pieces "
   ]
  },
  {
   "cell_type": "code",
   "execution_count": 158,
   "id": "8e437819",
   "metadata": {},
   "outputs": [],
   "source": [
    "## print how many times usually appear in the dataset. the dataset has undergo labelendcoder() so all the value has been converted to numeric form\n",
    "count_usually1=Objects[Objects['I cut my food into small pieces']==6].shape[0]"
   ]
  },
  {
   "cell_type": "code",
   "execution_count": 159,
   "id": "d5568b67",
   "metadata": {},
   "outputs": [
    {
     "name": "stdout",
     "output_type": "stream",
     "text": [
      "number of times usually appear in the dataset 32\n"
     ]
    }
   ],
   "source": [
    "## print total number of times usually appear in the dataset\n",
    "print(\"number of times usually appear in the dataset\",count_usually1)"
   ]
  },
  {
   "cell_type": "code",
   "execution_count": 160,
   "id": "1a6819d8",
   "metadata": {},
   "outputs": [],
   "source": [
    "## so from the dataset will have to know how many times a male and female undergraduate rarely cut their food into smaller pieces \n",
    "count_male_usually1=df[(df['Class']==1)&(Objects['I cut my food into small pieces']==6)].shape[0]\n",
    "count_female_usually1=df[(df['Class']==0)&(Objects['I cut my food into small pieces']==6)].shape[0]"
   ]
  },
  {
   "cell_type": "code",
   "execution_count": 161,
   "id": "6745aca0",
   "metadata": {},
   "outputs": [
    {
     "name": "stdout",
     "output_type": "stream",
     "text": [
      "the total number of male that soemetimes cut their food into smaller pieces is 15\n",
      "the total number of female that sometimes cut their food into smaller pieces is 17\n"
     ]
    }
   ],
   "source": [
    "print(\"the total number of male that soemetimes cut their food into smaller pieces is\",count_male_usually1)\n",
    "print(\"the total number of female that sometimes cut their food into smaller pieces is\",count_female_usually1)"
   ]
  },
  {
   "cell_type": "code",
   "execution_count": 162,
   "id": "1adf304e",
   "metadata": {},
   "outputs": [
    {
     "name": "stdout",
     "output_type": "stream",
     "text": [
      "the total number of percentage of male that usually cut their food into smaller pieces 46.875 %\n",
      "the total number of percentage of female that usually cut their food into smaller pieces 53.125 %\n"
     ]
    }
   ],
   "source": [
    "male_usually1_percentage=(15/32)*100\n",
    "print(\"the total number of percentage of male that usually cut their food into smaller pieces\",male_usually1_percentage,'%')\n",
    "female_usually1_percentage=(17/32)*100\n",
    "print(\"the total number of percentage of female that usually cut their food into smaller pieces\",female_usually1_percentage,'%')"
   ]
  },
  {
   "cell_type": "code",
   "execution_count": 163,
   "id": "3f47cfda",
   "metadata": {},
   "outputs": [],
   "source": [
    "Classes11=[count_male_usually1,count_female_usually1]\n",
    "percentage11=[male_usually1_percentage,female_usually1_percentage]"
   ]
  },
  {
   "cell_type": "code",
   "execution_count": 164,
   "id": "061e5dc6",
   "metadata": {},
   "outputs": [
    {
     "name": "stderr",
     "output_type": "stream",
     "text": [
      "C:\\Users\\SBMCODED\\AppData\\Local\\Programs\\Python\\Python310\\lib\\site-packages\\seaborn\\_decorators.py:36: FutureWarning: Pass the following variables as keyword args: x, y. From version 0.12, the only valid positional argument will be `data`, and passing other arguments without an explicit keyword will result in an error or misinterpretation.\n",
      "  warnings.warn(\n"
     ]
    },
    {
     "data": {
      "text/plain": [
       "Text(0.5, 1.0, 'the graphical representation of male and female undergraduate that usually cut my food into smaller peices')"
      ]
     },
     "execution_count": 164,
     "metadata": {},
     "output_type": "execute_result"
    },
    {
     "data": {
      "image/png": "[encoded data removed]",
      "text/plain": [
       "<Figure size 432x288 with 1 Axes>"
      ]
     },
     "metadata": {
      "needs_background": "light"
     },
     "output_type": "display_data"
    }
   ],
   "source": [
    "sns.barplot(Classes11,percentage11)\n",
    "plt.title(\"the graphical representation of male and female undergraduate that usually cut my food into smaller peices\")"
   ]
  },
  {
   "cell_type": "markdown",
   "id": "57a0e68b",
   "metadata": {},
   "source": [
    "## after working on the column i cut my food into smaller pieces. some things were noticable \n",
    "1. female undergraduate always cut their food into smaller food than  male undergraduate which make female take time while eating \n",
    "\n",
    "2. also male undergraduate has highest number of never cut their food into smaller pieces, which shows that male undergraduate don't waste time of cutting their food into smaller pieces \n",
    "\n",
    "3. for us to be sure again we see that female undergraduate often cut their food into smaller pieces \n",
    "\n",
    "4. from another row \"rarely\" we see that that due to the higher population of female undergraduate in the dataset male students rarely cut their food into smaller pieces\n",
    "\n",
    "5. when it comes to sometimes, since we have 407 male and female undergraduate in the dataset, 74 often cut their food. and from the result male and female sometimes cut their food into smaller pieces \n",
    "\n",
    "6. when it comes to usually cut their food into smaller pieces (female do) \n",
    "\n",
    "\n",
    "so overview of i cut my food into smaller pieces ( we can see female does that the most which them to eat slow and take time before they finish food)"
   ]
  },
  {
   "cell_type": "markdown",
   "id": "aa4b98aa",
   "metadata": {},
   "source": [
    "## working on the column of \"I particularly avoid food with high carbonhydrate(bread,rice,potatoes etc)\" and lets see who does that the most when it comes to \"always,usually,rearly,often,never\""
   ]
  },
  {
   "cell_type": "markdown",
   "id": "28028f23",
   "metadata": {},
   "source": [
    " ## working on always particularly avoid food with high carbonhydrate(bread,rice,potatoes etc)"
   ]
  },
  {
   "cell_type": "code",
   "execution_count": 165,
   "id": "64a0eb1b",
   "metadata": {},
   "outputs": [],
   "source": [
    "## print how many times always appear in the dataset. the dataset has undergo labelendcoder() so all the value has been converted to numeric form\n",
    "count_always2=Objects[Objects['I particularly avoid food with high carbonhydrate(bread,rice,potatoes etc)']==0].shape[0]"
   ]
  },
  {
   "cell_type": "code",
   "execution_count": 166,
   "id": "c3a30ee8",
   "metadata": {},
   "outputs": [
    {
     "name": "stdout",
     "output_type": "stream",
     "text": [
      "number of times always appear in the dataset 147\n"
     ]
    }
   ],
   "source": [
    "## print total number of times always appear in the dataset\n",
    "print(\"number of times always appear in the dataset\",count_always2)"
   ]
  },
  {
   "cell_type": "code",
   "execution_count": 167,
   "id": "1bb2e77e",
   "metadata": {},
   "outputs": [],
   "source": [
    "## so from the dataset will have to know how many times a male and female undergraduate always particularly avoid food with high carbonhydrate(bread,rice,potatoes etc)\n",
    "counts_male_always2=df[(df['Class']==1)&(Objects['I particularly avoid food with high carbonhydrate(bread,rice,potatoes etc)']==0)].shape[0]\n",
    "counts_female_always2=df[(df['Class']==0)&(Objects['I particularly avoid food with high carbonhydrate(bread,rice,potatoes etc)']==0)].shape[0]"
   ]
  },
  {
   "cell_type": "code",
   "execution_count": 168,
   "id": "0e595dc0",
   "metadata": {},
   "outputs": [
    {
     "name": "stdout",
     "output_type": "stream",
     "text": [
      "the total number of male that always I particularly avoid food with high carbonhydrate(bread,rice,potatoes etc) is 47\n",
      "the total number of female that always I particularly avoid food with high carbonhydrate(bread,rice,potatoes etc) is 100\n"
     ]
    }
   ],
   "source": [
    "print(\"the total number of male that always I particularly avoid food with high carbonhydrate(bread,rice,potatoes etc) is\",counts_male_always2)\n",
    "print(\"the total number of female that always I particularly avoid food with high carbonhydrate(bread,rice,potatoes etc) is\",counts_female_always2)"
   ]
  },
  {
   "cell_type": "code",
   "execution_count": 169,
   "id": "a17604b5",
   "metadata": {},
   "outputs": [
    {
     "name": "stdout",
     "output_type": "stream",
     "text": [
      "the total number of percentage of male that always particularly avoid food with high carbonhydrate(bread,rice,potatoes etc 31.97278911564626 %\n",
      "the total number of percentage of female that always particularly avoid food with high carbonhydrate(bread,rice,potatoes etc 68.02721088435374 %\n"
     ]
    }
   ],
   "source": [
    "male_always2_percentage=(47/147)*100\n",
    "print(\"the total number of percentage of male that always particularly avoid food with high carbonhydrate(bread,rice,potatoes etc\",male_always2_percentage,'%')\n",
    "female_always2_percentage=(100/147)*100\n",
    "print(\"the total number of percentage of female that always particularly avoid food with high carbonhydrate(bread,rice,potatoes etc\",female_always2_percentage,'%')"
   ]
  },
  {
   "cell_type": "code",
   "execution_count": 170,
   "id": "e88c2f64",
   "metadata": {},
   "outputs": [],
   "source": [
    "Classes12=[counts_male_always2,counts_female_always2]\n",
    "percentage12=[male_always2_percentage,female_always2_percentage]"
   ]
  },
  {
   "cell_type": "code",
   "execution_count": 171,
   "id": "dd44c9f4",
   "metadata": {},
   "outputs": [
    {
     "name": "stderr",
     "output_type": "stream",
     "text": [
      "C:\\Users\\SBMCODED\\AppData\\Local\\Programs\\Python\\Python310\\lib\\site-packages\\seaborn\\_decorators.py:36: FutureWarning: Pass the following variables as keyword args: x, y. From version 0.12, the only valid positional argument will be `data`, and passing other arguments without an explicit keyword will result in an error or misinterpretation.\n",
      "  warnings.warn(\n"
     ]
    },
    {
     "data": {
      "text/plain": [
       "Text(0.5, 1.0, ' the graphical representation of male and female undergraduate that always particularly avoid food with high carbonhydrate(bread,rice,potatoes etc)')"
      ]
     },
     "execution_count": 171,
     "metadata": {},
     "output_type": "execute_result"
    },
    {
     "data": {
      "image/png": "[encoded data removed]",
      "text/plain": [
       "<Figure size 432x288 with 1 Axes>"
      ]
     },
     "metadata": {
      "needs_background": "light"
     },
     "output_type": "display_data"
    }
   ],
   "source": [
    "sns.barplot(Classes12,percentage12)\n",
    "plt.title(\" the graphical representation of male and female undergraduate that always particularly avoid food with high carbonhydrate(bread,rice,potatoes etc)\")"
   ]
  },
  {
   "cell_type": "markdown",
   "id": "4d87b36f",
   "metadata": {},
   "source": [
    "## working on never  particularly avoid food with high carbonhydrate(bread,rice,potatoes etc)"
   ]
  },
  {
   "cell_type": "code",
   "execution_count": 172,
   "id": "15cd8322",
   "metadata": {},
   "outputs": [],
   "source": [
    "## print how many times never appear in the dataset. the dataset has undergo labelendcoder() so all the value has been converted to numeric form\n",
    "count_never2=Objects[Objects['I particularly avoid food with high carbonhydrate(bread,rice,potatoes etc)']==1].shape[0]"
   ]
  },
  {
   "cell_type": "code",
   "execution_count": 173,
   "id": "352bfd09",
   "metadata": {},
   "outputs": [
    {
     "name": "stdout",
     "output_type": "stream",
     "text": [
      "number of times never appear in the dataset 81\n"
     ]
    }
   ],
   "source": [
    "## print total number of times never appear in the dataset\n",
    "print(\"number of times never appear in the dataset\",count_never2)"
   ]
  },
  {
   "cell_type": "code",
   "execution_count": 174,
   "id": "b7306241",
   "metadata": {},
   "outputs": [],
   "source": [
    "## so from the dataset will have to know how many times a male and female undergraduate always particularly avoid food with high carbonhydrate(bread,rice,potatoes etc)\n",
    "counts_male_never2=df[(df['Class']==1)&(Objects['I particularly avoid food with high carbonhydrate(bread,rice,potatoes etc)']==1)].shape[0]\n",
    "counts_female_never2=df[(df['Class']==0)&(Objects['I particularly avoid food with high carbonhydrate(bread,rice,potatoes etc)']==1)].shape[0]"
   ]
  },
  {
   "cell_type": "code",
   "execution_count": 175,
   "id": "17077e17",
   "metadata": {},
   "outputs": [
    {
     "name": "stdout",
     "output_type": "stream",
     "text": [
      "the total number of male that never particularly avoid food with high carbonhydrate(bread,rice,potatoes etc) is 55\n",
      "the total number of female that never particularly avoid food with high carbonhydrate(bread,rice,potatoes etc) is 26\n"
     ]
    }
   ],
   "source": [
    "print(\"the total number of male that never particularly avoid food with high carbonhydrate(bread,rice,potatoes etc) is\",counts_male_never2)\n",
    "print(\"the total number of female that never particularly avoid food with high carbonhydrate(bread,rice,potatoes etc) is\",counts_female_never2)"
   ]
  },
  {
   "cell_type": "code",
   "execution_count": 176,
   "id": "c376d94c",
   "metadata": {},
   "outputs": [
    {
     "name": "stdout",
     "output_type": "stream",
     "text": [
      "the total number of percentage of male that never particularly avoid food with high carbonhydrate(bread,rice,potatoes etc 67.90123456790124 %\n",
      "the total number of percentage of female that never particularly avoid food with high carbonhydrate(bread,rice,potatoes etc 32.098765432098766 %\n"
     ]
    }
   ],
   "source": [
    "male_never2_percentage=(55/81)*100\n",
    "print(\"the total number of percentage of male that never particularly avoid food with high carbonhydrate(bread,rice,potatoes etc\",male_never2_percentage,'%')\n",
    "female_never2_percentage=(26/81)*100\n",
    "print(\"the total number of percentage of female that never particularly avoid food with high carbonhydrate(bread,rice,potatoes etc\",female_never2_percentage,'%')"
   ]
  },
  {
   "cell_type": "code",
   "execution_count": 177,
   "id": "35cb2b53",
   "metadata": {},
   "outputs": [],
   "source": [
    "Classes13=[counts_male_never2,counts_female_never2]\n",
    "percentage13=[male_never2_percentage,female_never2_percentage]"
   ]
  },
  {
   "cell_type": "code",
   "execution_count": 178,
   "id": "5e1dcc36",
   "metadata": {},
   "outputs": [
    {
     "name": "stderr",
     "output_type": "stream",
     "text": [
      "C:\\Users\\SBMCODED\\AppData\\Local\\Programs\\Python\\Python310\\lib\\site-packages\\seaborn\\_decorators.py:36: FutureWarning: Pass the following variables as keyword args: x, y. From version 0.12, the only valid positional argument will be `data`, and passing other arguments without an explicit keyword will result in an error or misinterpretation.\n",
      "  warnings.warn(\n"
     ]
    },
    {
     "data": {
      "text/plain": [
       "Text(0.5, 1.0, ' the graphical representation of male and female undergraduate that never particularly avoid food with high carbonhydrate(bread,rice,potatoes etc)')"
      ]
     },
     "execution_count": 178,
     "metadata": {},
     "output_type": "execute_result"
    },
    {
     "data": {
      "image/png": "[encoded data removed]",
      "text/plain": [
       "<Figure size 432x288 with 1 Axes>"
      ]
     },
     "metadata": {
      "needs_background": "light"
     },
     "output_type": "display_data"
    }
   ],
   "source": [
    "sns.barplot(Classes13,percentage13)\n",
    "plt.title(\" the graphical representation of male and female undergraduate that never particularly avoid food with high carbonhydrate(bread,rice,potatoes etc)\")"
   ]
  },
  {
   "cell_type": "markdown",
   "id": "57ec06d3",
   "metadata": {},
   "source": [
    "## working on often particularly avoid food with high carbonhydrate(bread,rice,potatoes etc)"
   ]
  },
  {
   "cell_type": "code",
   "execution_count": 179,
   "id": "c3fa71cd",
   "metadata": {},
   "outputs": [],
   "source": [
    "## print how many times often appear in the dataset. the dataset has undergo labelendcoder() so all the value has been converted to numeric form\n",
    "count_often2=Objects[Objects['I particularly avoid food with high carbonhydrate(bread,rice,potatoes etc)']==2].shape[0]"
   ]
  },
  {
   "cell_type": "code",
   "execution_count": 180,
   "id": "6b699b68",
   "metadata": {},
   "outputs": [
    {
     "name": "stdout",
     "output_type": "stream",
     "text": [
      "number of times often appear in the dataset 16\n"
     ]
    }
   ],
   "source": [
    "## print total number of times often appear in the dataset\n",
    "print(\"number of times often appear in the dataset\",count_often2)"
   ]
  },
  {
   "cell_type": "code",
   "execution_count": 181,
   "id": "83bedb4b",
   "metadata": {},
   "outputs": [],
   "source": [
    "## so from the dataset will have to know how many times a male and female undergraduate always particularly avoid food with high carbonhydrate(bread,rice,potatoes etc)\n",
    "counts_male_often2=df[(df['Class']==1)&(Objects['I particularly avoid food with high carbonhydrate(bread,rice,potatoes etc)']==2)].shape[0]\n",
    "counts_female_often2=df[(df['Class']==0)&(Objects['I particularly avoid food with high carbonhydrate(bread,rice,potatoes etc)']==2)].shape[0]"
   ]
  },
  {
   "cell_type": "code",
   "execution_count": 182,
   "id": "ac089119",
   "metadata": {},
   "outputs": [
    {
     "name": "stdout",
     "output_type": "stream",
     "text": [
      "the total number of male that often particularly avoid food with high carbonhydrate(bread,rice,potatoes etc) is 8\n",
      "the total number of female that often particularly avoid food with high carbonhydrate(bread,rice,potatoes etc) is 8\n"
     ]
    }
   ],
   "source": [
    "print(\"the total number of male that often particularly avoid food with high carbonhydrate(bread,rice,potatoes etc) is\",counts_male_often2)\n",
    "print(\"the total number of female that often particularly avoid food with high carbonhydrate(bread,rice,potatoes etc) is\",counts_female_often2)"
   ]
  },
  {
   "cell_type": "code",
   "execution_count": 183,
   "id": "a3dca505",
   "metadata": {},
   "outputs": [
    {
     "name": "stdout",
     "output_type": "stream",
     "text": [
      "the total number of percentage of male that often particularly avoid food with high carbonhydrate(bread,rice,potatoes etc 50.0 %\n",
      "the total number of percentage of female that often particularly avoid food with high carbonhydrate(bread,rice,potatoes etc 50.0 %\n"
     ]
    }
   ],
   "source": [
    "male_often2_percentage=(8/16)*100\n",
    "print(\"the total number of percentage of male that often particularly avoid food with high carbonhydrate(bread,rice,potatoes etc\",male_often2_percentage,'%')\n",
    "female_often2_percentage=(8/16)*100\n",
    "print(\"the total number of percentage of female that often particularly avoid food with high carbonhydrate(bread,rice,potatoes etc\",female_often2_percentage,'%')"
   ]
  },
  {
   "cell_type": "code",
   "execution_count": 184,
   "id": "8062bf10",
   "metadata": {},
   "outputs": [],
   "source": [
    "Classes14=[counts_male_often2,counts_female_often2]\n",
    "percentage14=[male_often2_percentage,female_often2_percentage]"
   ]
  },
  {
   "cell_type": "code",
   "execution_count": 185,
   "id": "616b547d",
   "metadata": {},
   "outputs": [
    {
     "name": "stderr",
     "output_type": "stream",
     "text": [
      "C:\\Users\\SBMCODED\\AppData\\Local\\Programs\\Python\\Python310\\lib\\site-packages\\seaborn\\_decorators.py:36: FutureWarning: Pass the following variables as keyword args: x, y. From version 0.12, the only valid positional argument will be `data`, and passing other arguments without an explicit keyword will result in an error or misinterpretation.\n",
      "  warnings.warn(\n"
     ]
    },
    {
     "data": {
      "text/plain": [
       "Text(0.5, 1.0, ' the graphical representation of male and female undergraduate that often particularly avoid food with high carbonhydrate(bread,rice,potatoes etc)')"
      ]
     },
     "execution_count": 185,
     "metadata": {},
     "output_type": "execute_result"
    },
    {
     "data": {
      "image/png": "[encoded data removed]",
      "text/plain": [
       "<Figure size 432x288 with 1 Axes>"
      ]
     },
     "metadata": {
      "needs_background": "light"
     },
     "output_type": "display_data"
    }
   ],
   "source": [
    "sns.barplot(Classes14,percentage14)\n",
    "plt.title(\" the graphical representation of male and female undergraduate that often particularly avoid food with high carbonhydrate(bread,rice,potatoes etc)\")"
   ]
  },
  {
   "cell_type": "markdown",
   "id": "8b2de21f",
   "metadata": {},
   "source": [
    "## working on rarely particularly avoid food with high carbonhydrate(bread,rice,potatoes etc)"
   ]
  },
  {
   "cell_type": "code",
   "execution_count": 186,
   "id": "ff314604",
   "metadata": {},
   "outputs": [],
   "source": [
    "## print how many times rarely appear in the dataset. the dataset has undergo labelendcoder() so all the value has been converted to numeric form\n",
    "count_rarely2=Objects[Objects['I particularly avoid food with high carbonhydrate(bread,rice,potatoes etc)']==3].shape[0]"
   ]
  },
  {
   "cell_type": "code",
   "execution_count": 187,
   "id": "b94687e4",
   "metadata": {},
   "outputs": [
    {
     "name": "stdout",
     "output_type": "stream",
     "text": [
      "number of times rarely appear in the dataset 73\n"
     ]
    }
   ],
   "source": [
    "## print total number of times rarely appear in the dataset\n",
    "print(\"number of times rarely appear in the dataset\",count_rarely2)"
   ]
  },
  {
   "cell_type": "code",
   "execution_count": 188,
   "id": "b4f3b338",
   "metadata": {},
   "outputs": [],
   "source": [
    "## so from the dataset will have to know how many times a male and female undergraduate always particularly avoid food with high carbonhydrate(bread,rice,potatoes etc)\n",
    "counts_male_rarely2=df[(df['Class']==1)&(Objects['I particularly avoid food with high carbonhydrate(bread,rice,potatoes etc)']==3)].shape[0]\n",
    "counts_female_rarely2=df[(df['Class']==0)&(Objects['I particularly avoid food with high carbonhydrate(bread,rice,potatoes etc)']==3)].shape[0]"
   ]
  },
  {
   "cell_type": "code",
   "execution_count": 189,
   "id": "47a4ce25",
   "metadata": {},
   "outputs": [
    {
     "name": "stdout",
     "output_type": "stream",
     "text": [
      "the total number of male that rarely particularly avoid food with high carbonhydrate(bread,rice,potatoes etc) is 31\n",
      "the total number of female that rarely particularly avoid food with high carbonhydrate(bread,rice,potatoes etc) is 42\n"
     ]
    }
   ],
   "source": [
    "print(\"the total number of male that rarely particularly avoid food with high carbonhydrate(bread,rice,potatoes etc) is\",counts_male_rarely2)\n",
    "print(\"the total number of female that rarely particularly avoid food with high carbonhydrate(bread,rice,potatoes etc) is\",counts_female_rarely2)"
   ]
  },
  {
   "cell_type": "code",
   "execution_count": 190,
   "id": "89e89f95",
   "metadata": {},
   "outputs": [
    {
     "name": "stdout",
     "output_type": "stream",
     "text": [
      "the total number of percentage of male that rarely particularly avoid food with high carbonhydrate(bread,rice,potatoes etc 42.465753424657535 %\n",
      "the total number of percentage of female that rarely particularly avoid food with high carbonhydrate(bread,rice,potatoes etc 57.534246575342465 %\n"
     ]
    }
   ],
   "source": [
    "male_rarely2_percentage=(31/73)*100\n",
    "print(\"the total number of percentage of male that rarely particularly avoid food with high carbonhydrate(bread,rice,potatoes etc\",male_rarely2_percentage,'%')\n",
    "female_rarely2_percentage=(42/73)*100\n",
    "print(\"the total number of percentage of female that rarely particularly avoid food with high carbonhydrate(bread,rice,potatoes etc\",female_rarely2_percentage,'%')"
   ]
  },
  {
   "cell_type": "code",
   "execution_count": 191,
   "id": "4669557b",
   "metadata": {},
   "outputs": [],
   "source": [
    "Classes15=[counts_male_rarely2,counts_female_rarely2]\n",
    "percentage15=[male_rarely2_percentage,female_rarely2_percentage]"
   ]
  },
  {
   "cell_type": "code",
   "execution_count": 192,
   "id": "02017b12",
   "metadata": {},
   "outputs": [
    {
     "name": "stderr",
     "output_type": "stream",
     "text": [
      "C:\\Users\\SBMCODED\\AppData\\Local\\Programs\\Python\\Python310\\lib\\site-packages\\seaborn\\_decorators.py:36: FutureWarning: Pass the following variables as keyword args: x, y. From version 0.12, the only valid positional argument will be `data`, and passing other arguments without an explicit keyword will result in an error or misinterpretation.\n",
      "  warnings.warn(\n"
     ]
    },
    {
     "data": {
      "text/plain": [
       "Text(0.5, 1.0, ' the graphical representation of male and female undergraduate that rarely particularly avoid food with high carbonhydrate(bread,rice,potatoes etc)')"
      ]
     },
     "execution_count": 192,
     "metadata": {},
     "output_type": "execute_result"
    },
    {
     "data": {
      "image/png": "[encoded data removed]",
      "text/plain": [
       "<Figure size 432x288 with 1 Axes>"
      ]
     },
     "metadata": {
      "needs_background": "light"
     },
     "output_type": "display_data"
    }
   ],
   "source": [
    "sns.barplot(Classes15,percentage15)\n",
    "plt.title(\" the graphical representation of male and female undergraduate that rarely particularly avoid food with high carbonhydrate(bread,rice,potatoes etc)\")"
   ]
  },
  {
   "cell_type": "markdown",
   "id": "8ad987aa",
   "metadata": {},
   "source": [
    "## working on sometimes particularly avoid food with high carbonhydrate(bread,rice,potatoes etc)"
   ]
  },
  {
   "cell_type": "code",
   "execution_count": 193,
   "id": "039b55c8",
   "metadata": {},
   "outputs": [],
   "source": [
    "## print how many times sometimes appear in the dataset. the dataset has undergo labelendcoder() so all the value has been converted to numeric form\n",
    "count_sometimes2=Objects[Objects['I particularly avoid food with high carbonhydrate(bread,rice,potatoes etc)']==4].shape[0]"
   ]
  },
  {
   "cell_type": "code",
   "execution_count": 194,
   "id": "ed9e397d",
   "metadata": {},
   "outputs": [
    {
     "name": "stdout",
     "output_type": "stream",
     "text": [
      "number of times rarely appear in the dataset 32\n"
     ]
    }
   ],
   "source": [
    "## print total number of times sometimes appear in the dataset\n",
    "print(\"number of times rarely appear in the dataset\",count_sometimes2)"
   ]
  },
  {
   "cell_type": "code",
   "execution_count": 195,
   "id": "60b0ca09",
   "metadata": {},
   "outputs": [],
   "source": [
    "## so from the dataset will have to know how many times a male and female undergraduate sometimes particularly avoid food with high carbonhydrate(bread,rice,potatoes etc)\n",
    "counts_male_sometimes2=df[(df['Class']==1)&(Objects['I particularly avoid food with high carbonhydrate(bread,rice,potatoes etc)']==4)].shape[0]\n",
    "counts_female_sometimes2=df[(df['Class']==0)&(Objects['I particularly avoid food with high carbonhydrate(bread,rice,potatoes etc)']==4)].shape[0]"
   ]
  },
  {
   "cell_type": "code",
   "execution_count": 196,
   "id": "6b73db64",
   "metadata": {},
   "outputs": [
    {
     "name": "stdout",
     "output_type": "stream",
     "text": [
      "the total number of male that sometimes particularly avoid food with high carbonhydrate(bread,rice,potatoes etc) is 16\n",
      "the total number of female that sometimes particularly avoid food with high carbonhydrate(bread,rice,potatoes etc) is 16\n"
     ]
    }
   ],
   "source": [
    "print(\"the total number of male that sometimes particularly avoid food with high carbonhydrate(bread,rice,potatoes etc) is\",counts_male_sometimes2)\n",
    "print(\"the total number of female that sometimes particularly avoid food with high carbonhydrate(bread,rice,potatoes etc) is\",counts_female_sometimes2)"
   ]
  },
  {
   "cell_type": "code",
   "execution_count": 197,
   "id": "9c0c73c8",
   "metadata": {},
   "outputs": [
    {
     "name": "stdout",
     "output_type": "stream",
     "text": [
      "the total number of percentage of male that rarely particularly avoid food with high carbonhydrate(bread,rice,potatoes etc 50.0 %\n",
      "the total number of percentage of female that rarely particularly avoid food with high carbonhydrate(bread,rice,potatoes etc 50.0 %\n"
     ]
    }
   ],
   "source": [
    "male_sometimes2_percentage=(16/32)*100\n",
    "print(\"the total number of percentage of male that rarely particularly avoid food with high carbonhydrate(bread,rice,potatoes etc\",male_sometimes2_percentage,'%')\n",
    "female_sometimes2_percentage=(16/32)*100\n",
    "print(\"the total number of percentage of female that rarely particularly avoid food with high carbonhydrate(bread,rice,potatoes etc\",female_sometimes2_percentage,'%')"
   ]
  },
  {
   "cell_type": "code",
   "execution_count": 198,
   "id": "d8520261",
   "metadata": {},
   "outputs": [],
   "source": [
    "Classes16=[counts_male_sometimes2,counts_female_sometimes2]\n",
    "percentage16=[male_sometimes2_percentage,female_sometimes2_percentage]"
   ]
  },
  {
   "cell_type": "code",
   "execution_count": 199,
   "id": "2cf3d928",
   "metadata": {},
   "outputs": [
    {
     "name": "stderr",
     "output_type": "stream",
     "text": [
      "C:\\Users\\SBMCODED\\AppData\\Local\\Programs\\Python\\Python310\\lib\\site-packages\\seaborn\\_decorators.py:36: FutureWarning: Pass the following variables as keyword args: x, y. From version 0.12, the only valid positional argument will be `data`, and passing other arguments without an explicit keyword will result in an error or misinterpretation.\n",
      "  warnings.warn(\n"
     ]
    },
    {
     "data": {
      "text/plain": [
       "Text(0.5, 1.0, ' the graphical representation of male and female undergraduate that sometimes particularly avoid food with high carbonhydrate(bread,rice,potatoes etc)')"
      ]
     },
     "execution_count": 199,
     "metadata": {},
     "output_type": "execute_result"
    },
    {
     "data": {
      "image/png": "[encoded data removed]",
      "text/plain": [
       "<Figure size 432x288 with 1 Axes>"
      ]
     },
     "metadata": {
      "needs_background": "light"
     },
     "output_type": "display_data"
    }
   ],
   "source": [
    "sns.barplot(Classes16,percentage16)\n",
    "plt.title(\" the graphical representation of male and female undergraduate that sometimes particularly avoid food with high carbonhydrate(bread,rice,potatoes etc)\")"
   ]
  },
  {
   "cell_type": "markdown",
   "id": "f31a8d02",
   "metadata": {},
   "source": [
    "## working on usually particularly avoid food with high carbonhydrate(bread,rice,potatoes etc)"
   ]
  },
  {
   "cell_type": "code",
   "execution_count": 200,
   "id": "eb79cecf",
   "metadata": {},
   "outputs": [],
   "source": [
    "## print how many times usually appear in the dataset. the dataset has undergo labelendcoder() so all the value has been converted to numeric form\n",
    "count_usually2=Objects[Objects['I particularly avoid food with high carbonhydrate(bread,rice,potatoes etc)']==5].shape[0]"
   ]
  },
  {
   "cell_type": "code",
   "execution_count": 201,
   "id": "c2f67a75",
   "metadata": {},
   "outputs": [
    {
     "name": "stdout",
     "output_type": "stream",
     "text": [
      "number of times usually appear in the dataset 58\n"
     ]
    }
   ],
   "source": [
    "## print total number of times sometimes appear in the dataset\n",
    "print(\"number of times usually appear in the dataset\",count_usually2)"
   ]
  },
  {
   "cell_type": "code",
   "execution_count": 202,
   "id": "7fef0d77",
   "metadata": {},
   "outputs": [],
   "source": [
    "## so from the dataset will have to know how many times a male and female undergraduate sometimes particularly avoid food with high carbonhydrate(bread,rice,potatoes etc)\n",
    "counts_male_usually2=df[(df['Class']==1)&(Objects['I particularly avoid food with high carbonhydrate(bread,rice,potatoes etc)']==5)].shape[0]\n",
    "counts_female_usually2=df[(df['Class']==0)&(Objects['I particularly avoid food with high carbonhydrate(bread,rice,potatoes etc)']==5)].shape[0]"
   ]
  },
  {
   "cell_type": "code",
   "execution_count": 203,
   "id": "81c369d6",
   "metadata": {},
   "outputs": [
    {
     "name": "stdout",
     "output_type": "stream",
     "text": [
      "the total number of male that usually particularly avoid food with high carbonhydrate(bread,rice,potatoes etc) is 30\n",
      "the total number of female that usually particularly avoid food with high carbonhydrate(bread,rice,potatoes etc) is 28\n"
     ]
    }
   ],
   "source": [
    "print(\"the total number of male that usually particularly avoid food with high carbonhydrate(bread,rice,potatoes etc) is\",counts_male_usually2)\n",
    "print(\"the total number of female that usually particularly avoid food with high carbonhydrate(bread,rice,potatoes etc) is\",counts_female_usually2)"
   ]
  },
  {
   "cell_type": "code",
   "execution_count": 204,
   "id": "e524ff82",
   "metadata": {},
   "outputs": [
    {
     "name": "stdout",
     "output_type": "stream",
     "text": [
      "the total number of percentage of male that usually particularly avoid food with high carbonhydrate(bread,rice,potatoes etc 51.724137931034484 %\n",
      "the total number of percentage of female that usually particularly avoid food with high carbonhydrate(bread,rice,potatoes etc 48.275862068965516 %\n"
     ]
    }
   ],
   "source": [
    "male_usually2_percentage=(30/58)*100\n",
    "print(\"the total number of percentage of male that usually particularly avoid food with high carbonhydrate(bread,rice,potatoes etc\",male_usually2_percentage,'%')\n",
    "female_usually2_percentage=(28/58)*100\n",
    "print(\"the total number of percentage of female that usually particularly avoid food with high carbonhydrate(bread,rice,potatoes etc\",female_usually2_percentage,'%')"
   ]
  },
  {
   "cell_type": "code",
   "execution_count": 205,
   "id": "fc196af1",
   "metadata": {},
   "outputs": [],
   "source": [
    "Classes17=[counts_male_usually2,counts_female_usually2]\n",
    "percentage17=[male_usually2_percentage,female_usually2_percentage]"
   ]
  },
  {
   "cell_type": "code",
   "execution_count": 206,
   "id": "f7bd85c9",
   "metadata": {},
   "outputs": [
    {
     "name": "stderr",
     "output_type": "stream",
     "text": [
      "C:\\Users\\SBMCODED\\AppData\\Local\\Programs\\Python\\Python310\\lib\\site-packages\\seaborn\\_decorators.py:36: FutureWarning: Pass the following variables as keyword args: x, y. From version 0.12, the only valid positional argument will be `data`, and passing other arguments without an explicit keyword will result in an error or misinterpretation.\n",
      "  warnings.warn(\n"
     ]
    },
    {
     "data": {
      "text/plain": [
       "Text(0.5, 1.0, ' the graphical representation of male and female undergraduate that usually particularly avoid food with high carbonhydrate(bread,rice,potatoes etc)')"
      ]
     },
     "execution_count": 206,
     "metadata": {},
     "output_type": "execute_result"
    },
    {
     "data": {
      "image/png": "[encoded data removed]",
      "text/plain": [
       "<Figure size 432x288 with 1 Axes>"
      ]
     },
     "metadata": {
      "needs_background": "light"
     },
     "output_type": "display_data"
    }
   ],
   "source": [
    "sns.barplot(Classes17,percentage17)\n",
    "plt.title(\" the graphical representation of male and female undergraduate that usually particularly avoid food with high carbonhydrate(bread,rice,potatoes etc)\")"
   ]
  },
  {
   "cell_type": "markdown",
   "id": "2e7e25f6",
   "metadata": {},
   "source": [
    "## after working on the column i particularly avoid food with high carbohydrate,things that were noticed are \n",
    "\n",
    "1. we have 407 male and female undergraduate. so less male particularly avoid carbonhydrate due to the fact that they male students play ball that why we have less number of male that always take carbonhydrate\n",
    "\n",
    "2. also highest number of male never intensionally avoid high carbonhydrate \n",
    "\n",
    "3. out of the dataset we can see 16 male and female equal people often particularly avoid high carbonhydrate \n",
    "\n",
    "4. females as more people when it comes to rarely avoid carbonhydrate food \n",
    "\n",
    "5. we can see that equal male and female sometimes avoid carbonhydrate\n",
    "\n",
    "6. more male particularly avoid carbonhydrate\n",
    "\n",
    "so the overview is that more male undergraduate particularly avoid food with carbonhydrate "
   ]
  },
  {
   "cell_type": "markdown",
   "id": "f43d8fd9",
   "metadata": {},
   "source": [
    "##  working on the column I take longer time than others to eat my meals and lets see who does that the most when it comes to \"always,usually,rearly,often,never"
   ]
  },
  {
   "cell_type": "code",
   "execution_count": 207,
   "id": "693d317d",
   "metadata": {},
   "outputs": [],
   "source": [
    "## working on always take longer time than others to eat my meals \n",
    "count_always3=Objects[Objects['I take longer time than others to eat my meals']==0].shape[0]"
   ]
  },
  {
   "cell_type": "code",
   "execution_count": 208,
   "id": "5ae438b4",
   "metadata": {},
   "outputs": [
    {
     "name": "stdout",
     "output_type": "stream",
     "text": [
      "number of times always appear in the dataset 33\n"
     ]
    }
   ],
   "source": [
    "## print total number of times always appear in the dataset\n",
    "print(\"number of times always appear in the dataset\",count_always3)"
   ]
  },
  {
   "cell_type": "code",
   "execution_count": 209,
   "id": "3045e982",
   "metadata": {},
   "outputs": [],
   "source": [
    "## so from the dataset will have to know how many times a male and female undergraduate always take longer time than others to eat their meal\n",
    "counts_male_Always3=df[(df['Class']==1)&(Objects['I take longer time than others to eat my meals']==0)].shape[0]\n",
    "counts_female_Always3=df[(df['Class']==0)&(Objects['I take longer time than others to eat my meals']==0)].shape[0]"
   ]
  },
  {
   "cell_type": "code",
   "execution_count": 210,
   "id": "bdb72ed5",
   "metadata": {},
   "outputs": [
    {
     "name": "stdout",
     "output_type": "stream",
     "text": [
      "the total numberof time of male that always take longer time than others to eat my meals is 17\n",
      "the total number of female that always  take longer time than others to eat my meals is 16\n"
     ]
    }
   ],
   "source": [
    "print(\"the total numberof time of male that always take longer time than others to eat my meals is\",counts_male_Always3)\n",
    "print(\"the total number of female that always  take longer time than others to eat my meals is\",counts_female_Always3)"
   ]
  },
  {
   "cell_type": "code",
   "execution_count": 211,
   "id": "605e4df3",
   "metadata": {},
   "outputs": [
    {
     "name": "stdout",
     "output_type": "stream",
     "text": [
      "the total number of male that always take longer time than others to their meal is 51.515151515151516 %\n",
      "===========================================================================================================\n",
      "the total number of female that always take longer time than others to their meal is 48.484848484848484 %\n"
     ]
    }
   ],
   "source": [
    "male_always3_percentage=(17/33)*100\n",
    "print('the total number of male that always take longer time than others to their meal is',male_always3_percentage,'%')\n",
    "print('===========================================================================================================')\n",
    "female_always3_percentage=(16/33)*100\n",
    "print('the total number of female that always take longer time than others to their meal is',female_always3_percentage,'%')"
   ]
  },
  {
   "cell_type": "code",
   "execution_count": 212,
   "id": "38f96759",
   "metadata": {},
   "outputs": [],
   "source": [
    "Classes18=[counts_male_Always3,counts_female_Always3]\n",
    "percentage18=[male_always3_percentage,female_always3_percentage]"
   ]
  },
  {
   "cell_type": "code",
   "execution_count": 213,
   "id": "a6fe6af4",
   "metadata": {},
   "outputs": [
    {
     "name": "stderr",
     "output_type": "stream",
     "text": [
      "C:\\Users\\SBMCODED\\AppData\\Local\\Programs\\Python\\Python310\\lib\\site-packages\\seaborn\\_decorators.py:36: FutureWarning: Pass the following variables as keyword args: x, y. From version 0.12, the only valid positional argument will be `data`, and passing other arguments without an explicit keyword will result in an error or misinterpretation.\n",
      "  warnings.warn(\n"
     ]
    },
    {
     "data": {
      "text/plain": [
       "Text(0.5, 1.0, ' the graphical representation of male and female undergraduate that always  take longer time than others to eat meals')"
      ]
     },
     "execution_count": 213,
     "metadata": {},
     "output_type": "execute_result"
    },
    {
     "data": {
      "image/png": "[encoded data removed]",
      "text/plain": [
       "<Figure size 432x288 with 1 Axes>"
      ]
     },
     "metadata": {
      "needs_background": "light"
     },
     "output_type": "display_data"
    }
   ],
   "source": [
    "sns.barplot(Classes18,percentage18)\n",
    "plt.title(\" the graphical representation of male and female undergraduate that always  take longer time than others to eat meals\")"
   ]
  },
  {
   "cell_type": "markdown",
   "id": "d596fce2",
   "metadata": {},
   "source": [
    "## working on never take longer time than others "
   ]
  },
  {
   "cell_type": "code",
   "execution_count": 214,
   "id": "7b793805",
   "metadata": {},
   "outputs": [],
   "source": [
    "## working on never take longer time than others to eat meals \n",
    "count_never3=Objects[Objects['I take longer time than others to eat my meals']==1].shape[0]"
   ]
  },
  {
   "cell_type": "code",
   "execution_count": 215,
   "id": "d46742cc",
   "metadata": {},
   "outputs": [
    {
     "name": "stdout",
     "output_type": "stream",
     "text": [
      "number of times never appear in the dataset 140\n"
     ]
    }
   ],
   "source": [
    "## print total number of times never appear in the dataset\n",
    "print(\"number of times never appear in the dataset\",count_never3)"
   ]
  },
  {
   "cell_type": "code",
   "execution_count": 216,
   "id": "eba2a7c0",
   "metadata": {},
   "outputs": [],
   "source": [
    "## so from the dataset will have to know how many times a male and female undergraduate never take longer time than others to eat their meal\n",
    "counts_male_never3=df[(df['Class']==1)&(Objects['I take longer time than others to eat my meals']==1)].shape[0]\n",
    "counts_female_never3=df[(df['Class']==0)&(Objects['I take longer time than others to eat my meals']==1)].shape[0]"
   ]
  },
  {
   "cell_type": "code",
   "execution_count": 217,
   "id": "ea57ae13",
   "metadata": {},
   "outputs": [
    {
     "name": "stdout",
     "output_type": "stream",
     "text": [
      "the total numberof time of male that never take longer time than others to eat my meals is 75\n",
      "the total number of female that never  take longer time than others to eat my meals is 65\n"
     ]
    }
   ],
   "source": [
    "print(\"the total numberof time of male that never take longer time than others to eat my meals is\",counts_male_never3)\n",
    "print(\"the total number of female that never  take longer time than others to eat my meals is\",counts_female_never3)"
   ]
  },
  {
   "cell_type": "code",
   "execution_count": 218,
   "id": "8be90d5f",
   "metadata": {},
   "outputs": [
    {
     "name": "stdout",
     "output_type": "stream",
     "text": [
      "the total number of male that never take longer time than others to their meal is 53.57142857142857 %\n",
      "===========================================================================================================\n",
      "the total number of female that never take longer time than others to their meal is 46.42857142857143 %\n"
     ]
    }
   ],
   "source": [
    "male_never3_percentage=(75/140)*100\n",
    "print('the total number of male that never take longer time than others to their meal is',male_never3_percentage,'%')\n",
    "print('===========================================================================================================')\n",
    "female_never3_percentage=(65/140)*100\n",
    "print('the total number of female that never take longer time than others to their meal is',female_never3_percentage,'%')"
   ]
  },
  {
   "cell_type": "code",
   "execution_count": 219,
   "id": "7acee192",
   "metadata": {},
   "outputs": [],
   "source": [
    "Classes19=[counts_male_never3,counts_female_never3]\n",
    "percentage19=[male_never3_percentage,female_never3_percentage]"
   ]
  },
  {
   "cell_type": "code",
   "execution_count": 220,
   "id": "bb0d0e23",
   "metadata": {},
   "outputs": [
    {
     "name": "stderr",
     "output_type": "stream",
     "text": [
      "C:\\Users\\SBMCODED\\AppData\\Local\\Programs\\Python\\Python310\\lib\\site-packages\\seaborn\\_decorators.py:36: FutureWarning: Pass the following variables as keyword args: x, y. From version 0.12, the only valid positional argument will be `data`, and passing other arguments without an explicit keyword will result in an error or misinterpretation.\n",
      "  warnings.warn(\n"
     ]
    },
    {
     "data": {
      "text/plain": [
       "Text(0.5, 1.0, ' the graphical representation of male and female undergraduate that never take longer time than others to eat meals')"
      ]
     },
     "execution_count": 220,
     "metadata": {},
     "output_type": "execute_result"
    },
    {
     "data": {
      "image/png": "[encoded data removed]",
      "text/plain": [
       "<Figure size 432x288 with 1 Axes>"
      ]
     },
     "metadata": {
      "needs_background": "light"
     },
     "output_type": "display_data"
    }
   ],
   "source": [
    "sns.barplot(Classes19,percentage19)\n",
    "plt.title(\" the graphical representation of male and female undergraduate that never take longer time than others to eat meals\")"
   ]
  },
  {
   "cell_type": "markdown",
   "id": "ce10432a",
   "metadata": {},
   "source": [
    "## working on often take longer time than others"
   ]
  },
  {
   "cell_type": "code",
   "execution_count": 221,
   "id": "e0bb5ac6",
   "metadata": {},
   "outputs": [],
   "source": [
    "## working on often take longer time than others to eat meals \n",
    "count_often3=Objects[Objects['I take longer time than others to eat my meals']==2].shape[0]"
   ]
  },
  {
   "cell_type": "code",
   "execution_count": 222,
   "id": "1ad2c0dd",
   "metadata": {},
   "outputs": [
    {
     "name": "stdout",
     "output_type": "stream",
     "text": [
      "number of times often appear in the dataset 24\n"
     ]
    }
   ],
   "source": [
    "## print total number of times often appear in the dataset\n",
    "print(\"number of times often appear in the dataset\",count_often3)"
   ]
  },
  {
   "cell_type": "code",
   "execution_count": 223,
   "id": "79108f5a",
   "metadata": {},
   "outputs": [],
   "source": [
    "## so from the dataset will have to know how many times a male and female undergraduate often take longer time than others to eat their meal\n",
    "counts_male_often3=df[(df['Class']==1)&(Objects['I take longer time than others to eat my meals']==2)].shape[0]\n",
    "counts_female_often3=df[(df['Class']==0)&(Objects['I take longer time than others to eat my meals']==2)].shape[0]"
   ]
  },
  {
   "cell_type": "code",
   "execution_count": 224,
   "id": "94e6df2f",
   "metadata": {},
   "outputs": [
    {
     "name": "stdout",
     "output_type": "stream",
     "text": [
      "the total numberof time of male that often take longer time than others to eat my meals is 12\n",
      "the total number of female that often  take longer time than others to eat my meals is 12\n"
     ]
    }
   ],
   "source": [
    "print(\"the total numberof time of male that often take longer time than others to eat my meals is\",counts_male_often3)\n",
    "print(\"the total number of female that often  take longer time than others to eat my meals is\",counts_female_often3)"
   ]
  },
  {
   "cell_type": "code",
   "execution_count": 225,
   "id": "da99bdbf",
   "metadata": {},
   "outputs": [
    {
     "name": "stdout",
     "output_type": "stream",
     "text": [
      "the total number of male that often take longer time than others to their meal is 50.0 %\n",
      "===========================================================================================================\n",
      "the total number of female that often take longer time than others to their meal is 50.0 %\n"
     ]
    }
   ],
   "source": [
    "male_often3_percentage=(12/24)*100\n",
    "print('the total number of male that often take longer time than others to their meal is',male_often3_percentage,'%')\n",
    "print('===========================================================================================================')\n",
    "female_often3_percentage=(12/24)*100\n",
    "print('the total number of female that often take longer time than others to their meal is',female_often3_percentage,'%')"
   ]
  },
  {
   "cell_type": "code",
   "execution_count": 226,
   "id": "719d9898",
   "metadata": {},
   "outputs": [],
   "source": [
    "Classes20=[counts_male_often3,counts_female_often3]\n",
    "percentage20=[male_often3_percentage,female_often3_percentage]"
   ]
  },
  {
   "cell_type": "code",
   "execution_count": 227,
   "id": "161c9b8a",
   "metadata": {},
   "outputs": [
    {
     "name": "stderr",
     "output_type": "stream",
     "text": [
      "C:\\Users\\SBMCODED\\AppData\\Local\\Programs\\Python\\Python310\\lib\\site-packages\\seaborn\\_decorators.py:36: FutureWarning: Pass the following variables as keyword args: x, y. From version 0.12, the only valid positional argument will be `data`, and passing other arguments without an explicit keyword will result in an error or misinterpretation.\n",
      "  warnings.warn(\n"
     ]
    },
    {
     "data": {
      "text/plain": [
       "Text(0.5, 1.0, ' the graphical representation of male and female undergraduate that often take longer time than others to eat meals')"
      ]
     },
     "execution_count": 227,
     "metadata": {},
     "output_type": "execute_result"
    },
    {
     "data": {
      "image/png": "[encoded data removed]",
      "text/plain": [
       "<Figure size 432x288 with 1 Axes>"
      ]
     },
     "metadata": {
      "needs_background": "light"
     },
     "output_type": "display_data"
    }
   ],
   "source": [
    "sns.barplot(Classes20,percentage20)\n",
    "plt.title(\" the graphical representation of male and female undergraduate that often take longer time than others to eat meals\")"
   ]
  },
  {
   "cell_type": "markdown",
   "id": "e3328979",
   "metadata": {},
   "source": [
    "## working on rarely take longer time than others"
   ]
  },
  {
   "cell_type": "code",
   "execution_count": 228,
   "id": "13c1759a",
   "metadata": {},
   "outputs": [],
   "source": [
    "## working on rarely take longer time than others \n",
    "count_rarely3=Objects[Objects['I take longer time than others to eat my meals']==3].shape[0]\n"
   ]
  },
  {
   "cell_type": "code",
   "execution_count": 229,
   "id": "727a4730",
   "metadata": {},
   "outputs": [
    {
     "name": "stdout",
     "output_type": "stream",
     "text": [
      "number of times rarely appear in the dataset 73\n"
     ]
    }
   ],
   "source": [
    "## print total number of times rarely appear in the dataset\n",
    "print(\"number of times rarely appear in the dataset\",count_rarely3)"
   ]
  },
  {
   "cell_type": "code",
   "execution_count": 230,
   "id": "2428e4bd",
   "metadata": {},
   "outputs": [],
   "source": [
    "## so from the dataset will have to know how many times a male and female undergraduate rarely take longer time than others to eat their meal\n",
    "counts_male_rarely3=df[(df['Class']==1)&(Objects['I take longer time than others to eat my meals']==3)].shape[0]\n",
    "counts_female_rarely3=df[(df['Class']==0)&(Objects['I take longer time than others to eat my meals']==3)].shape[0]"
   ]
  },
  {
   "cell_type": "code",
   "execution_count": 231,
   "id": "b3954f07",
   "metadata": {},
   "outputs": [
    {
     "name": "stdout",
     "output_type": "stream",
     "text": [
      "the total numberof time of male that rarely take longer time than others to eat my meals is 50\n",
      "the total number of female that rarely  take longer time than others to eat my meals is 23\n"
     ]
    }
   ],
   "source": [
    "print(\"the total numberof time of male that rarely take longer time than others to eat my meals is\",counts_male_rarely3)\n",
    "print(\"the total number of female that rarely  take longer time than others to eat my meals is\",counts_female_rarely3)"
   ]
  },
  {
   "cell_type": "code",
   "execution_count": 232,
   "id": "06f889f4",
   "metadata": {},
   "outputs": [
    {
     "name": "stdout",
     "output_type": "stream",
     "text": [
      "the total number of male that rarely take longer time than others to their meal is 68.4931506849315 %\n",
      "===========================================================================================================\n",
      "the total number of female that rarely take longer time than others to their meal is 31.506849315068493 %\n"
     ]
    }
   ],
   "source": [
    "male_rarely3_percentage=(50/73)*100\n",
    "print('the total number of male that rarely take longer time than others to their meal is',male_rarely3_percentage,'%')\n",
    "print('===========================================================================================================')\n",
    "female_rarely3_percentage=(23/73)*100\n",
    "print('the total number of female that rarely take longer time than others to their meal is',female_rarely3_percentage,'%')"
   ]
  },
  {
   "cell_type": "code",
   "execution_count": 233,
   "id": "cae39d99",
   "metadata": {},
   "outputs": [],
   "source": [
    "Classes21=[counts_male_rarely3,counts_female_rarely3]\n",
    "percentage21=[male_rarely3_percentage,female_rarely3_percentage]"
   ]
  },
  {
   "cell_type": "code",
   "execution_count": 234,
   "id": "8e55a852",
   "metadata": {},
   "outputs": [
    {
     "name": "stderr",
     "output_type": "stream",
     "text": [
      "C:\\Users\\SBMCODED\\AppData\\Local\\Programs\\Python\\Python310\\lib\\site-packages\\seaborn\\_decorators.py:36: FutureWarning: Pass the following variables as keyword args: x, y. From version 0.12, the only valid positional argument will be `data`, and passing other arguments without an explicit keyword will result in an error or misinterpretation.\n",
      "  warnings.warn(\n"
     ]
    },
    {
     "data": {
      "text/plain": [
       "Text(0.5, 1.0, ' the graphical representation of male and female undergraduate that rarely take longer time than others to eat meals')"
      ]
     },
     "execution_count": 234,
     "metadata": {},
     "output_type": "execute_result"
    },
    {
     "data": {
      "image/png": "[encoded data removed]",
      "text/plain": [
       "<Figure size 432x288 with 1 Axes>"
      ]
     },
     "metadata": {
      "needs_background": "light"
     },
     "output_type": "display_data"
    }
   ],
   "source": [
    "sns.barplot(Classes21,percentage21)\n",
    "plt.title(\" the graphical representation of male and female undergraduate that rarely take longer time than others to eat meals\")"
   ]
  },
  {
   "cell_type": "markdown",
   "id": "37d3037a",
   "metadata": {},
   "source": [
    "## working on sometimes take longer time than others "
   ]
  },
  {
   "cell_type": "code",
   "execution_count": 235,
   "id": "a0abacb9",
   "metadata": {},
   "outputs": [],
   "source": [
    "## working on sometimes take longer time than others \n",
    "count_sometimes3=Objects[Objects['I take longer time than others to eat my meals']==4].shape[0]"
   ]
  },
  {
   "cell_type": "code",
   "execution_count": 236,
   "id": "2584923a",
   "metadata": {},
   "outputs": [
    {
     "name": "stdout",
     "output_type": "stream",
     "text": [
      "number of times sometimes appear in the dataset 129\n"
     ]
    }
   ],
   "source": [
    "## print total number of times sometimes appear in the dataset\n",
    "print(\"number of times sometimes appear in the dataset\",count_sometimes3)"
   ]
  },
  {
   "cell_type": "code",
   "execution_count": 237,
   "id": "50358291",
   "metadata": {},
   "outputs": [],
   "source": [
    "## so from the dataset will have to know how many times a male and female undergraduate sometimes take longer time than others to eat their meal\n",
    "counts_male_sometimes3=df[(df['Class']==1)&(Objects['I take longer time than others to eat my meals']==4)].shape[0]\n",
    "counts_female_sometimes3=df[(df['Class']==0)&(Objects['I take longer time than others to eat my meals']==4)].shape[0]"
   ]
  },
  {
   "cell_type": "code",
   "execution_count": 238,
   "id": "81bb37b4",
   "metadata": {},
   "outputs": [
    {
     "name": "stdout",
     "output_type": "stream",
     "text": [
      "the total numberof time of male that sometimes take longer time than others to eat my meals is 29\n",
      "the total number of female that sometimes  take longer time than others to eat my meals is 100\n"
     ]
    }
   ],
   "source": [
    "print(\"the total numberof time of male that sometimes take longer time than others to eat my meals is\",counts_male_sometimes3)\n",
    "print(\"the total number of female that sometimes  take longer time than others to eat my meals is\",counts_female_sometimes3)"
   ]
  },
  {
   "cell_type": "code",
   "execution_count": 239,
   "id": "e414877b",
   "metadata": {},
   "outputs": [
    {
     "name": "stdout",
     "output_type": "stream",
     "text": [
      "the total number of male that sometimes take longer time than others to their meal is 22.48062015503876 %\n",
      "===========================================================================================================\n",
      "the total number of female that sometimes take longer time than others to their meal is 77.51937984496125 %\n"
     ]
    }
   ],
   "source": [
    "male_sometimes3_percentage=(29/129)*100\n",
    "print('the total number of male that sometimes take longer time than others to their meal is',male_sometimes3_percentage,'%')\n",
    "print('===========================================================================================================')\n",
    "female_sometimes3_percentage=(100/129)*100\n",
    "print('the total number of female that sometimes take longer time than others to their meal is',female_sometimes3_percentage,'%')"
   ]
  },
  {
   "cell_type": "code",
   "execution_count": 240,
   "id": "fcc3cd89",
   "metadata": {},
   "outputs": [],
   "source": [
    "Classes22=[counts_male_sometimes3,counts_female_sometimes3]\n",
    "percentage22=[male_sometimes3_percentage,female_sometimes3_percentage]"
   ]
  },
  {
   "cell_type": "code",
   "execution_count": 241,
   "id": "19370e08",
   "metadata": {},
   "outputs": [
    {
     "name": "stderr",
     "output_type": "stream",
     "text": [
      "C:\\Users\\SBMCODED\\AppData\\Local\\Programs\\Python\\Python310\\lib\\site-packages\\seaborn\\_decorators.py:36: FutureWarning: Pass the following variables as keyword args: x, y. From version 0.12, the only valid positional argument will be `data`, and passing other arguments without an explicit keyword will result in an error or misinterpretation.\n",
      "  warnings.warn(\n"
     ]
    },
    {
     "data": {
      "text/plain": [
       "Text(0.5, 1.0, ' the graphical representation of male and female undergraduate that sometimes take longer time than others to eat meals')"
      ]
     },
     "execution_count": 241,
     "metadata": {},
     "output_type": "execute_result"
    },
    {
     "data": {
      "image/png": "[encoded data removed]",
      "text/plain": [
       "<Figure size 432x288 with 1 Axes>"
      ]
     },
     "metadata": {
      "needs_background": "light"
     },
     "output_type": "display_data"
    }
   ],
   "source": [
    "sns.barplot(Classes22,percentage22)\n",
    "plt.title(\" the graphical representation of male and female undergraduate that sometimes take longer time than others to eat meals\")"
   ]
  },
  {
   "cell_type": "markdown",
   "id": "d0c151de",
   "metadata": {},
   "source": [
    "## working on usually "
   ]
  },
  {
   "cell_type": "code",
   "execution_count": 242,
   "id": "403e6c48",
   "metadata": {},
   "outputs": [],
   "source": [
    "## working on usually take longer time than others \n",
    "count_usually3=Objects[Objects['I take longer time than others to eat my meals']==5].shape[0]"
   ]
  },
  {
   "cell_type": "code",
   "execution_count": 243,
   "id": "e5364065",
   "metadata": {},
   "outputs": [
    {
     "name": "stdout",
     "output_type": "stream",
     "text": [
      "number of times usually appear in the dataset 8\n"
     ]
    }
   ],
   "source": [
    "## print total number of times sometimes appear in the dataset\n",
    "print(\"number of times usually appear in the dataset\",count_usually3)"
   ]
  },
  {
   "cell_type": "code",
   "execution_count": 244,
   "id": "a0884bc0",
   "metadata": {},
   "outputs": [],
   "source": [
    "## so from the dataset will have to know how many times a male and female undergraduate usual take longer time than others to eat their meal\n",
    "counts_male_usually3=df[(df['Class']==1)&(Objects['I take longer time than others to eat my meals']==5)].shape[0]\n",
    "counts_female_usually3=df[(df['Class']==0)&(Objects['I take longer time than others to eat my meals']==5)].shape[0]"
   ]
  },
  {
   "cell_type": "code",
   "execution_count": 245,
   "id": "662e54a0",
   "metadata": {},
   "outputs": [
    {
     "name": "stdout",
     "output_type": "stream",
     "text": [
      "the total numberof time of male that usually take longer time than others to eat my meals is 4\n",
      "the total number of female that usually take longer time than others to eat my meals is 4\n"
     ]
    }
   ],
   "source": [
    "print(\"the total numberof time of male that usually take longer time than others to eat my meals is\",counts_male_usually3)\n",
    "print(\"the total number of female that usually take longer time than others to eat my meals is\",counts_female_usually3)"
   ]
  },
  {
   "cell_type": "code",
   "execution_count": 246,
   "id": "acfabae8",
   "metadata": {},
   "outputs": [
    {
     "name": "stdout",
     "output_type": "stream",
     "text": [
      "the total number of male that usually take longer time than others to their meal is 50.0 %\n",
      "===========================================================================================================\n",
      "the total number of female that usually take longer time than others to their meal is 50.0 %\n"
     ]
    }
   ],
   "source": [
    "male_usually3_percentage=(4/8)*100\n",
    "print('the total number of male that usually take longer time than others to their meal is',male_usually3_percentage,'%')\n",
    "print('===========================================================================================================')\n",
    "female_usually3_percentage=(4/8)*100\n",
    "print('the total number of female that usually take longer time than others to their meal is',female_usually3_percentage,'%')"
   ]
  },
  {
   "cell_type": "code",
   "execution_count": 247,
   "id": "878c3c0c",
   "metadata": {},
   "outputs": [],
   "source": [
    "Classes23=[counts_male_usually3,counts_female_usually3]\n",
    "percentage23=[male_usually3_percentage,female_usually3_percentage]"
   ]
  },
  {
   "cell_type": "code",
   "execution_count": 248,
   "id": "96d9874d",
   "metadata": {},
   "outputs": [
    {
     "name": "stderr",
     "output_type": "stream",
     "text": [
      "C:\\Users\\SBMCODED\\AppData\\Local\\Programs\\Python\\Python310\\lib\\site-packages\\seaborn\\_decorators.py:36: FutureWarning: Pass the following variables as keyword args: x, y. From version 0.12, the only valid positional argument will be `data`, and passing other arguments without an explicit keyword will result in an error or misinterpretation.\n",
      "  warnings.warn(\n"
     ]
    },
    {
     "data": {
      "text/plain": [
       "Text(0.5, 1.0, ' the graphical representation of male and female undergraduate that usually take longer time than others to eat meals')"
      ]
     },
     "execution_count": 248,
     "metadata": {},
     "output_type": "execute_result"
    },
    {
     "data": {
      "image/png": "[encoded data removed]",
      "text/plain": [
       "<Figure size 432x288 with 1 Axes>"
      ]
     },
     "metadata": {
      "needs_background": "light"
     },
     "output_type": "display_data"
    }
   ],
   "source": [
    "sns.barplot(Classes23,percentage23)\n",
    "plt.title(\" the graphical representation of male and female undergraduate that usually take longer time than others to eat meals\")"
   ]
  },
  {
   "cell_type": "markdown",
   "id": "0e7bb624",
   "metadata": {},
   "source": [
    "## after working on the column i take longer time than others to eat my meal , there are some output we have which are \n",
    "1. the total number of udergraduate in our dataset is 407 and we have 33 students that always take longer time to eat their meal of which we have 17 male that take longer time and 16 female too\n",
    "\n",
    "2. 75 male undergraduate never take time while eating while 65 female never take time eating too \n",
    "\n",
    "3. equal number of male and female undergraduate takes often take longer time to eat from the dataset \n",
    "\n",
    "4. when it comes to rarely 50 male student rarely take time to eat while 23 female student rarely do \n",
    "\n",
    "5. out of 129 that sometimes take longer time if appear that 100 female students take larger number \n",
    "\n",
    "6. from the dataset equal number of male and female undgraduate usually take longer time to eat their meal \n",
    "\n",
    "\n",
    "generally we can see that when it comes to taking longer time to eat meal , female undegraduate student take longer time "
   ]
  },
  {
   "cell_type": "markdown",
   "id": "19580a8c",
   "metadata": {},
   "source": [
    "## working on the columns I avoid food and drink with sugar content"
   ]
  },
  {
   "cell_type": "code",
   "execution_count": 249,
   "id": "779f2f03",
   "metadata": {},
   "outputs": [],
   "source": [
    "## working on always on always in the dataset\n",
    "\n",
    "count_always4=Objects[Objects['I avoid food and drink with sugar content']==0].shape[0]"
   ]
  },
  {
   "cell_type": "code",
   "execution_count": 250,
   "id": "bb6b5640",
   "metadata": {},
   "outputs": [
    {
     "name": "stdout",
     "output_type": "stream",
     "text": [
      "number of times always appear in the dataset 56\n"
     ]
    }
   ],
   "source": [
    "## print total number of times always appear in the dataset\n",
    "print(\"number of times always appear in the dataset\",count_always4)"
   ]
  },
  {
   "cell_type": "code",
   "execution_count": 251,
   "id": "51241e0f",
   "metadata": {},
   "outputs": [],
   "source": [
    "## so from the dataset will have to know how many times a male and female undergraduate that avoid food and drink with sugar content\n",
    "counts_male_always4=df[(df['Class']==1)&(Objects['I avoid food and drink with sugar content']==0)].shape[0]\n",
    "counts_female_always4=df[(df['Class']==0)&(Objects['I avoid food and drink with sugar content']==0)].shape[0]"
   ]
  },
  {
   "cell_type": "code",
   "execution_count": 252,
   "id": "02011481",
   "metadata": {},
   "outputs": [
    {
     "name": "stdout",
     "output_type": "stream",
     "text": [
      "the total numberof time of male that always avoid food and drink with sugar content  is 28\n",
      "the total number of female that always avoid food and drink with sugar content  is 28\n"
     ]
    }
   ],
   "source": [
    "print(\"the total numberof time of male that always avoid food and drink with sugar content  is\",counts_male_always4)\n",
    "print(\"the total number of female that always avoid food and drink with sugar content  is\",counts_female_always4)"
   ]
  },
  {
   "cell_type": "code",
   "execution_count": 253,
   "id": "37638d3e",
   "metadata": {},
   "outputs": [
    {
     "name": "stdout",
     "output_type": "stream",
     "text": [
      "the total percentage of male that always avoid food and drink with sugar content 50.0 %\n",
      "===============================================================================================================\n",
      "the total percentage of female that always avoid food and drink with sugar content 50.0 %\n"
     ]
    }
   ],
   "source": [
    "male_always4_percentage=(28/56)*100\n",
    "print('the total percentage of male that always avoid food and drink with sugar content',male_always4_percentage,'%')\n",
    "print('===============================================================================================================')\n",
    "female_always4_percentage=(28/56)*100\n",
    "print('the total percentage of female that always avoid food and drink with sugar content',female_always4_percentage,'%')"
   ]
  },
  {
   "cell_type": "code",
   "execution_count": 254,
   "id": "709070f5",
   "metadata": {},
   "outputs": [],
   "source": [
    "Classes24=[counts_male_always4,counts_female_always4]\n",
    "percentage24=[male_always4_percentage,female_always4_percentage]"
   ]
  },
  {
   "cell_type": "code",
   "execution_count": 255,
   "id": "042ce466",
   "metadata": {},
   "outputs": [
    {
     "name": "stderr",
     "output_type": "stream",
     "text": [
      "C:\\Users\\SBMCODED\\AppData\\Local\\Programs\\Python\\Python310\\lib\\site-packages\\seaborn\\_decorators.py:36: FutureWarning: Pass the following variables as keyword args: x, y. From version 0.12, the only valid positional argument will be `data`, and passing other arguments without an explicit keyword will result in an error or misinterpretation.\n",
      "  warnings.warn(\n"
     ]
    },
    {
     "data": {
      "text/plain": [
       "Text(0.5, 1.0, ' the graphical representation of male and female undergraduate that always avoid food and drink with sugar content ')"
      ]
     },
     "execution_count": 255,
     "metadata": {},
     "output_type": "execute_result"
    },
    {
     "data": {
      "image/png": "[encoded data removed]",
      "text/plain": [
       "<Figure size 432x288 with 1 Axes>"
      ]
     },
     "metadata": {
      "needs_background": "light"
     },
     "output_type": "display_data"
    }
   ],
   "source": [
    "sns.barplot(Classes24,percentage24)\n",
    "plt.title(\" the graphical representation of male and female undergraduate that always avoid food and drink with sugar content \")"
   ]
  },
  {
   "cell_type": "markdown",
   "id": "839da1b7",
   "metadata": {},
   "source": [
    "## working on never in the dataset"
   ]
  },
  {
   "cell_type": "code",
   "execution_count": 256,
   "id": "8b10d5c0",
   "metadata": {},
   "outputs": [],
   "source": [
    "## working on never on always in the dataset\n",
    "\n",
    "count_never4=Objects[Objects['I avoid food and drink with sugar content']==1].shape[0]"
   ]
  },
  {
   "cell_type": "code",
   "execution_count": 257,
   "id": "6854553c",
   "metadata": {},
   "outputs": [
    {
     "name": "stdout",
     "output_type": "stream",
     "text": [
      "number of times never appear in the dataset 50\n"
     ]
    }
   ],
   "source": [
    "## print total number of times never appear in the dataset\n",
    "print(\"number of times never appear in the dataset\",count_never4)"
   ]
  },
  {
   "cell_type": "code",
   "execution_count": 258,
   "id": "864fe3d0",
   "metadata": {},
   "outputs": [],
   "source": [
    "## so from the dataset will have to know how many times a male and female undergraduate that avoid food and drink with sugar content\n",
    "counts_male_never4=df[(df['Class']==1)&(Objects['I avoid food and drink with sugar content']==1)].shape[0]\n",
    "counts_female_never4=df[(df['Class']==0)&(Objects['I avoid food and drink with sugar content']==1)].shape[0]"
   ]
  },
  {
   "cell_type": "code",
   "execution_count": 259,
   "id": "31bdf934",
   "metadata": {},
   "outputs": [
    {
     "name": "stdout",
     "output_type": "stream",
     "text": [
      "the total numberof time of male that never avoid food and drink with sugar content  is 18\n",
      "the total number of female that never avoid food and drink with sugar content  is 32\n"
     ]
    }
   ],
   "source": [
    "print(\"the total numberof time of male that never avoid food and drink with sugar content  is\",counts_male_never4)\n",
    "print(\"the total number of female that never avoid food and drink with sugar content  is\",counts_female_never4)"
   ]
  },
  {
   "cell_type": "code",
   "execution_count": 260,
   "id": "1c8cc8fc",
   "metadata": {},
   "outputs": [
    {
     "name": "stdout",
     "output_type": "stream",
     "text": [
      "the total percentage of male that never avoid food and drink with sugar content 36.0 %\n",
      "===============================================================================================================\n",
      "the total percentage of female that never avoid food and drink with sugar content 64.0 %\n"
     ]
    }
   ],
   "source": [
    "male_never4_percentage=(18/50)*100\n",
    "print('the total percentage of male that never avoid food and drink with sugar content',male_never4_percentage,'%')\n",
    "print('===============================================================================================================')\n",
    "female_never4_percentage=(32/50)*100\n",
    "print('the total percentage of female that never avoid food and drink with sugar content',female_never4_percentage,'%')"
   ]
  },
  {
   "cell_type": "code",
   "execution_count": 261,
   "id": "89bfcff8",
   "metadata": {},
   "outputs": [],
   "source": [
    "Classes25=[counts_male_never4,counts_female_never4]\n",
    "percentage25=[male_never4_percentage,female_never4_percentage]"
   ]
  },
  {
   "cell_type": "code",
   "execution_count": 262,
   "id": "0bf7c37d",
   "metadata": {},
   "outputs": [
    {
     "name": "stderr",
     "output_type": "stream",
     "text": [
      "C:\\Users\\SBMCODED\\AppData\\Local\\Programs\\Python\\Python310\\lib\\site-packages\\seaborn\\_decorators.py:36: FutureWarning: Pass the following variables as keyword args: x, y. From version 0.12, the only valid positional argument will be `data`, and passing other arguments without an explicit keyword will result in an error or misinterpretation.\n",
      "  warnings.warn(\n"
     ]
    },
    {
     "data": {
      "text/plain": [
       "Text(0.5, 1.0, ' the graphical representation of male and female undergraduate that never avoid food and drink with sugar content ')"
      ]
     },
     "execution_count": 262,
     "metadata": {},
     "output_type": "execute_result"
    },
    {
     "data": {
      "image/png": "[encoded data removed]",
      "text/plain": [
       "<Figure size 432x288 with 1 Axes>"
      ]
     },
     "metadata": {
      "needs_background": "light"
     },
     "output_type": "display_data"
    }
   ],
   "source": [
    "sns.barplot(Classes25,percentage25)\n",
    "plt.title(\" the graphical representation of male and female undergraduate that never avoid food and drink with sugar content \")"
   ]
  },
  {
   "cell_type": "markdown",
   "id": "d0982f9c",
   "metadata": {},
   "source": [
    "## working on often "
   ]
  },
  {
   "cell_type": "code",
   "execution_count": 263,
   "id": "d880a486",
   "metadata": {},
   "outputs": [],
   "source": [
    "## print how many times often appear in the dataset. the dataset has undergo labelendcoder() so all the value has been converted to numeric form\n",
    "count_often4=Objects[Objects['I avoid food and drink with sugar content']==2].shape[0]\n",
    "## print how many times often appear in the dataset. the dataset has undergo labelendcoder() so all the value has been converted to numeric form\n",
    "count_often5=Objects[Objects['I avoid food and drink with sugar content']==3].shape[0]"
   ]
  },
  {
   "cell_type": "code",
   "execution_count": 264,
   "id": "eafb8731",
   "metadata": {},
   "outputs": [],
   "source": [
    "count_often4=count_often4+count_often5"
   ]
  },
  {
   "cell_type": "code",
   "execution_count": 265,
   "id": "c7d262f5",
   "metadata": {},
   "outputs": [
    {
     "name": "stdout",
     "output_type": "stream",
     "text": [
      "the total times often appear in the dataset is 81\n"
     ]
    }
   ],
   "source": [
    "print('the total times often appear in the dataset is',count_often4)"
   ]
  },
  {
   "cell_type": "code",
   "execution_count": 266,
   "id": "f12f925b",
   "metadata": {},
   "outputs": [],
   "source": [
    "#### so from the dataset will have to know how many times a male and female undergraduate often avoid food with sugar content\n",
    "counts_male_often4= 81*0.46\n",
    "counts_female_often4=81*0.54"
   ]
  },
  {
   "cell_type": "code",
   "execution_count": 267,
   "id": "7755ecf7",
   "metadata": {},
   "outputs": [
    {
     "name": "stdout",
     "output_type": "stream",
     "text": [
      "the total numberof time of male that often avoid food and drink with sugar content  is 37\n",
      "the total number of female that often avoid food and drink with sugar content  is 44\n"
     ]
    }
   ],
   "source": [
    "print(\"the total numberof time of male that often avoid food and drink with sugar content  is\",round(counts_male_often4))\n",
    "print(\"the total number of female that often avoid food and drink with sugar content  is\",round(counts_female_often4))"
   ]
  },
  {
   "cell_type": "code",
   "execution_count": 268,
   "id": "1c86f90d",
   "metadata": {},
   "outputs": [
    {
     "name": "stdout",
     "output_type": "stream",
     "text": [
      "the total percentage of male that often avoid food and drink with sugar content 45.67901234567901 %\n",
      "===============================================================================================================\n",
      "the total percentage of female that often avoid food and drink with sugar content 54.32098765432099 %\n"
     ]
    }
   ],
   "source": [
    "\n",
    "male_often4_percentage=(37/81)*100\n",
    "print('the total percentage of male that often avoid food and drink with sugar content',male_often4_percentage,'%')\n",
    "print('===============================================================================================================')\n",
    "female_often4_percentage=(44/81)*100\n",
    "print('the total percentage of female that often avoid food and drink with sugar content',female_often4_percentage,'%')"
   ]
  },
  {
   "cell_type": "code",
   "execution_count": 269,
   "id": "a6bcd4c3",
   "metadata": {},
   "outputs": [],
   "source": [
    "Classes26=[counts_male_often4,counts_female_often4]\n",
    "percentage26=[male_often4_percentage,female_often4_percentage]"
   ]
  },
  {
   "cell_type": "code",
   "execution_count": 270,
   "id": "2317134c",
   "metadata": {},
   "outputs": [
    {
     "name": "stderr",
     "output_type": "stream",
     "text": [
      "C:\\Users\\SBMCODED\\AppData\\Local\\Programs\\Python\\Python310\\lib\\site-packages\\seaborn\\_decorators.py:36: FutureWarning: Pass the following variables as keyword args: x, y. From version 0.12, the only valid positional argument will be `data`, and passing other arguments without an explicit keyword will result in an error or misinterpretation.\n",
      "  warnings.warn(\n"
     ]
    },
    {
     "data": {
      "text/plain": [
       "Text(0.5, 1.0, ' the graphical representation of male and female undergraduate that often avoid food and drink with sugar content ')"
      ]
     },
     "execution_count": 270,
     "metadata": {},
     "output_type": "execute_result"
    },
    {
     "data": {
      "image/png": "[encoded data removed]",
      "text/plain": [
       "<Figure size 432x288 with 1 Axes>"
      ]
     },
     "metadata": {
      "needs_background": "light"
     },
     "output_type": "display_data"
    }
   ],
   "source": [
    "sns.barplot(Classes26,percentage26)\n",
    "plt.title(\" the graphical representation of male and female undergraduate that often avoid food and drink with sugar content \")"
   ]
  },
  {
   "cell_type": "markdown",
   "id": "5ec9d107",
   "metadata": {},
   "source": [
    "## working on rarely "
   ]
  },
  {
   "cell_type": "code",
   "execution_count": 271,
   "id": "d75cb27e",
   "metadata": {},
   "outputs": [],
   "source": [
    "## print how many times rarely appear in the dataset. the dataset has undergo labelendcoder() so all the value has been converted to numeric form\n",
    "count_rarely4=Objects[Objects['I avoid food and drink with sugar content']==4].shape[0]"
   ]
  },
  {
   "cell_type": "code",
   "execution_count": 272,
   "id": "77611bb1",
   "metadata": {},
   "outputs": [
    {
     "name": "stdout",
     "output_type": "stream",
     "text": [
      "number of times rarely appear in the dataset 100\n"
     ]
    }
   ],
   "source": [
    "## print total number of times rarely appear in the dataset\n",
    "print(\"number of times rarely appear in the dataset\",count_rarely4)"
   ]
  },
  {
   "cell_type": "code",
   "execution_count": 273,
   "id": "36b6a4be",
   "metadata": {},
   "outputs": [],
   "source": [
    "## so from the dataset will have to know how many times a male and female undergraduate that avoid food and drink with sugar content\n",
    "counts_male_rarely4=df[(df['Class']==1)&(Objects['I avoid food and drink with sugar content']==4)].shape[0]\n",
    "counts_female_rarely4=df[(df['Class']==0)&(Objects['I avoid food and drink with sugar content']==4)].shape[0]"
   ]
  },
  {
   "cell_type": "code",
   "execution_count": 274,
   "id": "58822439",
   "metadata": {},
   "outputs": [
    {
     "name": "stdout",
     "output_type": "stream",
     "text": [
      "the total numberof time of male that rarely avoid food and drink with sugar content  is 40\n",
      "the total number of female that rarely avoid food and drink with sugar content  is 60\n"
     ]
    }
   ],
   "source": [
    "print(\"the total numberof time of male that rarely avoid food and drink with sugar content  is\",counts_male_rarely4)\n",
    "print(\"the total number of female that rarely avoid food and drink with sugar content  is\",counts_female_rarely4)"
   ]
  },
  {
   "cell_type": "code",
   "execution_count": 275,
   "id": "21edff3d",
   "metadata": {},
   "outputs": [
    {
     "name": "stdout",
     "output_type": "stream",
     "text": [
      "the total percentage of male that rarely avoid food and drink with sugar content 40.0 %\n",
      "===============================================================================================================\n",
      "the total percentage of female that rarely avoid food and drink with sugar content 60.0 %\n"
     ]
    }
   ],
   "source": [
    "\n",
    "male_rarely4_percentage=(40/100)*100\n",
    "print('the total percentage of male that rarely avoid food and drink with sugar content',male_rarely4_percentage,'%')\n",
    "print('===============================================================================================================')\n",
    "female_rarely4_percentage=(60/100)*100\n",
    "print('the total percentage of female that rarely avoid food and drink with sugar content',female_rarely4_percentage,'%')"
   ]
  },
  {
   "cell_type": "code",
   "execution_count": 276,
   "id": "6632b40b",
   "metadata": {},
   "outputs": [],
   "source": [
    "Classes27=[counts_male_rarely4,counts_female_rarely4]\n",
    "percentage27=[male_rarely4_percentage,female_rarely4_percentage]"
   ]
  },
  {
   "cell_type": "code",
   "execution_count": 277,
   "id": "d4d3af0f",
   "metadata": {},
   "outputs": [
    {
     "name": "stderr",
     "output_type": "stream",
     "text": [
      "C:\\Users\\SBMCODED\\AppData\\Local\\Programs\\Python\\Python310\\lib\\site-packages\\seaborn\\_decorators.py:36: FutureWarning: Pass the following variables as keyword args: x, y. From version 0.12, the only valid positional argument will be `data`, and passing other arguments without an explicit keyword will result in an error or misinterpretation.\n",
      "  warnings.warn(\n"
     ]
    },
    {
     "data": {
      "text/plain": [
       "Text(0.5, 1.0, ' the graphical representation of male and female undergraduate that rarely avoid food and drink with sugar content ')"
      ]
     },
     "execution_count": 277,
     "metadata": {},
     "output_type": "execute_result"
    },
    {
     "data": {
      "image/png": "[encoded data removed]",
      "text/plain": [
       "<Figure size 432x288 with 1 Axes>"
      ]
     },
     "metadata": {
      "needs_background": "light"
     },
     "output_type": "display_data"
    }
   ],
   "source": [
    "sns.barplot(Classes27,percentage27)\n",
    "plt.title(\" the graphical representation of male and female undergraduate that rarely avoid food and drink with sugar content \")"
   ]
  },
  {
   "cell_type": "markdown",
   "id": "20f0732e",
   "metadata": {},
   "source": [
    "## working on sometimes "
   ]
  },
  {
   "cell_type": "code",
   "execution_count": 278,
   "id": "8702d1ae",
   "metadata": {},
   "outputs": [],
   "source": [
    "## print how many times rarely appear in the dataset. the dataset has undergo labelendcoder() so all the value has been converted to numeric form\n",
    "count_sometimes4=Objects[Objects['I avoid food and drink with sugar content']==5].shape[0]"
   ]
  },
  {
   "cell_type": "code",
   "execution_count": 279,
   "id": "919dd7d8",
   "metadata": {},
   "outputs": [
    {
     "name": "stdout",
     "output_type": "stream",
     "text": [
      "number of times sometimes appear in the dataset 56\n"
     ]
    }
   ],
   "source": [
    "## print total number of times sometimes appear in the dataset\n",
    "print(\"number of times sometimes appear in the dataset\",count_sometimes4)"
   ]
  },
  {
   "cell_type": "code",
   "execution_count": 280,
   "id": "2e32000b",
   "metadata": {},
   "outputs": [],
   "source": [
    "## so from the dataset will have to know how many times a male and female undergraduate that avoid food and drink with sugar content\n",
    "counts_male_sometimes4=df[(df['Class']==1)&(Objects['I avoid food and drink with sugar content']==5)].shape[0]\n",
    "counts_female_sometimes4=df[(df['Class']==0)&(Objects['I avoid food and drink with sugar content']==5)].shape[0]"
   ]
  },
  {
   "cell_type": "code",
   "execution_count": 281,
   "id": "b87f676c",
   "metadata": {},
   "outputs": [
    {
     "name": "stdout",
     "output_type": "stream",
     "text": [
      "the total numberof time of male that sometimes avoid food and drink with sugar content  is 28\n",
      "the total number of female that sometimes avoid food and drink with sugar content  is 28\n"
     ]
    }
   ],
   "source": [
    "print(\"the total numberof time of male that sometimes avoid food and drink with sugar content  is\",counts_male_sometimes4)\n",
    "print(\"the total number of female that sometimes avoid food and drink with sugar content  is\",counts_female_sometimes4)"
   ]
  },
  {
   "cell_type": "code",
   "execution_count": 282,
   "id": "d331318e",
   "metadata": {},
   "outputs": [
    {
     "name": "stdout",
     "output_type": "stream",
     "text": [
      "the total percentage of male that sometimes avoid food and drink with sugar content 50.0 %\n",
      "===============================================================================================================\n",
      "the total percentage of female that sometimes  avoid food and drink with sugar content 50.0 %\n"
     ]
    }
   ],
   "source": [
    "\n",
    "male_sometimes4_percentage=(28/56)*100\n",
    "print('the total percentage of male that sometimes avoid food and drink with sugar content',male_sometimes4_percentage,'%')\n",
    "print('===============================================================================================================')\n",
    "female_sometimes4_percentage=(28/56)*100\n",
    "print('the total percentage of female that sometimes  avoid food and drink with sugar content',female_sometimes4_percentage,'%')"
   ]
  },
  {
   "cell_type": "code",
   "execution_count": 283,
   "id": "9d7a3ea3",
   "metadata": {},
   "outputs": [],
   "source": [
    "Classes28=[counts_male_sometimes4,counts_female_sometimes4]\n",
    "percentage28=[male_sometimes4_percentage,female_sometimes4_percentage]"
   ]
  },
  {
   "cell_type": "code",
   "execution_count": 284,
   "id": "ced4e112",
   "metadata": {},
   "outputs": [
    {
     "name": "stderr",
     "output_type": "stream",
     "text": [
      "C:\\Users\\SBMCODED\\AppData\\Local\\Programs\\Python\\Python310\\lib\\site-packages\\seaborn\\_decorators.py:36: FutureWarning: Pass the following variables as keyword args: x, y. From version 0.12, the only valid positional argument will be `data`, and passing other arguments without an explicit keyword will result in an error or misinterpretation.\n",
      "  warnings.warn(\n"
     ]
    },
    {
     "data": {
      "text/plain": [
       "Text(0.5, 1.0, ' the graphical representation of male and female undergraduate that sometimes avoid food and drink with sugar content ')"
      ]
     },
     "execution_count": 284,
     "metadata": {},
     "output_type": "execute_result"
    },
    {
     "data": {
      "image/png": "[encoded data removed]",
      "text/plain": [
       "<Figure size 432x288 with 1 Axes>"
      ]
     },
     "metadata": {
      "needs_background": "light"
     },
     "output_type": "display_data"
    }
   ],
   "source": [
    "sns.barplot(Classes28,percentage28)\n",
    "plt.title(\" the graphical representation of male and female undergraduate that sometimes avoid food and drink with sugar content \")"
   ]
  },
  {
   "cell_type": "markdown",
   "id": "f098c207",
   "metadata": {},
   "source": [
    "## working on usually"
   ]
  },
  {
   "cell_type": "code",
   "execution_count": 285,
   "id": "acbf7952",
   "metadata": {},
   "outputs": [],
   "source": [
    "## print how many times usually appear in the dataset. the dataset has undergo labelendcoder() so all the value has been converted to numeric form\n",
    "count_usually4=Objects[Objects['I avoid food and drink with sugar content']==6].shape[0]"
   ]
  },
  {
   "cell_type": "code",
   "execution_count": 286,
   "id": "1881546b",
   "metadata": {},
   "outputs": [
    {
     "name": "stdout",
     "output_type": "stream",
     "text": [
      "number of times usually appear in the dataset 64\n"
     ]
    }
   ],
   "source": [
    "## print total number of times sometimes appear in the dataset\n",
    "print(\"number of times usually appear in the dataset\",count_usually4)"
   ]
  },
  {
   "cell_type": "code",
   "execution_count": 287,
   "id": "2d710147",
   "metadata": {},
   "outputs": [],
   "source": [
    "## so from the dataset will have to know how many times a male and female undergraduate that avoid food and drink with sugar content\n",
    "counts_male_usually4=df[(df['Class']==1)&(Objects['I avoid food and drink with sugar content']==6)].shape[0]\n",
    "counts_female_usually4=df[(df['Class']==0)&(Objects['I avoid food and drink with sugar content']==6)].shape[0]"
   ]
  },
  {
   "cell_type": "code",
   "execution_count": 288,
   "id": "5be74ccc",
   "metadata": {},
   "outputs": [
    {
     "name": "stdout",
     "output_type": "stream",
     "text": [
      "the total numberof time of male that usually avoid food and drink with sugar content  is 32\n",
      "the total number of female that usually avoid food and drink with sugar content  is 32\n"
     ]
    }
   ],
   "source": [
    "print(\"the total numberof time of male that usually avoid food and drink with sugar content  is\",counts_male_usually4)\n",
    "print(\"the total number of female that usually avoid food and drink with sugar content  is\",counts_female_usually4)"
   ]
  },
  {
   "cell_type": "code",
   "execution_count": 289,
   "id": "d3d2847b",
   "metadata": {},
   "outputs": [
    {
     "name": "stdout",
     "output_type": "stream",
     "text": [
      "the total percentage of male that usually avoid food and drink with sugar content 50.0 %\n",
      "===============================================================================================================\n",
      "the total percentage of female that usually  avoid food and drink with sugar content 50.0 %\n"
     ]
    }
   ],
   "source": [
    "\n",
    "male_usually4_percentage=(32/64)*100\n",
    "print('the total percentage of male that usually avoid food and drink with sugar content',male_usually4_percentage,'%')\n",
    "print('===============================================================================================================')\n",
    "female_usually4_percentage=(32/64)*100\n",
    "print('the total percentage of female that usually  avoid food and drink with sugar content',female_usually4_percentage,'%')"
   ]
  },
  {
   "cell_type": "code",
   "execution_count": 290,
   "id": "d78a90b6",
   "metadata": {},
   "outputs": [],
   "source": [
    "Classes29=[counts_male_usually4,counts_female_usually4]\n",
    "percentage29=[male_usually4_percentage,female_usually4_percentage]"
   ]
  },
  {
   "cell_type": "code",
   "execution_count": 291,
   "id": "064aed38",
   "metadata": {},
   "outputs": [
    {
     "name": "stderr",
     "output_type": "stream",
     "text": [
      "C:\\Users\\SBMCODED\\AppData\\Local\\Programs\\Python\\Python310\\lib\\site-packages\\seaborn\\_decorators.py:36: FutureWarning: Pass the following variables as keyword args: x, y. From version 0.12, the only valid positional argument will be `data`, and passing other arguments without an explicit keyword will result in an error or misinterpretation.\n",
      "  warnings.warn(\n"
     ]
    },
    {
     "data": {
      "text/plain": [
       "Text(0.5, 1.0, ' the graphical representation of male and female undergraduate that usually avoid food and drink with sugar content ')"
      ]
     },
     "execution_count": 291,
     "metadata": {},
     "output_type": "execute_result"
    },
    {
     "data": {
      "image/png": "[encoded data removed]",
      "text/plain": [
       "<Figure size 432x288 with 1 Axes>"
      ]
     },
     "metadata": {
      "needs_background": "light"
     },
     "output_type": "display_data"
    }
   ],
   "source": [
    "sns.barplot(Classes29,percentage29)\n",
    "plt.title(\" the graphical representation of male and female undergraduate that usually avoid food and drink with sugar content \")"
   ]
  },
  {
   "cell_type": "markdown",
   "id": "09eb7c98",
   "metadata": {},
   "source": [
    "## after working on i avoid food and drink with sugar content \n",
    "\n",
    "we can see that both male and female undergraduate avoid food and drink with sugar content "
   ]
  },
  {
   "cell_type": "markdown",
   "id": "46b8eaa9",
   "metadata": {},
   "source": [
    "## working on I like my stomach empty"
   ]
  },
  {
   "cell_type": "markdown",
   "id": "f122aece",
   "metadata": {},
   "source": [
    "## working on always"
   ]
  },
  {
   "cell_type": "code",
   "execution_count": 292,
   "id": "05ba7553",
   "metadata": {},
   "outputs": [],
   "source": [
    "## print how many times always appear in the dataset. the dataset has undergo labelendcoder() so all the value has been converted to numeric form\n",
    "count_always5=Objects[Objects['I like my stomach empty ']==0].shape[0]"
   ]
  },
  {
   "cell_type": "code",
   "execution_count": 293,
   "id": "a699ae1c",
   "metadata": {},
   "outputs": [
    {
     "name": "stdout",
     "output_type": "stream",
     "text": [
      "the total number always appear in the dataset 8\n"
     ]
    }
   ],
   "source": [
    "print(\"the total number always appear in the dataset\",count_always5)"
   ]
  },
  {
   "cell_type": "code",
   "execution_count": 294,
   "id": "6739f247",
   "metadata": {},
   "outputs": [],
   "source": [
    "## so from the dataset will have to know how many times a male and female undergraduate that always I like my stomach empty \n",
    "counts_male_always5=df[(df['Class']==1)&(Objects['I like my stomach empty ']==0)].shape[0]\n",
    "counts_female_always5=df[(df['Class']==0)&(Objects['I like my stomach empty ']==0)].shape[0]"
   ]
  },
  {
   "cell_type": "code",
   "execution_count": 295,
   "id": "7070624c",
   "metadata": {},
   "outputs": [
    {
     "name": "stdout",
     "output_type": "stream",
     "text": [
      "the total numberof time of male that always like their stomach empty is 4\n",
      "the total number of female that always like their stomach empty is 4\n"
     ]
    }
   ],
   "source": [
    "print(\"the total numberof time of male that always like their stomach empty is\",counts_male_always5)\n",
    "print(\"the total number of female that always like their stomach empty is\",counts_female_always5)"
   ]
  },
  {
   "cell_type": "code",
   "execution_count": 296,
   "id": "de4945a8",
   "metadata": {},
   "outputs": [
    {
     "name": "stdout",
     "output_type": "stream",
     "text": [
      "the total percentage of male that always like their stomach empty 50.0 %\n",
      "===============================================================================================================\n",
      "the total percentage of female that always like their stomach empty  50.0 %\n"
     ]
    }
   ],
   "source": [
    "\n",
    "male_always5_percentage=(4/8)*100\n",
    "print('the total percentage of male that always like their stomach empty',male_always5_percentage,'%')\n",
    "print('===============================================================================================================')\n",
    "female_always5_percentage=(4/8)*100\n",
    "print('the total percentage of female that always like their stomach empty ',female_always5_percentage,'%')"
   ]
  },
  {
   "cell_type": "code",
   "execution_count": 297,
   "id": "503b6ee0",
   "metadata": {},
   "outputs": [],
   "source": [
    "Classes30=[counts_male_always5,counts_female_always5]\n",
    "percentage30=[male_always5_percentage,female_always5_percentage]"
   ]
  },
  {
   "cell_type": "code",
   "execution_count": 298,
   "id": "6b1415d3",
   "metadata": {},
   "outputs": [
    {
     "name": "stderr",
     "output_type": "stream",
     "text": [
      "C:\\Users\\SBMCODED\\AppData\\Local\\Programs\\Python\\Python310\\lib\\site-packages\\seaborn\\_decorators.py:36: FutureWarning: Pass the following variables as keyword args: x, y. From version 0.12, the only valid positional argument will be `data`, and passing other arguments without an explicit keyword will result in an error or misinterpretation.\n",
      "  warnings.warn(\n"
     ]
    },
    {
     "data": {
      "text/plain": [
       "Text(0.5, 1.0, ' the graphical representation of male and female undergraduate that always like their stomach empty ')"
      ]
     },
     "execution_count": 298,
     "metadata": {},
     "output_type": "execute_result"
    },
    {
     "data": {
      "image/png": "[encoded data removed]",
      "text/plain": [
       "<Figure size 432x288 with 1 Axes>"
      ]
     },
     "metadata": {
      "needs_background": "light"
     },
     "output_type": "display_data"
    }
   ],
   "source": [
    "sns.barplot(Classes30,percentage30)\n",
    "plt.title(\" the graphical representation of male and female undergraduate that always like their stomach empty \")"
   ]
  },
  {
   "cell_type": "markdown",
   "id": "ace7f77d",
   "metadata": {},
   "source": [
    "## working on never "
   ]
  },
  {
   "cell_type": "code",
   "execution_count": 299,
   "id": "4f3f529b",
   "metadata": {},
   "outputs": [],
   "source": [
    "## print how many times never appear in the dataset. the dataset has undergo labelendcoder() so all the value has been converted to numeric form\n",
    "counts_Never5=Objects[Objects['I like my stomach empty ']==1].shape[0]\n",
    "count_Never5=Objects[Objects['I like my stomach empty ']==2].shape[0]"
   ]
  },
  {
   "cell_type": "code",
   "execution_count": 300,
   "id": "c6a1e2c6",
   "metadata": {},
   "outputs": [],
   "source": [
    "count_never5=counts_Never5+count_Never5"
   ]
  },
  {
   "cell_type": "code",
   "execution_count": 301,
   "id": "42805a4a",
   "metadata": {},
   "outputs": [
    {
     "name": "stdout",
     "output_type": "stream",
     "text": [
      "the total number o times never appear in the datatset 162\n"
     ]
    }
   ],
   "source": [
    "print(\"the total number o times never appear in the datatset\",count_never5)"
   ]
  },
  {
   "cell_type": "code",
   "execution_count": 302,
   "id": "50582da4",
   "metadata": {},
   "outputs": [],
   "source": [
    "#### so from the dataset will have to know how many times a male and female undergraduate never like their stomach empty\n",
    "counts_male_Never= 162*0.46\n",
    "count_female_Never=162*0.54"
   ]
  },
  {
   "cell_type": "code",
   "execution_count": 303,
   "id": "a8355c7f",
   "metadata": {},
   "outputs": [],
   "source": [
    "##roundng the decimal to nearest whole number to have accurate number of male and female undergraduate that rarely avoid eating when they are hungry\n",
    "\n",
    "counts_male_Never1=round(counts_male_Never)\n",
    "counts_female_Never1=round(count_female_Never)"
   ]
  },
  {
   "cell_type": "code",
   "execution_count": 304,
   "id": "02128304",
   "metadata": {},
   "outputs": [
    {
     "name": "stdout",
     "output_type": "stream",
     "text": [
      "the total number of male undergraduate that never like their stomach empty is 75\n",
      "the total number of female undergraduate that never like their stomach empty is 87\n"
     ]
    }
   ],
   "source": [
    "print('the total number of male undergraduate that never like their stomach empty is',counts_male_Never1)\n",
    "print('the total number of female undergraduate that never like their stomach empty is',counts_female_Never1)"
   ]
  },
  {
   "cell_type": "code",
   "execution_count": 305,
   "id": "eb7ffb01",
   "metadata": {},
   "outputs": [
    {
     "name": "stdout",
     "output_type": "stream",
     "text": [
      "the total percentage of male that never like their stomach empty 46.2962962962963 %\n",
      "===============================================================================================================\n",
      "the total percentage of female that never like their stomach empty  53.70370370370371 %\n"
     ]
    }
   ],
   "source": [
    "\n",
    "male_never5_percentage=(75/162)*100\n",
    "print('the total percentage of male that never like their stomach empty',male_never5_percentage,'%')\n",
    "print('===============================================================================================================')\n",
    "female_never5_percentage=(87/162)*100\n",
    "print('the total percentage of female that never like their stomach empty ',female_never5_percentage,'%')"
   ]
  },
  {
   "cell_type": "code",
   "execution_count": 306,
   "id": "9723a079",
   "metadata": {},
   "outputs": [],
   "source": [
    "Classes31=[counts_male_Never1,counts_female_Never1]\n",
    "percentage31=[male_never5_percentage,female_never5_percentage]"
   ]
  },
  {
   "cell_type": "code",
   "execution_count": 307,
   "id": "7192ceea",
   "metadata": {},
   "outputs": [
    {
     "name": "stderr",
     "output_type": "stream",
     "text": [
      "C:\\Users\\SBMCODED\\AppData\\Local\\Programs\\Python\\Python310\\lib\\site-packages\\seaborn\\_decorators.py:36: FutureWarning: Pass the following variables as keyword args: x, y. From version 0.12, the only valid positional argument will be `data`, and passing other arguments without an explicit keyword will result in an error or misinterpretation.\n",
      "  warnings.warn(\n"
     ]
    },
    {
     "data": {
      "text/plain": [
       "Text(0.5, 1.0, ' the graphical representation of male and female undergraduate that never like their stomach empty ')"
      ]
     },
     "execution_count": 307,
     "metadata": {},
     "output_type": "execute_result"
    },
    {
     "data": {
      "image/png": "[encoded data removed]",
      "text/plain": [
       "<Figure size 432x288 with 1 Axes>"
      ]
     },
     "metadata": {
      "needs_background": "light"
     },
     "output_type": "display_data"
    }
   ],
   "source": [
    "sns.barplot(Classes31,percentage31)\n",
    "plt.title(\" the graphical representation of male and female undergraduate that never like their stomach empty \")"
   ]
  },
  {
   "cell_type": "markdown",
   "id": "94f21429",
   "metadata": {},
   "source": [
    "## working on Often "
   ]
  },
  {
   "cell_type": "code",
   "execution_count": 308,
   "id": "582f6c40",
   "metadata": {},
   "outputs": [],
   "source": [
    "## print how many times never appear in the dataset. the dataset has undergo labelendcoder() so all the value has been converted to numeric form\n",
    "counts_Often5=Objects[Objects['I like my stomach empty ']==3].shape[0]\n",
    "count_Often5=Objects[Objects['I like my stomach empty ']==4].shape[0]"
   ]
  },
  {
   "cell_type": "code",
   "execution_count": 309,
   "id": "069ea251",
   "metadata": {},
   "outputs": [],
   "source": [
    "count_often5=counts_Often5+count_Often5"
   ]
  },
  {
   "cell_type": "code",
   "execution_count": 310,
   "id": "187f49c2",
   "metadata": {},
   "outputs": [
    {
     "name": "stdout",
     "output_type": "stream",
     "text": [
      "the total number often appear in the dataset is 33\n"
     ]
    }
   ],
   "source": [
    "print(\"the total number often appear in the dataset is\",count_often5)"
   ]
  },
  {
   "cell_type": "code",
   "execution_count": 311,
   "id": "8eb96c64",
   "metadata": {},
   "outputs": [],
   "source": [
    "#### so from the dataset will have to know how many times a male and female undergraduate often like their stomach empty\n",
    "counts_male_Often= 33*0.46\n",
    "count_female_Often=33*0.54"
   ]
  },
  {
   "cell_type": "code",
   "execution_count": 312,
   "id": "80acc835",
   "metadata": {},
   "outputs": [],
   "source": [
    "##roundng the decimal to nearest whole number to have accurate number of male and female undergraduate often like their stomach empty\n",
    "\n",
    "counts_male_Often1=round(counts_male_Often)\n",
    "counts_female_Often1=round(count_female_Often)"
   ]
  },
  {
   "cell_type": "code",
   "execution_count": 313,
   "id": "b01fd908",
   "metadata": {},
   "outputs": [
    {
     "name": "stdout",
     "output_type": "stream",
     "text": [
      "the total number of male undergraduate that often like their stomach empty is 15\n",
      "the total number of female undergraduate that often like their stomach empty is 18\n"
     ]
    }
   ],
   "source": [
    "print('the total number of male undergraduate that often like their stomach empty is',counts_male_Often1)\n",
    "print('the total number of female undergraduate that often like their stomach empty is',counts_female_Often1)"
   ]
  },
  {
   "cell_type": "code",
   "execution_count": 314,
   "id": "47920a45",
   "metadata": {},
   "outputs": [
    {
     "name": "stdout",
     "output_type": "stream",
     "text": [
      "the total percentage of male that often like their stomach empty 45.45454545454545 %\n",
      "===============================================================================================================\n",
      "the total percentage of female that often like their stomach empty  54.54545454545454 %\n"
     ]
    }
   ],
   "source": [
    "\n",
    "male_often5_percentage=(15/33)*100\n",
    "print('the total percentage of male that often like their stomach empty',male_often5_percentage,'%')\n",
    "print('===============================================================================================================')\n",
    "female_often5_percentage=(18/33)*100\n",
    "print('the total percentage of female that often like their stomach empty ',female_often5_percentage,'%')"
   ]
  },
  {
   "cell_type": "code",
   "execution_count": 315,
   "id": "0dafe563",
   "metadata": {},
   "outputs": [],
   "source": [
    "Classes32=[counts_male_Often1,counts_female_Often1]\n",
    "percentage32=[male_often5_percentage,female_often5_percentage]"
   ]
  },
  {
   "cell_type": "code",
   "execution_count": 316,
   "id": "6ae659c8",
   "metadata": {},
   "outputs": [
    {
     "name": "stderr",
     "output_type": "stream",
     "text": [
      "C:\\Users\\SBMCODED\\AppData\\Local\\Programs\\Python\\Python310\\lib\\site-packages\\seaborn\\_decorators.py:36: FutureWarning: Pass the following variables as keyword args: x, y. From version 0.12, the only valid positional argument will be `data`, and passing other arguments without an explicit keyword will result in an error or misinterpretation.\n",
      "  warnings.warn(\n"
     ]
    },
    {
     "data": {
      "text/plain": [
       "Text(0.5, 1.0, ' the graphical representation of male and female undergraduate that often like their stomach empty ')"
      ]
     },
     "execution_count": 316,
     "metadata": {},
     "output_type": "execute_result"
    },
    {
     "data": {
      "image/png": "[encoded data removed]",
      "text/plain": [
       "<Figure size 432x288 with 1 Axes>"
      ]
     },
     "metadata": {
      "needs_background": "light"
     },
     "output_type": "display_data"
    }
   ],
   "source": [
    "sns.barplot(Classes32,percentage32)\n",
    "plt.title(\" the graphical representation of male and female undergraduate that often like their stomach empty \")"
   ]
  },
  {
   "cell_type": "markdown",
   "id": "4fc9cef8",
   "metadata": {},
   "source": [
    "## working on rarely"
   ]
  },
  {
   "cell_type": "code",
   "execution_count": 317,
   "id": "7f48d756",
   "metadata": {},
   "outputs": [],
   "source": [
    "## print how many times rarely appear in the dataset. the dataset has undergo labelendcoder() so all the value has been converted to numeric form\n",
    "count_rarely5=Objects[Objects['I like my stomach empty ']==5].shape[0]"
   ]
  },
  {
   "cell_type": "code",
   "execution_count": 318,
   "id": "1b193c30",
   "metadata": {},
   "outputs": [
    {
     "name": "stdout",
     "output_type": "stream",
     "text": [
      "the total number rarely appear in the dataset 121\n"
     ]
    }
   ],
   "source": [
    "print(\"the total number rarely appear in the dataset\",count_rarely5)"
   ]
  },
  {
   "cell_type": "code",
   "execution_count": 319,
   "id": "827a2f0d",
   "metadata": {},
   "outputs": [],
   "source": [
    "## so from the dataset will have to know how many times a male and female undergraduate that always I like my stomach empty \n",
    "counts_male_rarely5=df[(df['Class']==1)&(Objects['I like my stomach empty ']==5)].shape[0]\n",
    "counts_female_rarely5=df[(df['Class']==0)&(Objects['I like my stomach empty ']==5)].shape[0]"
   ]
  },
  {
   "cell_type": "code",
   "execution_count": 320,
   "id": "83a8d4dc",
   "metadata": {},
   "outputs": [
    {
     "name": "stdout",
     "output_type": "stream",
     "text": [
      "the total numberof time of male that rarely like their stomach empty is 60\n",
      "the total number of female that rarely like their stomach empty is 61\n"
     ]
    }
   ],
   "source": [
    "print(\"the total numberof time of male that rarely like their stomach empty is\",counts_male_rarely5)\n",
    "print(\"the total number of female that rarely like their stomach empty is\",counts_female_rarely5)"
   ]
  },
  {
   "cell_type": "code",
   "execution_count": 321,
   "id": "843924d1",
   "metadata": {},
   "outputs": [
    {
     "name": "stdout",
     "output_type": "stream",
     "text": [
      "the total percentage of male that rarely like their stomach empty 49.586776859504134 %\n",
      "===============================================================================================================\n",
      "the total percentage of female that rarely like their stomach empty  50.413223140495866 %\n"
     ]
    }
   ],
   "source": [
    "\n",
    "male_rarely5_percentage=(60/121)*100\n",
    "print('the total percentage of male that rarely like their stomach empty',male_rarely5_percentage,'%')\n",
    "print('===============================================================================================================')\n",
    "female_rarely5_percentage=(61/121)*100\n",
    "print('the total percentage of female that rarely like their stomach empty ',female_rarely5_percentage,'%')"
   ]
  },
  {
   "cell_type": "code",
   "execution_count": 322,
   "id": "3ff6e289",
   "metadata": {},
   "outputs": [],
   "source": [
    "Classes33=[counts_male_rarely5,counts_female_rarely5]\n",
    "percentage33=[male_rarely5_percentage,female_rarely5_percentage]"
   ]
  },
  {
   "cell_type": "code",
   "execution_count": 323,
   "id": "e9e1054d",
   "metadata": {},
   "outputs": [
    {
     "name": "stderr",
     "output_type": "stream",
     "text": [
      "C:\\Users\\SBMCODED\\AppData\\Local\\Programs\\Python\\Python310\\lib\\site-packages\\seaborn\\_decorators.py:36: FutureWarning: Pass the following variables as keyword args: x, y. From version 0.12, the only valid positional argument will be `data`, and passing other arguments without an explicit keyword will result in an error or misinterpretation.\n",
      "  warnings.warn(\n"
     ]
    },
    {
     "data": {
      "text/plain": [
       "Text(0.5, 1.0, ' the graphical representation of male and female undergraduate that rarely like their stomach empty ')"
      ]
     },
     "execution_count": 323,
     "metadata": {},
     "output_type": "execute_result"
    },
    {
     "data": {
      "image/png": "[encoded data removed]",
      "text/plain": [
       "<Figure size 432x288 with 1 Axes>"
      ]
     },
     "metadata": {
      "needs_background": "light"
     },
     "output_type": "display_data"
    }
   ],
   "source": [
    "sns.barplot(Classes33,percentage33)\n",
    "plt.title(\" the graphical representation of male and female undergraduate that rarely like their stomach empty \")"
   ]
  },
  {
   "cell_type": "markdown",
   "id": "7e21ec3d",
   "metadata": {},
   "source": [
    "## working on sometimes"
   ]
  },
  {
   "cell_type": "code",
   "execution_count": 324,
   "id": "a7596d98",
   "metadata": {},
   "outputs": [],
   "source": [
    "## print how many times sometimes appear in the dataset. the dataset has undergo labelendcoder() so all the value has been converted to numeric form\n",
    "count_sometimes5=Objects[Objects['I like my stomach empty ']==6].shape[0]"
   ]
  },
  {
   "cell_type": "code",
   "execution_count": 325,
   "id": "11ff3598",
   "metadata": {},
   "outputs": [
    {
     "name": "stdout",
     "output_type": "stream",
     "text": [
      "the total number sometimes appear in the dataset 83\n"
     ]
    }
   ],
   "source": [
    "print(\"the total number sometimes appear in the dataset\",count_sometimes5)"
   ]
  },
  {
   "cell_type": "code",
   "execution_count": 326,
   "id": "61d1bf47",
   "metadata": {},
   "outputs": [],
   "source": [
    "## so from the dataset will have to know how many times a male and female undergraduate that always I like my stomach empty \n",
    "counts_male_sometimes5=df[(df['Class']==1)&(Objects['I like my stomach empty ']==6)].shape[0]\n",
    "counts_female_sometimes5=df[(df['Class']==0)&(Objects['I like my stomach empty ']==6)].shape[0]"
   ]
  },
  {
   "cell_type": "code",
   "execution_count": 327,
   "id": "31ee3bd8",
   "metadata": {},
   "outputs": [
    {
     "name": "stdout",
     "output_type": "stream",
     "text": [
      "the total numberof time of male that sometimes like their stomach empty is 41\n",
      "the total number of female that sometimes like their stomach empty is 42\n"
     ]
    }
   ],
   "source": [
    "print(\"the total numberof time of male that sometimes like their stomach empty is\",counts_male_sometimes5)\n",
    "print(\"the total number of female that sometimes like their stomach empty is\",counts_female_sometimes5)"
   ]
  },
  {
   "cell_type": "code",
   "execution_count": 328,
   "id": "96a35390",
   "metadata": {},
   "outputs": [
    {
     "name": "stdout",
     "output_type": "stream",
     "text": [
      "the total percentage of male that sometimes like their stomach empty 49.39759036144578 %\n",
      "===============================================================================================================\n",
      "the total percentage of female that sometimes like their stomach empty  50.602409638554214 %\n"
     ]
    }
   ],
   "source": [
    "\n",
    "male_sometimes5_percentage=(41/83)*100\n",
    "print('the total percentage of male that sometimes like their stomach empty',male_sometimes5_percentage,'%')\n",
    "print('===============================================================================================================')\n",
    "female_sometimes5_percentage=(42/83)*100\n",
    "print('the total percentage of female that sometimes like their stomach empty ',female_sometimes5_percentage,'%')"
   ]
  },
  {
   "cell_type": "code",
   "execution_count": 329,
   "id": "7e6c99db",
   "metadata": {},
   "outputs": [],
   "source": [
    "Classes34=[counts_male_sometimes5,counts_female_sometimes5]\n",
    "percentage34=[male_sometimes5_percentage,female_sometimes5_percentage]"
   ]
  },
  {
   "cell_type": "code",
   "execution_count": 330,
   "id": "bef52272",
   "metadata": {},
   "outputs": [
    {
     "name": "stderr",
     "output_type": "stream",
     "text": [
      "C:\\Users\\SBMCODED\\AppData\\Local\\Programs\\Python\\Python310\\lib\\site-packages\\seaborn\\_decorators.py:36: FutureWarning: Pass the following variables as keyword args: x, y. From version 0.12, the only valid positional argument will be `data`, and passing other arguments without an explicit keyword will result in an error or misinterpretation.\n",
      "  warnings.warn(\n"
     ]
    },
    {
     "data": {
      "text/plain": [
       "Text(0.5, 1.0, ' the graphical representation of male and female undergraduate that sometimes like their stomach empty ')"
      ]
     },
     "execution_count": 330,
     "metadata": {},
     "output_type": "execute_result"
    },
    {
     "data": {
      "image/png": "[encoded data removed]",
      "text/plain": [
       "<Figure size 432x288 with 1 Axes>"
      ]
     },
     "metadata": {
      "needs_background": "light"
     },
     "output_type": "display_data"
    }
   ],
   "source": [
    "sns.barplot(Classes34,percentage34)\n",
    "plt.title(\" the graphical representation of male and female undergraduate that sometimes like their stomach empty \")"
   ]
  },
  {
   "cell_type": "markdown",
   "id": "8263ad0f",
   "metadata": {},
   "source": [
    "## after working on the dataset somethings that was discovered "
   ]
  },
  {
   "cell_type": "markdown",
   "id": "eafc8f86",
   "metadata": {},
   "source": [
    "## working on I fast to avoid eating dataset"
   ]
  },
  {
   "cell_type": "markdown",
   "id": "5b63de75",
   "metadata": {},
   "source": [
    "## always"
   ]
  },
  {
   "cell_type": "code",
   "execution_count": 331,
   "id": "5951a65b",
   "metadata": {},
   "outputs": [],
   "source": [
    "## print how many times always appear in the dataset. the dataset has undergo labelendcoder() so all the value has been converted to numeric form\n",
    "counts_Always6=Objects[Objects['I fast to avoid eating']==0].shape[0]\n",
    "## print how many times always appear in the dataset. the dataset has undergo labelendcoder() so all the value has been converted to numeric form\n",
    "count_Always6=Objects[Objects['I fast to avoid eating']==1].shape[0]"
   ]
  },
  {
   "cell_type": "code",
   "execution_count": 332,
   "id": "30c8efe2",
   "metadata": {},
   "outputs": [],
   "source": [
    "count_always6=counts_Always6+count_Always6"
   ]
  },
  {
   "cell_type": "code",
   "execution_count": 333,
   "id": "38f12267",
   "metadata": {},
   "outputs": [
    {
     "name": "stdout",
     "output_type": "stream",
     "text": [
      "the total number of time always appear in the dataset 40\n"
     ]
    }
   ],
   "source": [
    "print(\"the total number of time always appear in the dataset\",count_always6)"
   ]
  },
  {
   "cell_type": "code",
   "execution_count": 334,
   "id": "37349abe",
   "metadata": {},
   "outputs": [],
   "source": [
    "#### so from the dataset will have to know how many times a male and female undergraduate often like their stomach empty\n",
    "counts_male_Always=round(40*0.46)\n",
    "count_female_Always=round(40*0.54)"
   ]
  },
  {
   "cell_type": "code",
   "execution_count": 335,
   "id": "ae1a6c10",
   "metadata": {},
   "outputs": [
    {
     "name": "stdout",
     "output_type": "stream",
     "text": [
      "the total number of male undergraduate that always fast to avoid food 18\n",
      "the total number of female undergraduate that always fast to avoid food 22\n"
     ]
    }
   ],
   "source": [
    "print(\"the total number of male undergraduate that always fast to avoid food\",counts_male_Always)\n",
    "print(\"the total number of female undergraduate that always fast to avoid food\",count_female_Always)"
   ]
  },
  {
   "cell_type": "code",
   "execution_count": 336,
   "id": "72ea92ba",
   "metadata": {},
   "outputs": [
    {
     "name": "stdout",
     "output_type": "stream",
     "text": [
      "the total percentage of male that always fast to avoid eating  45.0 %\n",
      "===============================================================================================================\n",
      "the total percentage of female that always fast to avoid eating  55.00000000000001 %\n"
     ]
    }
   ],
   "source": [
    "\n",
    "male_always6_percentage=(18/40)*100\n",
    "print('the total percentage of male that always fast to avoid eating ',male_always6_percentage,'%')\n",
    "print('===============================================================================================================')\n",
    "female_always6_percentage=(22/40)*100\n",
    "print('the total percentage of female that always fast to avoid eating ',female_always6_percentage,'%')"
   ]
  },
  {
   "cell_type": "code",
   "execution_count": 337,
   "id": "34c15115",
   "metadata": {},
   "outputs": [],
   "source": [
    "Classes35=[counts_male_Always,count_female_Always]\n",
    "percentage35=[male_always6_percentage,female_always6_percentage]"
   ]
  },
  {
   "cell_type": "code",
   "execution_count": 338,
   "id": "68530fb2",
   "metadata": {},
   "outputs": [
    {
     "name": "stderr",
     "output_type": "stream",
     "text": [
      "C:\\Users\\SBMCODED\\AppData\\Local\\Programs\\Python\\Python310\\lib\\site-packages\\seaborn\\_decorators.py:36: FutureWarning: Pass the following variables as keyword args: x, y. From version 0.12, the only valid positional argument will be `data`, and passing other arguments without an explicit keyword will result in an error or misinterpretation.\n",
      "  warnings.warn(\n"
     ]
    },
    {
     "data": {
      "text/plain": [
       "Text(0.5, 1.0, ' the graphical representation of male and female undergraduate that always fast to avoid eating ')"
      ]
     },
     "execution_count": 338,
     "metadata": {},
     "output_type": "execute_result"
    },
    {
     "data": {
      "image/png": "[encoded data removed]",
      "text/plain": [
       "<Figure size 432x288 with 1 Axes>"
      ]
     },
     "metadata": {
      "needs_background": "light"
     },
     "output_type": "display_data"
    }
   ],
   "source": [
    "sns.barplot(Classes35,percentage35)\n",
    "plt.title(\" the graphical representation of male and female undergraduate that always fast to avoid eating \")"
   ]
  },
  {
   "cell_type": "markdown",
   "id": "a3cf70da",
   "metadata": {},
   "source": [
    "## working on never"
   ]
  },
  {
   "cell_type": "code",
   "execution_count": 339,
   "id": "99dc300c",
   "metadata": {},
   "outputs": [],
   "source": [
    "## print how many times never appear in the dataset. the dataset has undergo labelendcoder() so all the value has been converted to numeric form\n",
    "counts_Never6=Objects[Objects['I fast to avoid eating']==2].shape[0]\n",
    "## print how many times never appear in the dataset. the dataset has undergo labelendcoder() so all the value has been converted to numeric form\n",
    "count_Never6=Objects[Objects['I fast to avoid eating']==3].shape[0]"
   ]
  },
  {
   "cell_type": "code",
   "execution_count": 340,
   "id": "e7bb6f55",
   "metadata": {},
   "outputs": [],
   "source": [
    "count_never6=counts_Never6+count_Never6"
   ]
  },
  {
   "cell_type": "code",
   "execution_count": 341,
   "id": "a04cb8b7",
   "metadata": {},
   "outputs": [
    {
     "name": "stdout",
     "output_type": "stream",
     "text": [
      "the total number of times never appear in the dataset 64\n"
     ]
    }
   ],
   "source": [
    "print('the total number of times never appear in the dataset',count_never6)"
   ]
  },
  {
   "cell_type": "code",
   "execution_count": 342,
   "id": "90972bbd",
   "metadata": {},
   "outputs": [],
   "source": [
    "#### so from the dataset will have to know how many times a male and female undergraduate\n",
    "counts_male_Never=round(64*0.46)\n",
    "count_female_Never=round(64*0.54)"
   ]
  },
  {
   "cell_type": "code",
   "execution_count": 343,
   "id": "4bf752d8",
   "metadata": {},
   "outputs": [
    {
     "name": "stdout",
     "output_type": "stream",
     "text": [
      "the total number of male undergraduate that never fast to avoid eating 29\n",
      "the total number of female undergraduate that never fast to avoid eating 35\n"
     ]
    }
   ],
   "source": [
    "print(\"the total number of male undergraduate that never fast to avoid eating\",counts_male_Never)\n",
    "print(\"the total number of female undergraduate that never fast to avoid eating\",count_female_Never)"
   ]
  },
  {
   "cell_type": "code",
   "execution_count": 344,
   "id": "751b8551",
   "metadata": {},
   "outputs": [
    {
     "name": "stdout",
     "output_type": "stream",
     "text": [
      "the total percentage of male that always fast to avoid eating  45.3125 %\n",
      "===============================================================================================================\n",
      "the total percentage of female that always fast to avoid eating  54.6875 %\n"
     ]
    }
   ],
   "source": [
    "\n",
    "male_never6_percentage=(29/64)*100\n",
    "print('the total percentage of male that always fast to avoid eating ',male_never6_percentage,'%')\n",
    "print('===============================================================================================================')\n",
    "female_never6_percentage=(35/64)*100\n",
    "print('the total percentage of female that always fast to avoid eating ',female_never6_percentage,'%')"
   ]
  },
  {
   "cell_type": "code",
   "execution_count": 345,
   "id": "a63021bc",
   "metadata": {},
   "outputs": [],
   "source": [
    "Classes36=[counts_male_Never,count_female_Never]\n",
    "percentage36=[male_always6_percentage,female_always6_percentage]"
   ]
  },
  {
   "cell_type": "code",
   "execution_count": 346,
   "id": "4ef744f5",
   "metadata": {},
   "outputs": [
    {
     "name": "stderr",
     "output_type": "stream",
     "text": [
      "C:\\Users\\SBMCODED\\AppData\\Local\\Programs\\Python\\Python310\\lib\\site-packages\\seaborn\\_decorators.py:36: FutureWarning: Pass the following variables as keyword args: x, y. From version 0.12, the only valid positional argument will be `data`, and passing other arguments without an explicit keyword will result in an error or misinterpretation.\n",
      "  warnings.warn(\n"
     ]
    },
    {
     "data": {
      "text/plain": [
       "Text(0.5, 1.0, ' the graphical representation of male and female undergraduate that never fast to avoid eating ')"
      ]
     },
     "execution_count": 346,
     "metadata": {},
     "output_type": "execute_result"
    },
    {
     "data": {
      "image/png": "[encoded data removed]",
      "text/plain": [
       "<Figure size 432x288 with 1 Axes>"
      ]
     },
     "metadata": {
      "needs_background": "light"
     },
     "output_type": "display_data"
    }
   ],
   "source": [
    "sns.barplot(Classes36,percentage36)\n",
    "plt.title(\" the graphical representation of male and female undergraduate that never fast to avoid eating \")"
   ]
  },
  {
   "cell_type": "markdown",
   "id": "1a1580a4",
   "metadata": {},
   "source": [
    "## working on often"
   ]
  },
  {
   "cell_type": "code",
   "execution_count": 347,
   "id": "ff1fe0b1",
   "metadata": {},
   "outputs": [],
   "source": [
    "## print how many times sometimes appear in the dataset. the dataset has undergo labelendcoder() so all the value has been converted to numeric form\n",
    "count_often6=Objects[Objects['I fast to avoid eating']==4].shape[0]"
   ]
  },
  {
   "cell_type": "code",
   "execution_count": 348,
   "id": "c1ddb71d",
   "metadata": {},
   "outputs": [
    {
     "name": "stdout",
     "output_type": "stream",
     "text": [
      "the total number of times often appear in the dataset is 24\n"
     ]
    }
   ],
   "source": [
    "print('the total number of times often appear in the dataset is',count_often6)"
   ]
  },
  {
   "cell_type": "code",
   "execution_count": 349,
   "id": "5af9d80c",
   "metadata": {},
   "outputs": [],
   "source": [
    "## so from the dataset will have to know how many times a male and female undergraduate that often fast to avoid eating\n",
    "counts_male_often6=df[(df['Class']==1)&(Objects['I fast to avoid eating']==4)].shape[0]\n",
    "counts_female_often6=df[(df['Class']==0)&(Objects['I fast to avoid eating']==4)].shape[0]"
   ]
  },
  {
   "cell_type": "code",
   "execution_count": 350,
   "id": "4cb586d3",
   "metadata": {},
   "outputs": [
    {
     "name": "stdout",
     "output_type": "stream",
     "text": [
      "the total numberof time of male that often fast to avoid eating is 12\n",
      "the total number of female that often fast to avoid eating is 12\n"
     ]
    }
   ],
   "source": [
    "print(\"the total numberof time of male that often fast to avoid eating is\",counts_male_often6)\n",
    "print(\"the total number of female that often fast to avoid eating is\",counts_female_often6)"
   ]
  },
  {
   "cell_type": "code",
   "execution_count": 351,
   "id": "f4769bda",
   "metadata": {},
   "outputs": [
    {
     "name": "stdout",
     "output_type": "stream",
     "text": [
      "the total percentage of male that often fast to avoid eating  50.0 %\n",
      "===============================================================================================================\n",
      "the total percentage of female that often fast to avoid eating  50.0 %\n"
     ]
    }
   ],
   "source": [
    "\n",
    "male_often6_percentage=(12/24)*100\n",
    "print('the total percentage of male that often fast to avoid eating ',male_often6_percentage,'%')\n",
    "print('===============================================================================================================')\n",
    "female_often6_percentage=(12/24)*100\n",
    "print('the total percentage of female that often fast to avoid eating ',female_often6_percentage,'%')"
   ]
  },
  {
   "cell_type": "code",
   "execution_count": 352,
   "id": "5b8e1b1f",
   "metadata": {},
   "outputs": [],
   "source": [
    "Classes37=[counts_male_often6,counts_female_often6]\n",
    "percentage37=[male_often6_percentage,female_often6_percentage]"
   ]
  },
  {
   "cell_type": "code",
   "execution_count": 353,
   "id": "e08f4120",
   "metadata": {},
   "outputs": [
    {
     "name": "stderr",
     "output_type": "stream",
     "text": [
      "C:\\Users\\SBMCODED\\AppData\\Local\\Programs\\Python\\Python310\\lib\\site-packages\\seaborn\\_decorators.py:36: FutureWarning: Pass the following variables as keyword args: x, y. From version 0.12, the only valid positional argument will be `data`, and passing other arguments without an explicit keyword will result in an error or misinterpretation.\n",
      "  warnings.warn(\n"
     ]
    },
    {
     "data": {
      "text/plain": [
       "Text(0.5, 1.0, ' the graphical representation of male and female undergraduate that often fast to avoid eating ')"
      ]
     },
     "execution_count": 353,
     "metadata": {},
     "output_type": "execute_result"
    },
    {
     "data": {
      "image/png": "[encoded data removed]",
      "text/plain": [
       "<Figure size 432x288 with 1 Axes>"
      ]
     },
     "metadata": {
      "needs_background": "light"
     },
     "output_type": "display_data"
    }
   ],
   "source": [
    "sns.barplot(Classes37,percentage37)\n",
    "plt.title(\" the graphical representation of male and female undergraduate that often fast to avoid eating \")"
   ]
  },
  {
   "cell_type": "markdown",
   "id": "9a7e6c8f",
   "metadata": {},
   "source": [
    "## working on rarely"
   ]
  },
  {
   "cell_type": "code",
   "execution_count": 354,
   "id": "581503d6",
   "metadata": {},
   "outputs": [],
   "source": [
    "## print how many times rarely appear in the dataset. the dataset has undergo labelendcoder() so all the value has been converted to numeric form\n",
    "count_rarely6=Objects[Objects['I fast to avoid eating']==5].shape[0]"
   ]
  },
  {
   "cell_type": "code",
   "execution_count": 355,
   "id": "9a916b80",
   "metadata": {},
   "outputs": [
    {
     "name": "stdout",
     "output_type": "stream",
     "text": [
      "the total number of times rarely appear in the dataset is 107\n"
     ]
    }
   ],
   "source": [
    "print('the total number of times rarely appear in the dataset is',count_rarely6)"
   ]
  },
  {
   "cell_type": "code",
   "execution_count": 356,
   "id": "1db29500",
   "metadata": {},
   "outputs": [],
   "source": [
    "## so from the dataset will have to know how many times a male and female undergraduate that often fast to avoid eating\n",
    "counts_male_rarely6=df[(df['Class']==1)&(Objects['I fast to avoid eating']==5)].shape[0]\n",
    "counts_female_rarely6=df[(df['Class']==0)&(Objects['I fast to avoid eating']==5)].shape[0]"
   ]
  },
  {
   "cell_type": "code",
   "execution_count": 357,
   "id": "ab50ad87",
   "metadata": {},
   "outputs": [
    {
     "name": "stdout",
     "output_type": "stream",
     "text": [
      "the total numberof time of male that rarely fast to avoid eating is 53\n",
      "the total number of female that rarely fast to avoid eating is 54\n"
     ]
    }
   ],
   "source": [
    "print(\"the total numberof time of male that rarely fast to avoid eating is\",counts_male_rarely6)\n",
    "print(\"the total number of female that rarely fast to avoid eating is\",counts_female_rarely6)"
   ]
  },
  {
   "cell_type": "code",
   "execution_count": 358,
   "id": "10d03d1b",
   "metadata": {},
   "outputs": [
    {
     "name": "stdout",
     "output_type": "stream",
     "text": [
      "the total percentage of male that rarely fast to avoid eating  49.532710280373834 %\n",
      "===============================================================================================================\n",
      "the total percentage of female that rarely fast to avoid eating  52.42718446601942 %\n"
     ]
    }
   ],
   "source": [
    "\n",
    "male_rarely6_percentage=(53/107)*100\n",
    "print('the total percentage of male that rarely fast to avoid eating ',male_rarely6_percentage,'%')\n",
    "print('===============================================================================================================')\n",
    "female_rarely6_percentage=(54/103)*100\n",
    "print('the total percentage of female that rarely fast to avoid eating ',female_rarely6_percentage,'%')"
   ]
  },
  {
   "cell_type": "code",
   "execution_count": 359,
   "id": "2268580c",
   "metadata": {},
   "outputs": [],
   "source": [
    "Classes38=[counts_male_rarely6,counts_female_rarely6]\n",
    "percentage38=[male_rarely6_percentage,female_rarely6_percentage]"
   ]
  },
  {
   "cell_type": "code",
   "execution_count": 360,
   "id": "15fa8f92",
   "metadata": {},
   "outputs": [
    {
     "name": "stderr",
     "output_type": "stream",
     "text": [
      "C:\\Users\\SBMCODED\\AppData\\Local\\Programs\\Python\\Python310\\lib\\site-packages\\seaborn\\_decorators.py:36: FutureWarning: Pass the following variables as keyword args: x, y. From version 0.12, the only valid positional argument will be `data`, and passing other arguments without an explicit keyword will result in an error or misinterpretation.\n",
      "  warnings.warn(\n"
     ]
    },
    {
     "data": {
      "text/plain": [
       "Text(0.5, 1.0, ' the graphical representation of male and female undergraduate that rarely fast to avoid eating ')"
      ]
     },
     "execution_count": 360,
     "metadata": {},
     "output_type": "execute_result"
    },
    {
     "data": {
      "image/png": "[encoded data removed]",
      "text/plain": [
       "<Figure size 432x288 with 1 Axes>"
      ]
     },
     "metadata": {
      "needs_background": "light"
     },
     "output_type": "display_data"
    }
   ],
   "source": [
    "sns.barplot(Classes38,percentage38)\n",
    "plt.title(\" the graphical representation of male and female undergraduate that rarely fast to avoid eating \")"
   ]
  },
  {
   "cell_type": "markdown",
   "id": "3c9ada01",
   "metadata": {},
   "source": [
    "## working on sometimes"
   ]
  },
  {
   "cell_type": "code",
   "execution_count": 361,
   "id": "cf639ba3",
   "metadata": {},
   "outputs": [],
   "source": [
    "## print how many times sometimes appear in the dataset. the dataset has undergo labelendcoder() so all the value has been converted to numeric form\n",
    "count_sometimes6=Objects[Objects['I fast to avoid eating']==6].shape[0]"
   ]
  },
  {
   "cell_type": "code",
   "execution_count": 362,
   "id": "048ed7d0",
   "metadata": {},
   "outputs": [
    {
     "name": "stdout",
     "output_type": "stream",
     "text": [
      "the total number of times sometimes appear in the dataset is 156\n"
     ]
    }
   ],
   "source": [
    "print('the total number of times sometimes appear in the dataset is',count_sometimes6)"
   ]
  },
  {
   "cell_type": "code",
   "execution_count": 363,
   "id": "76c12260",
   "metadata": {},
   "outputs": [],
   "source": [
    "## so from the dataset will have to know how many times a male and female undergraduate that sometimes fast to avoid eating\n",
    "counts_male_sometimes6=df[(df['Class']==1)&(Objects['I fast to avoid eating']==6)].shape[0]\n",
    "counts_female_sometimes6=df[(df['Class']==0)&(Objects['I fast to avoid eating']==6)].shape[0]"
   ]
  },
  {
   "cell_type": "code",
   "execution_count": 364,
   "id": "cf0e5eb3",
   "metadata": {},
   "outputs": [
    {
     "name": "stdout",
     "output_type": "stream",
     "text": [
      "the total numberof time of male that sometimes fast to avoid eating is 78\n",
      "the total number of female that sometimes fast to avoid eating is 78\n"
     ]
    }
   ],
   "source": [
    "print(\"the total numberof time of male that sometimes fast to avoid eating is\",counts_male_sometimes6)\n",
    "print(\"the total number of female that sometimes fast to avoid eating is\",counts_female_sometimes6)"
   ]
  },
  {
   "cell_type": "code",
   "execution_count": 365,
   "id": "f3b11f81",
   "metadata": {},
   "outputs": [
    {
     "name": "stdout",
     "output_type": "stream",
     "text": [
      "the total percentage of male that sometimes fast to avoid eating  50.0 %\n",
      "===============================================================================================================\n",
      "the total percentage of female that sometimes fast to avoid eating  50.0 %\n"
     ]
    }
   ],
   "source": [
    "\n",
    "male_sometimes6_percentage=(78/156)*100\n",
    "print('the total percentage of male that sometimes fast to avoid eating ',male_sometimes6_percentage,'%')\n",
    "print('===============================================================================================================')\n",
    "female_sometimes6_percentage=(78/156)*100\n",
    "print('the total percentage of female that sometimes fast to avoid eating ',female_sometimes6_percentage,'%')"
   ]
  },
  {
   "cell_type": "code",
   "execution_count": 366,
   "id": "eddf3535",
   "metadata": {},
   "outputs": [],
   "source": [
    "Classes39=[counts_male_sometimes6,counts_female_sometimes6]\n",
    "percentage39=[male_sometimes6_percentage,female_sometimes6_percentage]"
   ]
  },
  {
   "cell_type": "code",
   "execution_count": 367,
   "id": "2f2a26e1",
   "metadata": {},
   "outputs": [
    {
     "name": "stderr",
     "output_type": "stream",
     "text": [
      "C:\\Users\\SBMCODED\\AppData\\Local\\Programs\\Python\\Python310\\lib\\site-packages\\seaborn\\_decorators.py:36: FutureWarning: Pass the following variables as keyword args: x, y. From version 0.12, the only valid positional argument will be `data`, and passing other arguments without an explicit keyword will result in an error or misinterpretation.\n",
      "  warnings.warn(\n"
     ]
    },
    {
     "data": {
      "text/plain": [
       "Text(0.5, 1.0, ' the graphical representation of male and female undergraduate that rarely fast to avoid eating ')"
      ]
     },
     "execution_count": 367,
     "metadata": {},
     "output_type": "execute_result"
    },
    {
     "data": {
      "image/png": "[encoded data removed]",
      "text/plain": [
       "<Figure size 432x288 with 1 Axes>"
      ]
     },
     "metadata": {
      "needs_background": "light"
     },
     "output_type": "display_data"
    }
   ],
   "source": [
    "sns.barplot(Classes39,percentage39)\n",
    "plt.title(\" the graphical representation of male and female undergraduate that rarely fast to avoid eating \")"
   ]
  },
  {
   "cell_type": "markdown",
   "id": "edc38c1b",
   "metadata": {},
   "source": [
    "## working on usually"
   ]
  },
  {
   "cell_type": "code",
   "execution_count": 368,
   "id": "8d583d01",
   "metadata": {},
   "outputs": [],
   "source": [
    "## print how many times sometimes appear in the dataset. the dataset has undergo labelendcoder() so all the value has been converted to numeric form\n",
    "count_usually6=Objects[Objects['I fast to avoid eating']==7].shape[0]"
   ]
  },
  {
   "cell_type": "code",
   "execution_count": 369,
   "id": "27ba7033",
   "metadata": {},
   "outputs": [
    {
     "name": "stdout",
     "output_type": "stream",
     "text": [
      "the total number of times usually appear in the dataset is 16\n"
     ]
    }
   ],
   "source": [
    "print('the total number of times usually appear in the dataset is',count_usually6)"
   ]
  },
  {
   "cell_type": "code",
   "execution_count": 370,
   "id": "cff45897",
   "metadata": {},
   "outputs": [],
   "source": [
    "## so from the dataset will have to know how many times a male and female undergraduate that sometimes fast to avoid eating\n",
    "counts_male_usually6=df[(df['Class']==1)&(Objects['I fast to avoid eating']==7)].shape[0]\n",
    "counts_female_usually6=df[(df['Class']==0)&(Objects['I fast to avoid eating']==7)].shape[0]"
   ]
  },
  {
   "cell_type": "code",
   "execution_count": 371,
   "id": "913306eb",
   "metadata": {},
   "outputs": [
    {
     "name": "stdout",
     "output_type": "stream",
     "text": [
      "the total numberof time of male that usually fast to avoid eating is 8\n",
      "the total number of female that usually fast to avoid eating is 8\n"
     ]
    }
   ],
   "source": [
    "print(\"the total numberof time of male that usually fast to avoid eating is\",counts_male_usually6)\n",
    "print(\"the total number of female that usually fast to avoid eating is\",counts_female_usually6)"
   ]
  },
  {
   "cell_type": "code",
   "execution_count": 372,
   "id": "ec924dbb",
   "metadata": {},
   "outputs": [
    {
     "name": "stdout",
     "output_type": "stream",
     "text": [
      "the total percentage of male that usually fast to avoid eating  50.0 %\n",
      "===============================================================================================================\n",
      "the total percentage of female that usually fast to avoid eating  50.0 %\n"
     ]
    }
   ],
   "source": [
    "\n",
    "male_usually6_percentage=(8/16)*100\n",
    "print('the total percentage of male that usually fast to avoid eating ',male_usually6_percentage,'%')\n",
    "print('===============================================================================================================')\n",
    "female_usually6_percentage=(8/16)*100\n",
    "print('the total percentage of female that usually fast to avoid eating ',female_usually6_percentage,'%')"
   ]
  },
  {
   "cell_type": "code",
   "execution_count": 373,
   "id": "45d9df02",
   "metadata": {},
   "outputs": [],
   "source": [
    "Classes40=[counts_male_usually6,counts_female_usually6]\n",
    "percentage40=[male_usually6_percentage,female_usually6_percentage]"
   ]
  },
  {
   "cell_type": "code",
   "execution_count": 374,
   "id": "b4206e10",
   "metadata": {},
   "outputs": [
    {
     "name": "stderr",
     "output_type": "stream",
     "text": [
      "C:\\Users\\SBMCODED\\AppData\\Local\\Programs\\Python\\Python310\\lib\\site-packages\\seaborn\\_decorators.py:36: FutureWarning: Pass the following variables as keyword args: x, y. From version 0.12, the only valid positional argument will be `data`, and passing other arguments without an explicit keyword will result in an error or misinterpretation.\n",
      "  warnings.warn(\n"
     ]
    },
    {
     "data": {
      "text/plain": [
       "Text(0.5, 1.0, ' the graphical representation of male and female undergraduate that usually fast to avoid eating ')"
      ]
     },
     "execution_count": 374,
     "metadata": {},
     "output_type": "execute_result"
    },
    {
     "data": {
      "image/png": "[encoded data removed]",
      "text/plain": [
       "<Figure size 432x288 with 1 Axes>"
      ]
     },
     "metadata": {
      "needs_background": "light"
     },
     "output_type": "display_data"
    }
   ],
   "source": [
    "sns.barplot(Classes40,percentage40)\n",
    "plt.title(\" the graphical representation of male and female undergraduate that usually fast to avoid eating \")"
   ]
  },
  {
   "cell_type": "code",
   "execution_count": null,
   "id": "fc62cfa9",
   "metadata": {},
   "outputs": [],
   "source": []
  }
 ],
 "metadata": {
  "kernelspec": {
   "display_name": "Python 3 (ipykernel)",
   "language": "python",
   "name": "python3"
  },
  "language_info": {
   "codemirror_mode": {
    "name": "ipython",
    "version": 3
   },
   "file_extension": ".py",
   "mimetype": "text/x-python",
   "name": "python",
   "nbconvert_exporter": "python",
   "pygments_lexer": "ipython3",
   "version": "3.10.2"
  }
 },
 "nbformat": 4,
 "nbformat_minor": 5
}
